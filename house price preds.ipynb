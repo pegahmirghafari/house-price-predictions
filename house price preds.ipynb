{
 "cells": [
  {
   "cell_type": "markdown",
   "metadata": {},
   "source": [
    "# Housing Price Predictions"
   ]
  },
  {
   "cell_type": "markdown",
   "metadata": {},
   "source": [
    "## Problem Statement"
   ]
  },
  {
   "cell_type": "markdown",
   "metadata": {},
   "source": [
    "We'd like to create a proof-of-concept model that demonstrates we can achieve a low error metric despite incomplete or missing data. The only currently available dataset is the Ames Housing Price dataset, so we must use the resources at hand to construct an accurate model to show to non-technical stakeholders within the company."
   ]
  },
  {
   "cell_type": "markdown",
   "metadata": {},
   "source": [
    "## Executive Summary"
   ]
  },
  {
   "cell_type": "markdown",
   "metadata": {},
   "source": [
    "Our dataset is composed of ~3000 observations of 80 variables, plus our target variable: the final sale price of the house. Our final evaluation for the model is based on a test set which has been stripped of final sale prices, so in order to evaluate our model we will need to conduct performance analysis against a holdout data set.\n",
    "\n",
    "We will first reference the provided data dictionary to examine missing values in the data set and subjectively determine their most likely true value.\n",
    "\n",
    "Next, we will tidy up variables which have small numbers of extreme observations (outliers) by binning the outliers with nearby values. We will also drop some features which we believe are too sparse (e.g. 2997 identical observations and 3 distinct ones) for models to interpret sensibly.\n",
    "\n",
    "Third, we will conduct feature engineering to create combinations of our different variables based on subject-matter knowledge (For example, total interior square footage of the house may be more meaningful than the square footage of the basement and the square footage of non-basement interior areas on their own), then isolate variables which have high independent predictive power and emphasize them to our models by adding them raised to the 2nd, 3rd, and 1/2 powers.\n",
    "\n",
    "Finally, we will select appropriate models to test plus a null model, and compare them individually against a weighted ensemble model, which predicts the average of all the underlying model's predictions for each data point.\n",
    "\n",
    "Our model evaluation metric has been chosen as Root Mean Squared Error. In context, the RMSE of our models reflects the idea that \"Our model has an average error of $______ across all predictions.\" This is a concise and useful metric which is easily representable to stakeholders, or our fictional company's customers. \n",
    "\n",
    "The last step will be to submit our predictions on the original test data to an \"Independent House Price Prediction Auditor,\" a.k.a. Kaggle, and find out the true performance of our model on unseen data."
   ]
  },
  {
   "cell_type": "markdown",
   "metadata": {},
   "source": [
    "## Table of Contents\n",
    "\n",
    "1. [Problem Statement](#Problem-Statement)\n",
    "- [Executive Summary](#Executive-Summary)\n",
    "- [Loading Packages and Data](#Loading-Packages-and-Data)\n",
    "- [Data Dictionary](#Data-Dictionary)\n",
    "- [Data Cleaning](#Data-Cleaning)  \n",
    "    - [Data Types and Data Dictionary Interpretation](#Data-Types-and-Data-Dictionary-Interpretation)\n",
    "    - [NA Values](#NA-Values)\n",
    "    - [Numeric-Variables](#Numeric-Variables)\n",
    "    - [Categorical Variables](#Categorical-Variables)\n",
    "    - [Low-occurrence column values identified in EDA](#Low-occurrence-column-values-identified-in-EDA)\n",
    "- [Exploratory Data Analysis](#Exploratory-Data-Analysis)\n",
    "- [Feature Engineering](#Feature-Engineering)\n",
    "- [Model Preparation](#Model-Preparation)\n",
    "- [Modeling](#Modeling)\n",
    "- [Model Selection](#Model-Selection)\n",
    "- [Model Evaluation](#Model-Evaluation)\n",
    "- [Conclusion & Recommendations](#Conclusion-&-Recommendations)\n",
    "- [References](#References)"
   ]
  },
  {
   "cell_type": "markdown",
   "metadata": {},
   "source": [
    "## Loading Packages and Data"
   ]
  },
  {
   "cell_type": "code",
   "execution_count": 1,
   "metadata": {},
   "outputs": [],
   "source": [
    "# Imports\n",
    "import numpy as np\n",
    "import pandas as pd\n",
    "import matplotlib.pyplot as plt\n",
    "import seaborn as sns\n",
    "import xgboost as xgb\n",
    "from sklearn.linear_model import Ridge, Lasso, RidgeCV, LassoCV, ElasticNet, ElasticNetCV, SGDRegressor\n",
    "from sklearn.model_selection import train_test_split, cross_val_score, GridSearchCV\n",
    "from sklearn.preprocessing import StandardScaler\n",
    "from statsmodels.stats.diagnostic import kstest_normal\n",
    "from scipy.stats import skew\n",
    "from scipy.special import boxcox1p\n",
    "from sklearn import metrics\n",
    "import warnings\n",
    "\n",
    "\n",
    "# Package Options\n",
    "warnings.filterwarnings('ignore')\n",
    "pd.set_option(\"max_rows\", None)\n",
    "pd.set_option('max_columns', None)\n",
    "\n",
    "# Data\n",
    "train = pd.read_csv('./data/train.csv')\n",
    "test = pd.read_csv('./data/test.csv')"
   ]
  },
  {
   "cell_type": "markdown",
   "metadata": {},
   "source": [
    "## Data Dictionary"
   ]
  },
  {
   "cell_type": "markdown",
   "metadata": {},
   "source": [
    "[Plaintext Data Dictionary Here](http://jse.amstat.org/v19n3/decock/DataDocumentation.txt)\n",
    "\n",
    "[Formatted Data Dictionary Here](https://www.kaggle.com/c/dsi-us-12-project-2-regression-challenge/data)"
   ]
  },
  {
   "cell_type": "markdown",
   "metadata": {},
   "source": [
    "## Data Cleaning"
   ]
  },
  {
   "cell_type": "markdown",
   "metadata": {},
   "source": [
    "### Data Types and Data Dictionary Interpretation"
   ]
  },
  {
   "cell_type": "markdown",
   "metadata": {},
   "source": [
    "In order to clean and prepare this data correctly, we need to bring the training and testing data together, otherwise we may miss categorical values present in one set but not another, and have other difficulties with replicating our data cleaning on both sets.\n",
    "to not loose track of which is which i will add a dummy column."
   ]
  },
  {
   "cell_type": "code",
   "execution_count": 2,
   "metadata": {},
   "outputs": [],
   "source": [
    "train['train'] = 1\n",
    "test['train'] = 0\n",
    "\n",
    "all_data = pd.concat([train, test])"
   ]
  },
  {
   "cell_type": "code",
   "execution_count": 3,
   "metadata": {},
   "outputs": [
    {
     "data": {
      "text/html": [
       "<div>\n",
       "<style scoped>\n",
       "    .dataframe tbody tr th:only-of-type {\n",
       "        vertical-align: middle;\n",
       "    }\n",
       "\n",
       "    .dataframe tbody tr th {\n",
       "        vertical-align: top;\n",
       "    }\n",
       "\n",
       "    .dataframe thead th {\n",
       "        text-align: right;\n",
       "    }\n",
       "</style>\n",
       "<table border=\"1\" class=\"dataframe\">\n",
       "  <thead>\n",
       "    <tr style=\"text-align: right;\">\n",
       "      <th></th>\n",
       "      <th>Id</th>\n",
       "      <th>PID</th>\n",
       "      <th>MS SubClass</th>\n",
       "      <th>MS Zoning</th>\n",
       "      <th>Lot Frontage</th>\n",
       "      <th>Lot Area</th>\n",
       "      <th>Street</th>\n",
       "      <th>Alley</th>\n",
       "      <th>Lot Shape</th>\n",
       "      <th>Land Contour</th>\n",
       "      <th>Utilities</th>\n",
       "      <th>Lot Config</th>\n",
       "      <th>Land Slope</th>\n",
       "      <th>Neighborhood</th>\n",
       "      <th>Condition 1</th>\n",
       "      <th>Condition 2</th>\n",
       "      <th>Bldg Type</th>\n",
       "      <th>House Style</th>\n",
       "      <th>Overall Qual</th>\n",
       "      <th>Overall Cond</th>\n",
       "      <th>Year Built</th>\n",
       "      <th>Year Remod/Add</th>\n",
       "      <th>Roof Style</th>\n",
       "      <th>Roof Matl</th>\n",
       "      <th>Exterior 1st</th>\n",
       "      <th>Exterior 2nd</th>\n",
       "      <th>Mas Vnr Type</th>\n",
       "      <th>Mas Vnr Area</th>\n",
       "      <th>Exter Qual</th>\n",
       "      <th>Exter Cond</th>\n",
       "      <th>Foundation</th>\n",
       "      <th>Bsmt Qual</th>\n",
       "      <th>Bsmt Cond</th>\n",
       "      <th>Bsmt Exposure</th>\n",
       "      <th>BsmtFin Type 1</th>\n",
       "      <th>BsmtFin SF 1</th>\n",
       "      <th>BsmtFin Type 2</th>\n",
       "      <th>BsmtFin SF 2</th>\n",
       "      <th>Bsmt Unf SF</th>\n",
       "      <th>Total Bsmt SF</th>\n",
       "      <th>Heating</th>\n",
       "      <th>Heating QC</th>\n",
       "      <th>Central Air</th>\n",
       "      <th>Electrical</th>\n",
       "      <th>1st Flr SF</th>\n",
       "      <th>2nd Flr SF</th>\n",
       "      <th>Low Qual Fin SF</th>\n",
       "      <th>Gr Liv Area</th>\n",
       "      <th>Bsmt Full Bath</th>\n",
       "      <th>Bsmt Half Bath</th>\n",
       "      <th>Full Bath</th>\n",
       "      <th>Half Bath</th>\n",
       "      <th>Bedroom AbvGr</th>\n",
       "      <th>Kitchen AbvGr</th>\n",
       "      <th>Kitchen Qual</th>\n",
       "      <th>TotRms AbvGrd</th>\n",
       "      <th>Functional</th>\n",
       "      <th>Fireplaces</th>\n",
       "      <th>Fireplace Qu</th>\n",
       "      <th>Garage Type</th>\n",
       "      <th>Garage Yr Blt</th>\n",
       "      <th>Garage Finish</th>\n",
       "      <th>Garage Cars</th>\n",
       "      <th>Garage Area</th>\n",
       "      <th>Garage Qual</th>\n",
       "      <th>Garage Cond</th>\n",
       "      <th>Paved Drive</th>\n",
       "      <th>Wood Deck SF</th>\n",
       "      <th>Open Porch SF</th>\n",
       "      <th>Enclosed Porch</th>\n",
       "      <th>3Ssn Porch</th>\n",
       "      <th>Screen Porch</th>\n",
       "      <th>Pool Area</th>\n",
       "      <th>Pool QC</th>\n",
       "      <th>Fence</th>\n",
       "      <th>Misc Feature</th>\n",
       "      <th>Misc Val</th>\n",
       "      <th>Mo Sold</th>\n",
       "      <th>Yr Sold</th>\n",
       "      <th>Sale Type</th>\n",
       "      <th>SalePrice</th>\n",
       "      <th>train</th>\n",
       "    </tr>\n",
       "  </thead>\n",
       "  <tbody>\n",
       "    <tr>\n",
       "      <th>0</th>\n",
       "      <td>109</td>\n",
       "      <td>533352170</td>\n",
       "      <td>60</td>\n",
       "      <td>RL</td>\n",
       "      <td>NaN</td>\n",
       "      <td>13517</td>\n",
       "      <td>Pave</td>\n",
       "      <td>NaN</td>\n",
       "      <td>IR1</td>\n",
       "      <td>Lvl</td>\n",
       "      <td>AllPub</td>\n",
       "      <td>CulDSac</td>\n",
       "      <td>Gtl</td>\n",
       "      <td>Sawyer</td>\n",
       "      <td>RRAe</td>\n",
       "      <td>Norm</td>\n",
       "      <td>1Fam</td>\n",
       "      <td>2Story</td>\n",
       "      <td>6</td>\n",
       "      <td>8</td>\n",
       "      <td>1976</td>\n",
       "      <td>2005</td>\n",
       "      <td>Gable</td>\n",
       "      <td>CompShg</td>\n",
       "      <td>HdBoard</td>\n",
       "      <td>Plywood</td>\n",
       "      <td>BrkFace</td>\n",
       "      <td>289.0</td>\n",
       "      <td>Gd</td>\n",
       "      <td>TA</td>\n",
       "      <td>CBlock</td>\n",
       "      <td>TA</td>\n",
       "      <td>TA</td>\n",
       "      <td>No</td>\n",
       "      <td>GLQ</td>\n",
       "      <td>533.0</td>\n",
       "      <td>Unf</td>\n",
       "      <td>0.0</td>\n",
       "      <td>192.0</td>\n",
       "      <td>725.0</td>\n",
       "      <td>GasA</td>\n",
       "      <td>Ex</td>\n",
       "      <td>Y</td>\n",
       "      <td>SBrkr</td>\n",
       "      <td>725</td>\n",
       "      <td>754</td>\n",
       "      <td>0</td>\n",
       "      <td>1479</td>\n",
       "      <td>0.0</td>\n",
       "      <td>0.0</td>\n",
       "      <td>2</td>\n",
       "      <td>1</td>\n",
       "      <td>3</td>\n",
       "      <td>1</td>\n",
       "      <td>Gd</td>\n",
       "      <td>6</td>\n",
       "      <td>Typ</td>\n",
       "      <td>0</td>\n",
       "      <td>NaN</td>\n",
       "      <td>Attchd</td>\n",
       "      <td>1976.0</td>\n",
       "      <td>RFn</td>\n",
       "      <td>2.0</td>\n",
       "      <td>475.0</td>\n",
       "      <td>TA</td>\n",
       "      <td>TA</td>\n",
       "      <td>Y</td>\n",
       "      <td>0</td>\n",
       "      <td>44</td>\n",
       "      <td>0</td>\n",
       "      <td>0</td>\n",
       "      <td>0</td>\n",
       "      <td>0</td>\n",
       "      <td>NaN</td>\n",
       "      <td>NaN</td>\n",
       "      <td>NaN</td>\n",
       "      <td>0</td>\n",
       "      <td>3</td>\n",
       "      <td>2010</td>\n",
       "      <td>WD</td>\n",
       "      <td>130500.0</td>\n",
       "      <td>1</td>\n",
       "    </tr>\n",
       "    <tr>\n",
       "      <th>1</th>\n",
       "      <td>544</td>\n",
       "      <td>531379050</td>\n",
       "      <td>60</td>\n",
       "      <td>RL</td>\n",
       "      <td>43.0</td>\n",
       "      <td>11492</td>\n",
       "      <td>Pave</td>\n",
       "      <td>NaN</td>\n",
       "      <td>IR1</td>\n",
       "      <td>Lvl</td>\n",
       "      <td>AllPub</td>\n",
       "      <td>CulDSac</td>\n",
       "      <td>Gtl</td>\n",
       "      <td>SawyerW</td>\n",
       "      <td>Norm</td>\n",
       "      <td>Norm</td>\n",
       "      <td>1Fam</td>\n",
       "      <td>2Story</td>\n",
       "      <td>7</td>\n",
       "      <td>5</td>\n",
       "      <td>1996</td>\n",
       "      <td>1997</td>\n",
       "      <td>Gable</td>\n",
       "      <td>CompShg</td>\n",
       "      <td>VinylSd</td>\n",
       "      <td>VinylSd</td>\n",
       "      <td>BrkFace</td>\n",
       "      <td>132.0</td>\n",
       "      <td>Gd</td>\n",
       "      <td>TA</td>\n",
       "      <td>PConc</td>\n",
       "      <td>Gd</td>\n",
       "      <td>TA</td>\n",
       "      <td>No</td>\n",
       "      <td>GLQ</td>\n",
       "      <td>637.0</td>\n",
       "      <td>Unf</td>\n",
       "      <td>0.0</td>\n",
       "      <td>276.0</td>\n",
       "      <td>913.0</td>\n",
       "      <td>GasA</td>\n",
       "      <td>Ex</td>\n",
       "      <td>Y</td>\n",
       "      <td>SBrkr</td>\n",
       "      <td>913</td>\n",
       "      <td>1209</td>\n",
       "      <td>0</td>\n",
       "      <td>2122</td>\n",
       "      <td>1.0</td>\n",
       "      <td>0.0</td>\n",
       "      <td>2</td>\n",
       "      <td>1</td>\n",
       "      <td>4</td>\n",
       "      <td>1</td>\n",
       "      <td>Gd</td>\n",
       "      <td>8</td>\n",
       "      <td>Typ</td>\n",
       "      <td>1</td>\n",
       "      <td>TA</td>\n",
       "      <td>Attchd</td>\n",
       "      <td>1997.0</td>\n",
       "      <td>RFn</td>\n",
       "      <td>2.0</td>\n",
       "      <td>559.0</td>\n",
       "      <td>TA</td>\n",
       "      <td>TA</td>\n",
       "      <td>Y</td>\n",
       "      <td>0</td>\n",
       "      <td>74</td>\n",
       "      <td>0</td>\n",
       "      <td>0</td>\n",
       "      <td>0</td>\n",
       "      <td>0</td>\n",
       "      <td>NaN</td>\n",
       "      <td>NaN</td>\n",
       "      <td>NaN</td>\n",
       "      <td>0</td>\n",
       "      <td>4</td>\n",
       "      <td>2009</td>\n",
       "      <td>WD</td>\n",
       "      <td>220000.0</td>\n",
       "      <td>1</td>\n",
       "    </tr>\n",
       "    <tr>\n",
       "      <th>2</th>\n",
       "      <td>153</td>\n",
       "      <td>535304180</td>\n",
       "      <td>20</td>\n",
       "      <td>RL</td>\n",
       "      <td>68.0</td>\n",
       "      <td>7922</td>\n",
       "      <td>Pave</td>\n",
       "      <td>NaN</td>\n",
       "      <td>Reg</td>\n",
       "      <td>Lvl</td>\n",
       "      <td>AllPub</td>\n",
       "      <td>Inside</td>\n",
       "      <td>Gtl</td>\n",
       "      <td>NAmes</td>\n",
       "      <td>Norm</td>\n",
       "      <td>Norm</td>\n",
       "      <td>1Fam</td>\n",
       "      <td>1Story</td>\n",
       "      <td>5</td>\n",
       "      <td>7</td>\n",
       "      <td>1953</td>\n",
       "      <td>2007</td>\n",
       "      <td>Gable</td>\n",
       "      <td>CompShg</td>\n",
       "      <td>VinylSd</td>\n",
       "      <td>VinylSd</td>\n",
       "      <td>None</td>\n",
       "      <td>0.0</td>\n",
       "      <td>TA</td>\n",
       "      <td>Gd</td>\n",
       "      <td>CBlock</td>\n",
       "      <td>TA</td>\n",
       "      <td>TA</td>\n",
       "      <td>No</td>\n",
       "      <td>GLQ</td>\n",
       "      <td>731.0</td>\n",
       "      <td>Unf</td>\n",
       "      <td>0.0</td>\n",
       "      <td>326.0</td>\n",
       "      <td>1057.0</td>\n",
       "      <td>GasA</td>\n",
       "      <td>TA</td>\n",
       "      <td>Y</td>\n",
       "      <td>SBrkr</td>\n",
       "      <td>1057</td>\n",
       "      <td>0</td>\n",
       "      <td>0</td>\n",
       "      <td>1057</td>\n",
       "      <td>1.0</td>\n",
       "      <td>0.0</td>\n",
       "      <td>1</td>\n",
       "      <td>0</td>\n",
       "      <td>3</td>\n",
       "      <td>1</td>\n",
       "      <td>Gd</td>\n",
       "      <td>5</td>\n",
       "      <td>Typ</td>\n",
       "      <td>0</td>\n",
       "      <td>NaN</td>\n",
       "      <td>Detchd</td>\n",
       "      <td>1953.0</td>\n",
       "      <td>Unf</td>\n",
       "      <td>1.0</td>\n",
       "      <td>246.0</td>\n",
       "      <td>TA</td>\n",
       "      <td>TA</td>\n",
       "      <td>Y</td>\n",
       "      <td>0</td>\n",
       "      <td>52</td>\n",
       "      <td>0</td>\n",
       "      <td>0</td>\n",
       "      <td>0</td>\n",
       "      <td>0</td>\n",
       "      <td>NaN</td>\n",
       "      <td>NaN</td>\n",
       "      <td>NaN</td>\n",
       "      <td>0</td>\n",
       "      <td>1</td>\n",
       "      <td>2010</td>\n",
       "      <td>WD</td>\n",
       "      <td>109000.0</td>\n",
       "      <td>1</td>\n",
       "    </tr>\n",
       "    <tr>\n",
       "      <th>3</th>\n",
       "      <td>318</td>\n",
       "      <td>916386060</td>\n",
       "      <td>60</td>\n",
       "      <td>RL</td>\n",
       "      <td>73.0</td>\n",
       "      <td>9802</td>\n",
       "      <td>Pave</td>\n",
       "      <td>NaN</td>\n",
       "      <td>Reg</td>\n",
       "      <td>Lvl</td>\n",
       "      <td>AllPub</td>\n",
       "      <td>Inside</td>\n",
       "      <td>Gtl</td>\n",
       "      <td>Timber</td>\n",
       "      <td>Norm</td>\n",
       "      <td>Norm</td>\n",
       "      <td>1Fam</td>\n",
       "      <td>2Story</td>\n",
       "      <td>5</td>\n",
       "      <td>5</td>\n",
       "      <td>2006</td>\n",
       "      <td>2007</td>\n",
       "      <td>Gable</td>\n",
       "      <td>CompShg</td>\n",
       "      <td>VinylSd</td>\n",
       "      <td>VinylSd</td>\n",
       "      <td>None</td>\n",
       "      <td>0.0</td>\n",
       "      <td>TA</td>\n",
       "      <td>TA</td>\n",
       "      <td>PConc</td>\n",
       "      <td>Gd</td>\n",
       "      <td>TA</td>\n",
       "      <td>No</td>\n",
       "      <td>Unf</td>\n",
       "      <td>0.0</td>\n",
       "      <td>Unf</td>\n",
       "      <td>0.0</td>\n",
       "      <td>384.0</td>\n",
       "      <td>384.0</td>\n",
       "      <td>GasA</td>\n",
       "      <td>Gd</td>\n",
       "      <td>Y</td>\n",
       "      <td>SBrkr</td>\n",
       "      <td>744</td>\n",
       "      <td>700</td>\n",
       "      <td>0</td>\n",
       "      <td>1444</td>\n",
       "      <td>0.0</td>\n",
       "      <td>0.0</td>\n",
       "      <td>2</td>\n",
       "      <td>1</td>\n",
       "      <td>3</td>\n",
       "      <td>1</td>\n",
       "      <td>TA</td>\n",
       "      <td>7</td>\n",
       "      <td>Typ</td>\n",
       "      <td>0</td>\n",
       "      <td>NaN</td>\n",
       "      <td>BuiltIn</td>\n",
       "      <td>2007.0</td>\n",
       "      <td>Fin</td>\n",
       "      <td>2.0</td>\n",
       "      <td>400.0</td>\n",
       "      <td>TA</td>\n",
       "      <td>TA</td>\n",
       "      <td>Y</td>\n",
       "      <td>100</td>\n",
       "      <td>0</td>\n",
       "      <td>0</td>\n",
       "      <td>0</td>\n",
       "      <td>0</td>\n",
       "      <td>0</td>\n",
       "      <td>NaN</td>\n",
       "      <td>NaN</td>\n",
       "      <td>NaN</td>\n",
       "      <td>0</td>\n",
       "      <td>4</td>\n",
       "      <td>2010</td>\n",
       "      <td>WD</td>\n",
       "      <td>174000.0</td>\n",
       "      <td>1</td>\n",
       "    </tr>\n",
       "    <tr>\n",
       "      <th>4</th>\n",
       "      <td>255</td>\n",
       "      <td>906425045</td>\n",
       "      <td>50</td>\n",
       "      <td>RL</td>\n",
       "      <td>82.0</td>\n",
       "      <td>14235</td>\n",
       "      <td>Pave</td>\n",
       "      <td>NaN</td>\n",
       "      <td>IR1</td>\n",
       "      <td>Lvl</td>\n",
       "      <td>AllPub</td>\n",
       "      <td>Inside</td>\n",
       "      <td>Gtl</td>\n",
       "      <td>SawyerW</td>\n",
       "      <td>Norm</td>\n",
       "      <td>Norm</td>\n",
       "      <td>1Fam</td>\n",
       "      <td>1.5Fin</td>\n",
       "      <td>6</td>\n",
       "      <td>8</td>\n",
       "      <td>1900</td>\n",
       "      <td>1993</td>\n",
       "      <td>Gable</td>\n",
       "      <td>CompShg</td>\n",
       "      <td>Wd Sdng</td>\n",
       "      <td>Plywood</td>\n",
       "      <td>None</td>\n",
       "      <td>0.0</td>\n",
       "      <td>TA</td>\n",
       "      <td>TA</td>\n",
       "      <td>PConc</td>\n",
       "      <td>Fa</td>\n",
       "      <td>Gd</td>\n",
       "      <td>No</td>\n",
       "      <td>Unf</td>\n",
       "      <td>0.0</td>\n",
       "      <td>Unf</td>\n",
       "      <td>0.0</td>\n",
       "      <td>676.0</td>\n",
       "      <td>676.0</td>\n",
       "      <td>GasA</td>\n",
       "      <td>TA</td>\n",
       "      <td>Y</td>\n",
       "      <td>SBrkr</td>\n",
       "      <td>831</td>\n",
       "      <td>614</td>\n",
       "      <td>0</td>\n",
       "      <td>1445</td>\n",
       "      <td>0.0</td>\n",
       "      <td>0.0</td>\n",
       "      <td>2</td>\n",
       "      <td>0</td>\n",
       "      <td>3</td>\n",
       "      <td>1</td>\n",
       "      <td>TA</td>\n",
       "      <td>6</td>\n",
       "      <td>Typ</td>\n",
       "      <td>0</td>\n",
       "      <td>NaN</td>\n",
       "      <td>Detchd</td>\n",
       "      <td>1957.0</td>\n",
       "      <td>Unf</td>\n",
       "      <td>2.0</td>\n",
       "      <td>484.0</td>\n",
       "      <td>TA</td>\n",
       "      <td>TA</td>\n",
       "      <td>N</td>\n",
       "      <td>0</td>\n",
       "      <td>59</td>\n",
       "      <td>0</td>\n",
       "      <td>0</td>\n",
       "      <td>0</td>\n",
       "      <td>0</td>\n",
       "      <td>NaN</td>\n",
       "      <td>NaN</td>\n",
       "      <td>NaN</td>\n",
       "      <td>0</td>\n",
       "      <td>3</td>\n",
       "      <td>2010</td>\n",
       "      <td>WD</td>\n",
       "      <td>138500.0</td>\n",
       "      <td>1</td>\n",
       "    </tr>\n",
       "  </tbody>\n",
       "</table>\n",
       "</div>"
      ],
      "text/plain": [
       "    Id        PID  MS SubClass MS Zoning  Lot Frontage  Lot Area Street Alley  \\\n",
       "0  109  533352170           60        RL           NaN     13517   Pave   NaN   \n",
       "1  544  531379050           60        RL          43.0     11492   Pave   NaN   \n",
       "2  153  535304180           20        RL          68.0      7922   Pave   NaN   \n",
       "3  318  916386060           60        RL          73.0      9802   Pave   NaN   \n",
       "4  255  906425045           50        RL          82.0     14235   Pave   NaN   \n",
       "\n",
       "  Lot Shape Land Contour Utilities Lot Config Land Slope Neighborhood  \\\n",
       "0       IR1          Lvl    AllPub    CulDSac        Gtl       Sawyer   \n",
       "1       IR1          Lvl    AllPub    CulDSac        Gtl      SawyerW   \n",
       "2       Reg          Lvl    AllPub     Inside        Gtl        NAmes   \n",
       "3       Reg          Lvl    AllPub     Inside        Gtl       Timber   \n",
       "4       IR1          Lvl    AllPub     Inside        Gtl      SawyerW   \n",
       "\n",
       "  Condition 1 Condition 2 Bldg Type House Style  Overall Qual  Overall Cond  \\\n",
       "0        RRAe        Norm      1Fam      2Story             6             8   \n",
       "1        Norm        Norm      1Fam      2Story             7             5   \n",
       "2        Norm        Norm      1Fam      1Story             5             7   \n",
       "3        Norm        Norm      1Fam      2Story             5             5   \n",
       "4        Norm        Norm      1Fam      1.5Fin             6             8   \n",
       "\n",
       "   Year Built  Year Remod/Add Roof Style Roof Matl Exterior 1st Exterior 2nd  \\\n",
       "0        1976            2005      Gable   CompShg      HdBoard      Plywood   \n",
       "1        1996            1997      Gable   CompShg      VinylSd      VinylSd   \n",
       "2        1953            2007      Gable   CompShg      VinylSd      VinylSd   \n",
       "3        2006            2007      Gable   CompShg      VinylSd      VinylSd   \n",
       "4        1900            1993      Gable   CompShg      Wd Sdng      Plywood   \n",
       "\n",
       "  Mas Vnr Type  Mas Vnr Area Exter Qual Exter Cond Foundation Bsmt Qual  \\\n",
       "0      BrkFace         289.0         Gd         TA     CBlock        TA   \n",
       "1      BrkFace         132.0         Gd         TA      PConc        Gd   \n",
       "2         None           0.0         TA         Gd     CBlock        TA   \n",
       "3         None           0.0         TA         TA      PConc        Gd   \n",
       "4         None           0.0         TA         TA      PConc        Fa   \n",
       "\n",
       "  Bsmt Cond Bsmt Exposure BsmtFin Type 1  BsmtFin SF 1 BsmtFin Type 2  \\\n",
       "0        TA            No            GLQ         533.0            Unf   \n",
       "1        TA            No            GLQ         637.0            Unf   \n",
       "2        TA            No            GLQ         731.0            Unf   \n",
       "3        TA            No            Unf           0.0            Unf   \n",
       "4        Gd            No            Unf           0.0            Unf   \n",
       "\n",
       "   BsmtFin SF 2  Bsmt Unf SF  Total Bsmt SF Heating Heating QC Central Air  \\\n",
       "0           0.0        192.0          725.0    GasA         Ex           Y   \n",
       "1           0.0        276.0          913.0    GasA         Ex           Y   \n",
       "2           0.0        326.0         1057.0    GasA         TA           Y   \n",
       "3           0.0        384.0          384.0    GasA         Gd           Y   \n",
       "4           0.0        676.0          676.0    GasA         TA           Y   \n",
       "\n",
       "  Electrical  1st Flr SF  2nd Flr SF  Low Qual Fin SF  Gr Liv Area  \\\n",
       "0      SBrkr         725         754                0         1479   \n",
       "1      SBrkr         913        1209                0         2122   \n",
       "2      SBrkr        1057           0                0         1057   \n",
       "3      SBrkr         744         700                0         1444   \n",
       "4      SBrkr         831         614                0         1445   \n",
       "\n",
       "   Bsmt Full Bath  Bsmt Half Bath  Full Bath  Half Bath  Bedroom AbvGr  \\\n",
       "0             0.0             0.0          2          1              3   \n",
       "1             1.0             0.0          2          1              4   \n",
       "2             1.0             0.0          1          0              3   \n",
       "3             0.0             0.0          2          1              3   \n",
       "4             0.0             0.0          2          0              3   \n",
       "\n",
       "   Kitchen AbvGr Kitchen Qual  TotRms AbvGrd Functional  Fireplaces  \\\n",
       "0              1           Gd              6        Typ           0   \n",
       "1              1           Gd              8        Typ           1   \n",
       "2              1           Gd              5        Typ           0   \n",
       "3              1           TA              7        Typ           0   \n",
       "4              1           TA              6        Typ           0   \n",
       "\n",
       "  Fireplace Qu Garage Type  Garage Yr Blt Garage Finish  Garage Cars  \\\n",
       "0          NaN      Attchd         1976.0           RFn          2.0   \n",
       "1           TA      Attchd         1997.0           RFn          2.0   \n",
       "2          NaN      Detchd         1953.0           Unf          1.0   \n",
       "3          NaN     BuiltIn         2007.0           Fin          2.0   \n",
       "4          NaN      Detchd         1957.0           Unf          2.0   \n",
       "\n",
       "   Garage Area Garage Qual Garage Cond Paved Drive  Wood Deck SF  \\\n",
       "0        475.0          TA          TA           Y             0   \n",
       "1        559.0          TA          TA           Y             0   \n",
       "2        246.0          TA          TA           Y             0   \n",
       "3        400.0          TA          TA           Y           100   \n",
       "4        484.0          TA          TA           N             0   \n",
       "\n",
       "   Open Porch SF  Enclosed Porch  3Ssn Porch  Screen Porch  Pool Area Pool QC  \\\n",
       "0             44               0           0             0          0     NaN   \n",
       "1             74               0           0             0          0     NaN   \n",
       "2             52               0           0             0          0     NaN   \n",
       "3              0               0           0             0          0     NaN   \n",
       "4             59               0           0             0          0     NaN   \n",
       "\n",
       "  Fence Misc Feature  Misc Val  Mo Sold  Yr Sold Sale Type  SalePrice  train  \n",
       "0   NaN          NaN         0        3     2010       WD    130500.0      1  \n",
       "1   NaN          NaN         0        4     2009       WD    220000.0      1  \n",
       "2   NaN          NaN         0        1     2010       WD    109000.0      1  \n",
       "3   NaN          NaN         0        4     2010       WD    174000.0      1  \n",
       "4   NaN          NaN         0        3     2010       WD    138500.0      1  "
      ]
     },
     "execution_count": 3,
     "metadata": {},
     "output_type": "execute_result"
    }
   ],
   "source": [
    "all_data.head()"
   ]
  },
  {
   "cell_type": "code",
   "execution_count": 4,
   "metadata": {},
   "outputs": [
    {
     "data": {
      "text/plain": [
       "(2929, 82)"
      ]
     },
     "execution_count": 4,
     "metadata": {},
     "output_type": "execute_result"
    }
   ],
   "source": [
    "all_data.shape"
   ]
  },
  {
   "cell_type": "code",
   "execution_count": 5,
   "metadata": {},
   "outputs": [
    {
     "data": {
      "text/plain": [
       "(2051, 82)"
      ]
     },
     "execution_count": 5,
     "metadata": {},
     "output_type": "execute_result"
    }
   ],
   "source": [
    "train.shape"
   ]
  },
  {
   "cell_type": "code",
   "execution_count": 6,
   "metadata": {},
   "outputs": [
    {
     "data": {
      "text/plain": [
       "(878, 81)"
      ]
     },
     "execution_count": 6,
     "metadata": {},
     "output_type": "execute_result"
    }
   ],
   "source": [
    "test.shape"
   ]
  },
  {
   "cell_type": "code",
   "execution_count": 7,
   "metadata": {},
   "outputs": [
    {
     "data": {
      "text/plain": [
       "Id                   int64\n",
       "PID                  int64\n",
       "MS SubClass          int64\n",
       "MS Zoning           object\n",
       "Lot Frontage       float64\n",
       "Lot Area             int64\n",
       "Street              object\n",
       "Alley               object\n",
       "Lot Shape           object\n",
       "Land Contour        object\n",
       "Utilities           object\n",
       "Lot Config          object\n",
       "Land Slope          object\n",
       "Neighborhood        object\n",
       "Condition 1         object\n",
       "Condition 2         object\n",
       "Bldg Type           object\n",
       "House Style         object\n",
       "Overall Qual         int64\n",
       "Overall Cond         int64\n",
       "Year Built           int64\n",
       "Year Remod/Add       int64\n",
       "Roof Style          object\n",
       "Roof Matl           object\n",
       "Exterior 1st        object\n",
       "Exterior 2nd        object\n",
       "Mas Vnr Type        object\n",
       "Mas Vnr Area       float64\n",
       "Exter Qual          object\n",
       "Exter Cond          object\n",
       "Foundation          object\n",
       "Bsmt Qual           object\n",
       "Bsmt Cond           object\n",
       "Bsmt Exposure       object\n",
       "BsmtFin Type 1      object\n",
       "BsmtFin SF 1       float64\n",
       "BsmtFin Type 2      object\n",
       "BsmtFin SF 2       float64\n",
       "Bsmt Unf SF        float64\n",
       "Total Bsmt SF      float64\n",
       "Heating             object\n",
       "Heating QC          object\n",
       "Central Air         object\n",
       "Electrical          object\n",
       "1st Flr SF           int64\n",
       "2nd Flr SF           int64\n",
       "Low Qual Fin SF      int64\n",
       "Gr Liv Area          int64\n",
       "Bsmt Full Bath     float64\n",
       "Bsmt Half Bath     float64\n",
       "Full Bath            int64\n",
       "Half Bath            int64\n",
       "Bedroom AbvGr        int64\n",
       "Kitchen AbvGr        int64\n",
       "Kitchen Qual        object\n",
       "TotRms AbvGrd        int64\n",
       "Functional          object\n",
       "Fireplaces           int64\n",
       "Fireplace Qu        object\n",
       "Garage Type         object\n",
       "Garage Yr Blt      float64\n",
       "Garage Finish       object\n",
       "Garage Cars        float64\n",
       "Garage Area        float64\n",
       "Garage Qual         object\n",
       "Garage Cond         object\n",
       "Paved Drive         object\n",
       "Wood Deck SF         int64\n",
       "Open Porch SF        int64\n",
       "Enclosed Porch       int64\n",
       "3Ssn Porch           int64\n",
       "Screen Porch         int64\n",
       "Pool Area            int64\n",
       "Pool QC             object\n",
       "Fence               object\n",
       "Misc Feature        object\n",
       "Misc Val             int64\n",
       "Mo Sold              int64\n",
       "Yr Sold              int64\n",
       "Sale Type           object\n",
       "SalePrice          float64\n",
       "train                int64\n",
       "dtype: object"
      ]
     },
     "execution_count": 7,
     "metadata": {},
     "output_type": "execute_result"
    }
   ],
   "source": [
    "all_data.dtypes"
   ]
  },
  {
   "cell_type": "markdown",
   "metadata": {},
   "source": [
    "After manually reviewing the datatypes of the columns, everything corresponds to the types indicated by the Data Dictionary. \n",
    "\n",
    "We note that there are many ordinal variables with the same scale (Po,Fa,TA,Gd,Ex) that we will convert to integer values."
   ]
  },
  {
   "cell_type": "code",
   "execution_count": 8,
   "metadata": {},
   "outputs": [
    {
     "data": {
      "image/png": "[encoded data removed]",
      "text/plain": [
       "<Figure size 432x288 with 1 Axes>"
      ]
     },
     "metadata": {
      "needs_background": "light"
     },
     "output_type": "display_data"
    }
   ],
   "source": [
    "sns.scatterplot(train['Gr Liv Area'], train['SalePrice'])\n",
    "plt.title('Garage Living Area vs Sale Price')\n",
    "plt.xlabel('Garage Living Area')\n",
    "plt.savefig(\"./assets/Garage Living Area vs Sale Price.png\");"
   ]
  },
  {
   "cell_type": "markdown",
   "metadata": {},
   "source": [
    "We can see that outliers were, indeed included in the dataset. However, only two of the ones indicated in the data dictionary appeared in our training set, so the other three may be in the test data."
   ]
  },
  {
   "cell_type": "code",
   "execution_count": 9,
   "metadata": {},
   "outputs": [
    {
     "data": {
      "text/html": [
       "<div>\n",
       "<style scoped>\n",
       "    .dataframe tbody tr th:only-of-type {\n",
       "        vertical-align: middle;\n",
       "    }\n",
       "\n",
       "    .dataframe tbody tr th {\n",
       "        vertical-align: top;\n",
       "    }\n",
       "\n",
       "    .dataframe thead th {\n",
       "        text-align: right;\n",
       "    }\n",
       "</style>\n",
       "<table border=\"1\" class=\"dataframe\">\n",
       "  <thead>\n",
       "    <tr style=\"text-align: right;\">\n",
       "      <th></th>\n",
       "      <th>Id</th>\n",
       "      <th>PID</th>\n",
       "      <th>MS SubClass</th>\n",
       "      <th>MS Zoning</th>\n",
       "      <th>Lot Frontage</th>\n",
       "      <th>Lot Area</th>\n",
       "      <th>Street</th>\n",
       "      <th>Alley</th>\n",
       "      <th>Lot Shape</th>\n",
       "      <th>Land Contour</th>\n",
       "      <th>Utilities</th>\n",
       "      <th>Lot Config</th>\n",
       "      <th>Land Slope</th>\n",
       "      <th>Neighborhood</th>\n",
       "      <th>Condition 1</th>\n",
       "      <th>Condition 2</th>\n",
       "      <th>Bldg Type</th>\n",
       "      <th>House Style</th>\n",
       "      <th>Overall Qual</th>\n",
       "      <th>Overall Cond</th>\n",
       "      <th>Year Built</th>\n",
       "      <th>Year Remod/Add</th>\n",
       "      <th>Roof Style</th>\n",
       "      <th>Roof Matl</th>\n",
       "      <th>Exterior 1st</th>\n",
       "      <th>Exterior 2nd</th>\n",
       "      <th>Mas Vnr Type</th>\n",
       "      <th>Mas Vnr Area</th>\n",
       "      <th>Exter Qual</th>\n",
       "      <th>Exter Cond</th>\n",
       "      <th>Foundation</th>\n",
       "      <th>Bsmt Qual</th>\n",
       "      <th>Bsmt Cond</th>\n",
       "      <th>Bsmt Exposure</th>\n",
       "      <th>BsmtFin Type 1</th>\n",
       "      <th>BsmtFin SF 1</th>\n",
       "      <th>BsmtFin Type 2</th>\n",
       "      <th>BsmtFin SF 2</th>\n",
       "      <th>Bsmt Unf SF</th>\n",
       "      <th>Total Bsmt SF</th>\n",
       "      <th>Heating</th>\n",
       "      <th>Heating QC</th>\n",
       "      <th>Central Air</th>\n",
       "      <th>Electrical</th>\n",
       "      <th>1st Flr SF</th>\n",
       "      <th>2nd Flr SF</th>\n",
       "      <th>Low Qual Fin SF</th>\n",
       "      <th>Gr Liv Area</th>\n",
       "      <th>Bsmt Full Bath</th>\n",
       "      <th>Bsmt Half Bath</th>\n",
       "      <th>Full Bath</th>\n",
       "      <th>Half Bath</th>\n",
       "      <th>Bedroom AbvGr</th>\n",
       "      <th>Kitchen AbvGr</th>\n",
       "      <th>Kitchen Qual</th>\n",
       "      <th>TotRms AbvGrd</th>\n",
       "      <th>Functional</th>\n",
       "      <th>Fireplaces</th>\n",
       "      <th>Fireplace Qu</th>\n",
       "      <th>Garage Type</th>\n",
       "      <th>Garage Yr Blt</th>\n",
       "      <th>Garage Finish</th>\n",
       "      <th>Garage Cars</th>\n",
       "      <th>Garage Area</th>\n",
       "      <th>Garage Qual</th>\n",
       "      <th>Garage Cond</th>\n",
       "      <th>Paved Drive</th>\n",
       "      <th>Wood Deck SF</th>\n",
       "      <th>Open Porch SF</th>\n",
       "      <th>Enclosed Porch</th>\n",
       "      <th>3Ssn Porch</th>\n",
       "      <th>Screen Porch</th>\n",
       "      <th>Pool Area</th>\n",
       "      <th>Pool QC</th>\n",
       "      <th>Fence</th>\n",
       "      <th>Misc Feature</th>\n",
       "      <th>Misc Val</th>\n",
       "      <th>Mo Sold</th>\n",
       "      <th>Yr Sold</th>\n",
       "      <th>Sale Type</th>\n",
       "      <th>train</th>\n",
       "    </tr>\n",
       "  </thead>\n",
       "  <tbody>\n",
       "    <tr>\n",
       "      <th>170</th>\n",
       "      <td>1761</td>\n",
       "      <td>528320050</td>\n",
       "      <td>60</td>\n",
       "      <td>RL</td>\n",
       "      <td>160.0</td>\n",
       "      <td>15623</td>\n",
       "      <td>Pave</td>\n",
       "      <td>NaN</td>\n",
       "      <td>IR1</td>\n",
       "      <td>Lvl</td>\n",
       "      <td>AllPub</td>\n",
       "      <td>Corner</td>\n",
       "      <td>Gtl</td>\n",
       "      <td>NoRidge</td>\n",
       "      <td>Norm</td>\n",
       "      <td>Norm</td>\n",
       "      <td>1Fam</td>\n",
       "      <td>2Story</td>\n",
       "      <td>10</td>\n",
       "      <td>5</td>\n",
       "      <td>1996</td>\n",
       "      <td>1996</td>\n",
       "      <td>Hip</td>\n",
       "      <td>CompShg</td>\n",
       "      <td>Wd Sdng</td>\n",
       "      <td>ImStucc</td>\n",
       "      <td>None</td>\n",
       "      <td>0.0</td>\n",
       "      <td>Gd</td>\n",
       "      <td>TA</td>\n",
       "      <td>PConc</td>\n",
       "      <td>Ex</td>\n",
       "      <td>TA</td>\n",
       "      <td>Av</td>\n",
       "      <td>GLQ</td>\n",
       "      <td>2096</td>\n",
       "      <td>Unf</td>\n",
       "      <td>0</td>\n",
       "      <td>300</td>\n",
       "      <td>2396</td>\n",
       "      <td>GasA</td>\n",
       "      <td>Ex</td>\n",
       "      <td>Y</td>\n",
       "      <td>SBrkr</td>\n",
       "      <td>2411</td>\n",
       "      <td>2065</td>\n",
       "      <td>0</td>\n",
       "      <td>4476</td>\n",
       "      <td>1</td>\n",
       "      <td>0</td>\n",
       "      <td>3</td>\n",
       "      <td>1</td>\n",
       "      <td>4</td>\n",
       "      <td>1</td>\n",
       "      <td>Ex</td>\n",
       "      <td>10</td>\n",
       "      <td>Typ</td>\n",
       "      <td>2</td>\n",
       "      <td>TA</td>\n",
       "      <td>Attchd</td>\n",
       "      <td>1996.0</td>\n",
       "      <td>Fin</td>\n",
       "      <td>3</td>\n",
       "      <td>813</td>\n",
       "      <td>TA</td>\n",
       "      <td>TA</td>\n",
       "      <td>Y</td>\n",
       "      <td>171</td>\n",
       "      <td>78</td>\n",
       "      <td>0</td>\n",
       "      <td>0</td>\n",
       "      <td>0</td>\n",
       "      <td>555</td>\n",
       "      <td>Ex</td>\n",
       "      <td>MnPrv</td>\n",
       "      <td>NaN</td>\n",
       "      <td>0</td>\n",
       "      <td>7</td>\n",
       "      <td>2007</td>\n",
       "      <td>WD</td>\n",
       "      <td>0</td>\n",
       "    </tr>\n",
       "    <tr>\n",
       "      <th>463</th>\n",
       "      <td>1768</td>\n",
       "      <td>528351010</td>\n",
       "      <td>60</td>\n",
       "      <td>RL</td>\n",
       "      <td>104.0</td>\n",
       "      <td>21535</td>\n",
       "      <td>Pave</td>\n",
       "      <td>NaN</td>\n",
       "      <td>IR1</td>\n",
       "      <td>Lvl</td>\n",
       "      <td>AllPub</td>\n",
       "      <td>Corner</td>\n",
       "      <td>Gtl</td>\n",
       "      <td>NoRidge</td>\n",
       "      <td>Norm</td>\n",
       "      <td>Norm</td>\n",
       "      <td>1Fam</td>\n",
       "      <td>2Story</td>\n",
       "      <td>10</td>\n",
       "      <td>6</td>\n",
       "      <td>1994</td>\n",
       "      <td>1995</td>\n",
       "      <td>Gable</td>\n",
       "      <td>WdShngl</td>\n",
       "      <td>HdBoard</td>\n",
       "      <td>HdBoard</td>\n",
       "      <td>BrkFace</td>\n",
       "      <td>1170.0</td>\n",
       "      <td>Ex</td>\n",
       "      <td>TA</td>\n",
       "      <td>PConc</td>\n",
       "      <td>Ex</td>\n",
       "      <td>TA</td>\n",
       "      <td>Gd</td>\n",
       "      <td>GLQ</td>\n",
       "      <td>1455</td>\n",
       "      <td>Unf</td>\n",
       "      <td>0</td>\n",
       "      <td>989</td>\n",
       "      <td>2444</td>\n",
       "      <td>GasA</td>\n",
       "      <td>Ex</td>\n",
       "      <td>Y</td>\n",
       "      <td>SBrkr</td>\n",
       "      <td>2444</td>\n",
       "      <td>1872</td>\n",
       "      <td>0</td>\n",
       "      <td>4316</td>\n",
       "      <td>0</td>\n",
       "      <td>1</td>\n",
       "      <td>3</td>\n",
       "      <td>1</td>\n",
       "      <td>4</td>\n",
       "      <td>1</td>\n",
       "      <td>Ex</td>\n",
       "      <td>10</td>\n",
       "      <td>Typ</td>\n",
       "      <td>2</td>\n",
       "      <td>Ex</td>\n",
       "      <td>Attchd</td>\n",
       "      <td>1994.0</td>\n",
       "      <td>Fin</td>\n",
       "      <td>3</td>\n",
       "      <td>832</td>\n",
       "      <td>TA</td>\n",
       "      <td>TA</td>\n",
       "      <td>Y</td>\n",
       "      <td>382</td>\n",
       "      <td>50</td>\n",
       "      <td>0</td>\n",
       "      <td>0</td>\n",
       "      <td>0</td>\n",
       "      <td>0</td>\n",
       "      <td>NaN</td>\n",
       "      <td>NaN</td>\n",
       "      <td>NaN</td>\n",
       "      <td>0</td>\n",
       "      <td>1</td>\n",
       "      <td>2007</td>\n",
       "      <td>WD</td>\n",
       "      <td>0</td>\n",
       "    </tr>\n",
       "  </tbody>\n",
       "</table>\n",
       "</div>"
      ],
      "text/plain": [
       "       Id        PID  MS SubClass MS Zoning  Lot Frontage  Lot Area Street  \\\n",
       "170  1761  528320050           60        RL         160.0     15623   Pave   \n",
       "463  1768  528351010           60        RL         104.0     21535   Pave   \n",
       "\n",
       "    Alley Lot Shape Land Contour Utilities Lot Config Land Slope Neighborhood  \\\n",
       "170   NaN       IR1          Lvl    AllPub     Corner        Gtl      NoRidge   \n",
       "463   NaN       IR1          Lvl    AllPub     Corner        Gtl      NoRidge   \n",
       "\n",
       "    Condition 1 Condition 2 Bldg Type House Style  Overall Qual  Overall Cond  \\\n",
       "170        Norm        Norm      1Fam      2Story            10             5   \n",
       "463        Norm        Norm      1Fam      2Story            10             6   \n",
       "\n",
       "     Year Built  Year Remod/Add Roof Style Roof Matl Exterior 1st  \\\n",
       "170        1996            1996        Hip   CompShg      Wd Sdng   \n",
       "463        1994            1995      Gable   WdShngl      HdBoard   \n",
       "\n",
       "    Exterior 2nd Mas Vnr Type  Mas Vnr Area Exter Qual Exter Cond Foundation  \\\n",
       "170      ImStucc         None           0.0         Gd         TA      PConc   \n",
       "463      HdBoard      BrkFace        1170.0         Ex         TA      PConc   \n",
       "\n",
       "    Bsmt Qual Bsmt Cond Bsmt Exposure BsmtFin Type 1  BsmtFin SF 1  \\\n",
       "170        Ex        TA            Av            GLQ          2096   \n",
       "463        Ex        TA            Gd            GLQ          1455   \n",
       "\n",
       "    BsmtFin Type 2  BsmtFin SF 2  Bsmt Unf SF  Total Bsmt SF Heating  \\\n",
       "170            Unf             0          300           2396    GasA   \n",
       "463            Unf             0          989           2444    GasA   \n",
       "\n",
       "    Heating QC Central Air Electrical  1st Flr SF  2nd Flr SF  \\\n",
       "170         Ex           Y      SBrkr        2411        2065   \n",
       "463         Ex           Y      SBrkr        2444        1872   \n",
       "\n",
       "     Low Qual Fin SF  Gr Liv Area  Bsmt Full Bath  Bsmt Half Bath  Full Bath  \\\n",
       "170                0         4476               1               0          3   \n",
       "463                0         4316               0               1          3   \n",
       "\n",
       "     Half Bath  Bedroom AbvGr  Kitchen AbvGr Kitchen Qual  TotRms AbvGrd  \\\n",
       "170          1              4              1           Ex             10   \n",
       "463          1              4              1           Ex             10   \n",
       "\n",
       "    Functional  Fireplaces Fireplace Qu Garage Type  Garage Yr Blt  \\\n",
       "170        Typ           2           TA      Attchd         1996.0   \n",
       "463        Typ           2           Ex      Attchd         1994.0   \n",
       "\n",
       "    Garage Finish  Garage Cars  Garage Area Garage Qual Garage Cond  \\\n",
       "170           Fin            3          813          TA          TA   \n",
       "463           Fin            3          832          TA          TA   \n",
       "\n",
       "    Paved Drive  Wood Deck SF  Open Porch SF  Enclosed Porch  3Ssn Porch  \\\n",
       "170           Y           171             78               0           0   \n",
       "463           Y           382             50               0           0   \n",
       "\n",
       "     Screen Porch  Pool Area Pool QC  Fence Misc Feature  Misc Val  Mo Sold  \\\n",
       "170             0        555      Ex  MnPrv          NaN         0        7   \n",
       "463             0          0     NaN    NaN          NaN         0        1   \n",
       "\n",
       "     Yr Sold Sale Type  train  \n",
       "170     2007       WD       0  \n",
       "463     2007       WD       0  "
      ]
     },
     "execution_count": 9,
     "metadata": {},
     "output_type": "execute_result"
    }
   ],
   "source": [
    "test[test['Gr Liv Area'] > 4000]"
   ]
  },
  {
   "cell_type": "markdown",
   "metadata": {},
   "source": [
    "We need predictions for all entries in the test set, so outlier removal will not be an option in our data cleaning for the test data. However, we should remove the offending rows from the test data to avoid biasing the model."
   ]
  },
  {
   "cell_type": "code",
   "execution_count": 10,
   "metadata": {},
   "outputs": [
    {
     "data": {
      "text/html": [
       "<div>\n",
       "<style scoped>\n",
       "    .dataframe tbody tr th:only-of-type {\n",
       "        vertical-align: middle;\n",
       "    }\n",
       "\n",
       "    .dataframe tbody tr th {\n",
       "        vertical-align: top;\n",
       "    }\n",
       "\n",
       "    .dataframe thead th {\n",
       "        text-align: right;\n",
       "    }\n",
       "</style>\n",
       "<table border=\"1\" class=\"dataframe\">\n",
       "  <thead>\n",
       "    <tr style=\"text-align: right;\">\n",
       "      <th></th>\n",
       "      <th>Id</th>\n",
       "      <th>PID</th>\n",
       "      <th>MS SubClass</th>\n",
       "      <th>MS Zoning</th>\n",
       "      <th>Lot Frontage</th>\n",
       "      <th>Lot Area</th>\n",
       "      <th>Street</th>\n",
       "      <th>Alley</th>\n",
       "      <th>Lot Shape</th>\n",
       "      <th>Land Contour</th>\n",
       "      <th>Utilities</th>\n",
       "      <th>Lot Config</th>\n",
       "      <th>Land Slope</th>\n",
       "      <th>Neighborhood</th>\n",
       "      <th>Condition 1</th>\n",
       "      <th>Condition 2</th>\n",
       "      <th>Bldg Type</th>\n",
       "      <th>House Style</th>\n",
       "      <th>Overall Qual</th>\n",
       "      <th>Overall Cond</th>\n",
       "      <th>Year Built</th>\n",
       "      <th>Year Remod/Add</th>\n",
       "      <th>Roof Style</th>\n",
       "      <th>Roof Matl</th>\n",
       "      <th>Exterior 1st</th>\n",
       "      <th>Exterior 2nd</th>\n",
       "      <th>Mas Vnr Type</th>\n",
       "      <th>Mas Vnr Area</th>\n",
       "      <th>Exter Qual</th>\n",
       "      <th>Exter Cond</th>\n",
       "      <th>Foundation</th>\n",
       "      <th>Bsmt Qual</th>\n",
       "      <th>Bsmt Cond</th>\n",
       "      <th>Bsmt Exposure</th>\n",
       "      <th>BsmtFin Type 1</th>\n",
       "      <th>BsmtFin SF 1</th>\n",
       "      <th>BsmtFin Type 2</th>\n",
       "      <th>BsmtFin SF 2</th>\n",
       "      <th>Bsmt Unf SF</th>\n",
       "      <th>Total Bsmt SF</th>\n",
       "      <th>Heating</th>\n",
       "      <th>Heating QC</th>\n",
       "      <th>Central Air</th>\n",
       "      <th>Electrical</th>\n",
       "      <th>1st Flr SF</th>\n",
       "      <th>2nd Flr SF</th>\n",
       "      <th>Low Qual Fin SF</th>\n",
       "      <th>Gr Liv Area</th>\n",
       "      <th>Bsmt Full Bath</th>\n",
       "      <th>Bsmt Half Bath</th>\n",
       "      <th>Full Bath</th>\n",
       "      <th>Half Bath</th>\n",
       "      <th>Bedroom AbvGr</th>\n",
       "      <th>Kitchen AbvGr</th>\n",
       "      <th>Kitchen Qual</th>\n",
       "      <th>TotRms AbvGrd</th>\n",
       "      <th>Functional</th>\n",
       "      <th>Fireplaces</th>\n",
       "      <th>Fireplace Qu</th>\n",
       "      <th>Garage Type</th>\n",
       "      <th>Garage Yr Blt</th>\n",
       "      <th>Garage Finish</th>\n",
       "      <th>Garage Cars</th>\n",
       "      <th>Garage Area</th>\n",
       "      <th>Garage Qual</th>\n",
       "      <th>Garage Cond</th>\n",
       "      <th>Paved Drive</th>\n",
       "      <th>Wood Deck SF</th>\n",
       "      <th>Open Porch SF</th>\n",
       "      <th>Enclosed Porch</th>\n",
       "      <th>3Ssn Porch</th>\n",
       "      <th>Screen Porch</th>\n",
       "      <th>Pool Area</th>\n",
       "      <th>Pool QC</th>\n",
       "      <th>Fence</th>\n",
       "      <th>Misc Feature</th>\n",
       "      <th>Misc Val</th>\n",
       "      <th>Mo Sold</th>\n",
       "      <th>Yr Sold</th>\n",
       "      <th>Sale Type</th>\n",
       "      <th>SalePrice</th>\n",
       "      <th>train</th>\n",
       "    </tr>\n",
       "  </thead>\n",
       "  <tbody>\n",
       "    <tr>\n",
       "      <th>960</th>\n",
       "      <td>1499</td>\n",
       "      <td>908154235</td>\n",
       "      <td>60</td>\n",
       "      <td>RL</td>\n",
       "      <td>313.0</td>\n",
       "      <td>63887</td>\n",
       "      <td>Pave</td>\n",
       "      <td>NaN</td>\n",
       "      <td>IR3</td>\n",
       "      <td>Bnk</td>\n",
       "      <td>AllPub</td>\n",
       "      <td>Corner</td>\n",
       "      <td>Gtl</td>\n",
       "      <td>Edwards</td>\n",
       "      <td>Feedr</td>\n",
       "      <td>Norm</td>\n",
       "      <td>1Fam</td>\n",
       "      <td>2Story</td>\n",
       "      <td>10</td>\n",
       "      <td>5</td>\n",
       "      <td>2008</td>\n",
       "      <td>2008</td>\n",
       "      <td>Hip</td>\n",
       "      <td>ClyTile</td>\n",
       "      <td>Stucco</td>\n",
       "      <td>Stucco</td>\n",
       "      <td>Stone</td>\n",
       "      <td>796.0</td>\n",
       "      <td>Ex</td>\n",
       "      <td>TA</td>\n",
       "      <td>PConc</td>\n",
       "      <td>Ex</td>\n",
       "      <td>TA</td>\n",
       "      <td>Gd</td>\n",
       "      <td>GLQ</td>\n",
       "      <td>5644.0</td>\n",
       "      <td>Unf</td>\n",
       "      <td>0.0</td>\n",
       "      <td>466.0</td>\n",
       "      <td>6110.0</td>\n",
       "      <td>GasA</td>\n",
       "      <td>Ex</td>\n",
       "      <td>Y</td>\n",
       "      <td>SBrkr</td>\n",
       "      <td>4692</td>\n",
       "      <td>950</td>\n",
       "      <td>0</td>\n",
       "      <td>5642</td>\n",
       "      <td>2.0</td>\n",
       "      <td>0.0</td>\n",
       "      <td>2</td>\n",
       "      <td>1</td>\n",
       "      <td>3</td>\n",
       "      <td>1</td>\n",
       "      <td>Ex</td>\n",
       "      <td>12</td>\n",
       "      <td>Typ</td>\n",
       "      <td>3</td>\n",
       "      <td>Gd</td>\n",
       "      <td>Attchd</td>\n",
       "      <td>2008.0</td>\n",
       "      <td>Fin</td>\n",
       "      <td>2.0</td>\n",
       "      <td>1418.0</td>\n",
       "      <td>TA</td>\n",
       "      <td>TA</td>\n",
       "      <td>Y</td>\n",
       "      <td>214</td>\n",
       "      <td>292</td>\n",
       "      <td>0</td>\n",
       "      <td>0</td>\n",
       "      <td>0</td>\n",
       "      <td>480</td>\n",
       "      <td>Gd</td>\n",
       "      <td>NaN</td>\n",
       "      <td>NaN</td>\n",
       "      <td>0</td>\n",
       "      <td>1</td>\n",
       "      <td>2008</td>\n",
       "      <td>New</td>\n",
       "      <td>160000</td>\n",
       "      <td>1</td>\n",
       "    </tr>\n",
       "    <tr>\n",
       "      <th>1885</th>\n",
       "      <td>2181</td>\n",
       "      <td>908154195</td>\n",
       "      <td>20</td>\n",
       "      <td>RL</td>\n",
       "      <td>128.0</td>\n",
       "      <td>39290</td>\n",
       "      <td>Pave</td>\n",
       "      <td>NaN</td>\n",
       "      <td>IR1</td>\n",
       "      <td>Bnk</td>\n",
       "      <td>AllPub</td>\n",
       "      <td>Inside</td>\n",
       "      <td>Gtl</td>\n",
       "      <td>Edwards</td>\n",
       "      <td>Norm</td>\n",
       "      <td>Norm</td>\n",
       "      <td>1Fam</td>\n",
       "      <td>1Story</td>\n",
       "      <td>10</td>\n",
       "      <td>5</td>\n",
       "      <td>2008</td>\n",
       "      <td>2009</td>\n",
       "      <td>Hip</td>\n",
       "      <td>CompShg</td>\n",
       "      <td>CemntBd</td>\n",
       "      <td>CmentBd</td>\n",
       "      <td>Stone</td>\n",
       "      <td>1224.0</td>\n",
       "      <td>Ex</td>\n",
       "      <td>TA</td>\n",
       "      <td>PConc</td>\n",
       "      <td>Ex</td>\n",
       "      <td>TA</td>\n",
       "      <td>Gd</td>\n",
       "      <td>GLQ</td>\n",
       "      <td>4010.0</td>\n",
       "      <td>Unf</td>\n",
       "      <td>0.0</td>\n",
       "      <td>1085.0</td>\n",
       "      <td>5095.0</td>\n",
       "      <td>GasA</td>\n",
       "      <td>Ex</td>\n",
       "      <td>Y</td>\n",
       "      <td>SBrkr</td>\n",
       "      <td>5095</td>\n",
       "      <td>0</td>\n",
       "      <td>0</td>\n",
       "      <td>5095</td>\n",
       "      <td>1.0</td>\n",
       "      <td>1.0</td>\n",
       "      <td>2</td>\n",
       "      <td>1</td>\n",
       "      <td>2</td>\n",
       "      <td>1</td>\n",
       "      <td>Ex</td>\n",
       "      <td>15</td>\n",
       "      <td>Typ</td>\n",
       "      <td>2</td>\n",
       "      <td>Gd</td>\n",
       "      <td>Attchd</td>\n",
       "      <td>2008.0</td>\n",
       "      <td>Fin</td>\n",
       "      <td>3.0</td>\n",
       "      <td>1154.0</td>\n",
       "      <td>TA</td>\n",
       "      <td>TA</td>\n",
       "      <td>Y</td>\n",
       "      <td>546</td>\n",
       "      <td>484</td>\n",
       "      <td>0</td>\n",
       "      <td>0</td>\n",
       "      <td>0</td>\n",
       "      <td>0</td>\n",
       "      <td>NaN</td>\n",
       "      <td>NaN</td>\n",
       "      <td>Elev</td>\n",
       "      <td>17000</td>\n",
       "      <td>10</td>\n",
       "      <td>2007</td>\n",
       "      <td>New</td>\n",
       "      <td>183850</td>\n",
       "      <td>1</td>\n",
       "    </tr>\n",
       "  </tbody>\n",
       "</table>\n",
       "</div>"
      ],
      "text/plain": [
       "        Id        PID  MS SubClass MS Zoning  Lot Frontage  Lot Area Street  \\\n",
       "960   1499  908154235           60        RL         313.0     63887   Pave   \n",
       "1885  2181  908154195           20        RL         128.0     39290   Pave   \n",
       "\n",
       "     Alley Lot Shape Land Contour Utilities Lot Config Land Slope  \\\n",
       "960    NaN       IR3          Bnk    AllPub     Corner        Gtl   \n",
       "1885   NaN       IR1          Bnk    AllPub     Inside        Gtl   \n",
       "\n",
       "     Neighborhood Condition 1 Condition 2 Bldg Type House Style  Overall Qual  \\\n",
       "960       Edwards       Feedr        Norm      1Fam      2Story            10   \n",
       "1885      Edwards        Norm        Norm      1Fam      1Story            10   \n",
       "\n",
       "      Overall Cond  Year Built  Year Remod/Add Roof Style Roof Matl  \\\n",
       "960              5        2008            2008        Hip   ClyTile   \n",
       "1885             5        2008            2009        Hip   CompShg   \n",
       "\n",
       "     Exterior 1st Exterior 2nd Mas Vnr Type  Mas Vnr Area Exter Qual  \\\n",
       "960        Stucco       Stucco        Stone         796.0         Ex   \n",
       "1885      CemntBd      CmentBd        Stone        1224.0         Ex   \n",
       "\n",
       "     Exter Cond Foundation Bsmt Qual Bsmt Cond Bsmt Exposure BsmtFin Type 1  \\\n",
       "960          TA      PConc        Ex        TA            Gd            GLQ   \n",
       "1885         TA      PConc        Ex        TA            Gd            GLQ   \n",
       "\n",
       "      BsmtFin SF 1 BsmtFin Type 2  BsmtFin SF 2  Bsmt Unf SF  Total Bsmt SF  \\\n",
       "960         5644.0            Unf           0.0        466.0         6110.0   \n",
       "1885        4010.0            Unf           0.0       1085.0         5095.0   \n",
       "\n",
       "     Heating Heating QC Central Air Electrical  1st Flr SF  2nd Flr SF  \\\n",
       "960     GasA         Ex           Y      SBrkr        4692         950   \n",
       "1885    GasA         Ex           Y      SBrkr        5095           0   \n",
       "\n",
       "      Low Qual Fin SF  Gr Liv Area  Bsmt Full Bath  Bsmt Half Bath  Full Bath  \\\n",
       "960                 0         5642             2.0             0.0          2   \n",
       "1885                0         5095             1.0             1.0          2   \n",
       "\n",
       "      Half Bath  Bedroom AbvGr  Kitchen AbvGr Kitchen Qual  TotRms AbvGrd  \\\n",
       "960           1              3              1           Ex             12   \n",
       "1885          1              2              1           Ex             15   \n",
       "\n",
       "     Functional  Fireplaces Fireplace Qu Garage Type  Garage Yr Blt  \\\n",
       "960         Typ           3           Gd      Attchd         2008.0   \n",
       "1885        Typ           2           Gd      Attchd         2008.0   \n",
       "\n",
       "     Garage Finish  Garage Cars  Garage Area Garage Qual Garage Cond  \\\n",
       "960            Fin          2.0       1418.0          TA          TA   \n",
       "1885           Fin          3.0       1154.0          TA          TA   \n",
       "\n",
       "     Paved Drive  Wood Deck SF  Open Porch SF  Enclosed Porch  3Ssn Porch  \\\n",
       "960            Y           214            292               0           0   \n",
       "1885           Y           546            484               0           0   \n",
       "\n",
       "      Screen Porch  Pool Area Pool QC Fence Misc Feature  Misc Val  Mo Sold  \\\n",
       "960              0        480      Gd   NaN          NaN         0        1   \n",
       "1885             0          0     NaN   NaN         Elev     17000       10   \n",
       "\n",
       "      Yr Sold Sale Type  SalePrice  train  \n",
       "960      2008       New     160000      1  \n",
       "1885     2007       New     183850      1  "
      ]
     },
     "execution_count": 10,
     "metadata": {},
     "output_type": "execute_result"
    }
   ],
   "source": [
    "train[train['Gr Liv Area'] > 4000]"
   ]
  },
  {
   "cell_type": "code",
   "execution_count": 11,
   "metadata": {},
   "outputs": [],
   "source": [
    "all_data.drop([960, 1885], inplace=True)\n",
    "\n",
    "all_data.reset_index(drop=True, inplace=True)"
   ]
  },
  {
   "cell_type": "markdown",
   "metadata": {},
   "source": [
    "### NA Values"
   ]
  },
  {
   "cell_type": "markdown",
   "metadata": {},
   "source": [
    "Reviewing our Data Dictionary, we see that an \"NA\" in \"Pool QC\" means \"No Pool.\"   \n",
    "An \"NA\" in \"Misc Feature\" means \"No miscellaneous feature.\"  \n",
    "An \"NA\" in \"Alley\" means \"No alley access.\"  \n",
    "An \"NA\" in \"Fence\" means \"No Fence\"  \n",
    "An \"NA\" in \"FireplaceQu\" means \"No Fireplace\"  \n",
    "\"NA\" in Garage Finish, Condition, Quality, Yr Built, and Type means \"No Garage\"  \n",
    "\"NA\" in the Basement columns means \"No Basement\"  \n",
    "\"NA\" in Masonry Veneer means no masonry  \n",
    "\n",
    "We'd like to look closer at missing entries in \"Garage Cars\" and \"Garage Area\"\n",
    "\n",
    "Missing entries in Basement Square Footage most likely represent no basement.\n",
    "\n",
    "An \"NA\" in \"Lot Frontage\" seems to mean that the property is not connected to streets.\n",
    "\n",
    "\"NA\" in Electrical should be assigned the minimum value of the ordinal system\n",
    "\n",
    "Missing values in \"Sale Price\" are simply the testing data, which have the column removed."
   ]
  },
  {
   "cell_type": "code",
   "execution_count": 12,
   "metadata": {},
   "outputs": [
    {
     "data": {
      "text/plain": [
       "Pool QC           2915\n",
       "Misc Feature      2822\n",
       "Alley             2729\n",
       "Fence             2355\n",
       "Fireplace Qu      1422\n",
       "SalePrice          878\n",
       "Lot Frontage       490\n",
       "Garage Yr Blt      159\n",
       "Garage Qual        159\n",
       "Garage Finish      159\n",
       "Garage Cond        159\n",
       "Garage Type        157\n",
       "Bsmt Exposure       83\n",
       "BsmtFin Type 2      81\n",
       "BsmtFin Type 1      80\n",
       "Bsmt Cond           80\n",
       "Bsmt Qual           80\n",
       "Mas Vnr Area        23\n",
       "Mas Vnr Type        23\n",
       "Bsmt Half Bath       2\n",
       "Bsmt Full Bath       2\n",
       "Garage Area          1\n",
       "Garage Cars          1\n",
       "Bsmt Unf SF          1\n",
       "BsmtFin SF 2         1\n",
       "BsmtFin SF 1         1\n",
       "Total Bsmt SF        1\n",
       "Electrical           1\n",
       "Year Built           0\n",
       "dtype: int64"
      ]
     },
     "execution_count": 12,
     "metadata": {},
     "output_type": "execute_result"
    }
   ],
   "source": [
    "all_data.isna().sum().sort_values(ascending=False)[:29]"
   ]
  },
  {
   "cell_type": "markdown",
   "metadata": {},
   "source": [
    "### Handling missing Values in string columns where \"NA\" means \"No\""
   ]
  },
  {
   "cell_type": "code",
   "execution_count": 13,
   "metadata": {},
   "outputs": [],
   "source": [
    "string_nas = ['Pool QC', 'Misc Feature', 'Alley', 'Fence', 'Fireplace Qu',\n",
    "              'Garage Finish', 'Garage Cond', 'Garage Type', 'Garage Qual',\n",
    "              'BsmtFin Type 1', 'BsmtFin Type 2', 'Bsmt Exposure',\n",
    "              'Bsmt Cond', 'Bsmt Qual', 'Mas Vnr Type']\n",
    "\n",
    "all_data[string_nas] = all_data[string_nas].fillna('No')"
   ]
  },
  {
   "cell_type": "markdown",
   "metadata": {},
   "source": [
    "### Handling missing values in numeric columns:"
   ]
  },
  {
   "cell_type": "code",
   "execution_count": 14,
   "metadata": {},
   "outputs": [],
   "source": [
    "numeric_NAs = ['Lot Frontage', 'Mas Vnr Area', 'Bsmt Full Bath', 'Bsmt Half Bath', 'Total Bsmt SF',\n",
    "               'Bsmt Unf SF', 'BsmtFin SF 1', 'BsmtFin SF 2', 'Garage Cars', 'Garage Area', 'Garage Yr Blt']\n",
    "all_data[numeric_NAs] = all_data[numeric_NAs].fillna(0)"
   ]
  },
  {
   "cell_type": "markdown",
   "metadata": {},
   "source": [
    "### Assigning NAs in Electrical to minimum value of ordinal"
   ]
  },
  {
   "cell_type": "code",
   "execution_count": 15,
   "metadata": {},
   "outputs": [],
   "source": [
    "all_data['Electrical'] = all_data['Electrical'].fillna('Mix')"
   ]
  },
  {
   "cell_type": "markdown",
   "metadata": {},
   "source": [
    "Verify that all NAs have been filled"
   ]
  },
  {
   "cell_type": "code",
   "execution_count": 16,
   "metadata": {},
   "outputs": [
    {
     "data": {
      "text/plain": [
       "SalePrice         878\n",
       "Exter Cond          0\n",
       "Year Remod/Add      0\n",
       "Roof Style          0\n",
       "Roof Matl           0\n",
       "Exterior 1st        0\n",
       "Exterior 2nd        0\n",
       "Mas Vnr Type        0\n",
       "Mas Vnr Area        0\n",
       "Exter Qual          0\n",
       "train               0\n",
       "Year Built          0\n",
       "Bsmt Qual           0\n",
       "Bsmt Cond           0\n",
       "Bsmt Exposure       0\n",
       "BsmtFin Type 1      0\n",
       "BsmtFin SF 1        0\n",
       "BsmtFin Type 2      0\n",
       "BsmtFin SF 2        0\n",
       "Bsmt Unf SF         0\n",
       "Foundation          0\n",
       "Overall Cond        0\n",
       "Overall Qual        0\n",
       "Lot Shape           0\n",
       "PID                 0\n",
       "MS SubClass         0\n",
       "MS Zoning           0\n",
       "Lot Frontage        0\n",
       "dtype: int64"
      ]
     },
     "execution_count": 16,
     "metadata": {},
     "output_type": "execute_result"
    }
   ],
   "source": [
    "all_data.isna().sum().sort_values(ascending=False)[:28]"
   ]
  },
  {
   "cell_type": "markdown",
   "metadata": {},
   "source": [
    "### Numeric Variables"
   ]
  },
  {
   "cell_type": "code",
   "execution_count": 17,
   "metadata": {},
   "outputs": [
    {
     "data": {
      "text/html": [
       "<div>\n",
       "<style scoped>\n",
       "    .dataframe tbody tr th:only-of-type {\n",
       "        vertical-align: middle;\n",
       "    }\n",
       "\n",
       "    .dataframe tbody tr th {\n",
       "        vertical-align: top;\n",
       "    }\n",
       "\n",
       "    .dataframe thead th {\n",
       "        text-align: right;\n",
       "    }\n",
       "</style>\n",
       "<table border=\"1\" class=\"dataframe\">\n",
       "  <thead>\n",
       "    <tr style=\"text-align: right;\">\n",
       "      <th></th>\n",
       "      <th>mean</th>\n",
       "      <th>std</th>\n",
       "      <th>min</th>\n",
       "      <th>max</th>\n",
       "    </tr>\n",
       "  </thead>\n",
       "  <tbody>\n",
       "    <tr>\n",
       "      <th>Id</th>\n",
       "      <td>1.464999e+03</td>\n",
       "      <td>8.461886e+02</td>\n",
       "      <td>1.0</td>\n",
       "      <td>2.930000e+03</td>\n",
       "    </tr>\n",
       "    <tr>\n",
       "      <th>PID</th>\n",
       "      <td>7.142660e+08</td>\n",
       "      <td>1.887256e+08</td>\n",
       "      <td>526301100.0</td>\n",
       "      <td>1.007100e+09</td>\n",
       "    </tr>\n",
       "    <tr>\n",
       "      <th>MS SubClass</th>\n",
       "      <td>5.739836e+01</td>\n",
       "      <td>4.265422e+01</td>\n",
       "      <td>20.0</td>\n",
       "      <td>1.900000e+02</td>\n",
       "    </tr>\n",
       "    <tr>\n",
       "      <th>Lot Frontage</th>\n",
       "      <td>5.751179e+01</td>\n",
       "      <td>3.312974e+01</td>\n",
       "      <td>0.0</td>\n",
       "      <td>3.130000e+02</td>\n",
       "    </tr>\n",
       "    <tr>\n",
       "      <th>Lot Area</th>\n",
       "      <td>1.010937e+04</td>\n",
       "      <td>7.782876e+03</td>\n",
       "      <td>1300.0</td>\n",
       "      <td>2.152450e+05</td>\n",
       "    </tr>\n",
       "    <tr>\n",
       "      <th>Overall Qual</th>\n",
       "      <td>6.090878e+00</td>\n",
       "      <td>1.406195e+00</td>\n",
       "      <td>1.0</td>\n",
       "      <td>1.000000e+01</td>\n",
       "    </tr>\n",
       "    <tr>\n",
       "      <th>Overall Cond</th>\n",
       "      <td>5.563717e+00</td>\n",
       "      <td>1.111960e+00</td>\n",
       "      <td>1.0</td>\n",
       "      <td>9.000000e+00</td>\n",
       "    </tr>\n",
       "    <tr>\n",
       "      <th>Year Built</th>\n",
       "      <td>1.971319e+03</td>\n",
       "      <td>3.023849e+01</td>\n",
       "      <td>1872.0</td>\n",
       "      <td>2.010000e+03</td>\n",
       "    </tr>\n",
       "    <tr>\n",
       "      <th>Year Remod/Add</th>\n",
       "      <td>1.984242e+03</td>\n",
       "      <td>2.085673e+01</td>\n",
       "      <td>1950.0</td>\n",
       "      <td>2.010000e+03</td>\n",
       "    </tr>\n",
       "    <tr>\n",
       "      <th>Mas Vnr Area</th>\n",
       "      <td>1.002501e+02</td>\n",
       "      <td>1.766269e+02</td>\n",
       "      <td>0.0</td>\n",
       "      <td>1.600000e+03</td>\n",
       "    </tr>\n",
       "    <tr>\n",
       "      <th>BsmtFin SF 1</th>\n",
       "      <td>4.388616e+02</td>\n",
       "      <td>4.393556e+02</td>\n",
       "      <td>0.0</td>\n",
       "      <td>2.288000e+03</td>\n",
       "    </tr>\n",
       "    <tr>\n",
       "      <th>BsmtFin SF 2</th>\n",
       "      <td>4.975641e+01</td>\n",
       "      <td>1.692213e+02</td>\n",
       "      <td>0.0</td>\n",
       "      <td>1.526000e+03</td>\n",
       "    </tr>\n",
       "    <tr>\n",
       "      <th>Bsmt Unf SF</th>\n",
       "      <td>5.588148e+02</td>\n",
       "      <td>4.396154e+02</td>\n",
       "      <td>0.0</td>\n",
       "      <td>2.336000e+03</td>\n",
       "    </tr>\n",
       "    <tr>\n",
       "      <th>Total Bsmt SF</th>\n",
       "      <td>1.047433e+03</td>\n",
       "      <td>4.228650e+02</td>\n",
       "      <td>0.0</td>\n",
       "      <td>3.206000e+03</td>\n",
       "    </tr>\n",
       "    <tr>\n",
       "      <th>1st Flr SF</th>\n",
       "      <td>1.156330e+03</td>\n",
       "      <td>3.779286e+02</td>\n",
       "      <td>334.0</td>\n",
       "      <td>3.820000e+03</td>\n",
       "    </tr>\n",
       "    <tr>\n",
       "      <th>2nd Flr SF</th>\n",
       "      <td>3.349498e+02</td>\n",
       "      <td>4.278423e+02</td>\n",
       "      <td>0.0</td>\n",
       "      <td>2.065000e+03</td>\n",
       "    </tr>\n",
       "    <tr>\n",
       "      <th>Low Qual Fin SF</th>\n",
       "      <td>4.681585e+00</td>\n",
       "      <td>4.633400e+01</td>\n",
       "      <td>0.0</td>\n",
       "      <td>1.064000e+03</td>\n",
       "    </tr>\n",
       "    <tr>\n",
       "      <th>Gr Liv Area</th>\n",
       "      <td>1.495962e+03</td>\n",
       "      <td>4.919932e+02</td>\n",
       "      <td>334.0</td>\n",
       "      <td>4.476000e+03</td>\n",
       "    </tr>\n",
       "    <tr>\n",
       "      <th>Bsmt Full Bath</th>\n",
       "      <td>4.301332e-01</td>\n",
       "      <td>5.240172e-01</td>\n",
       "      <td>0.0</td>\n",
       "      <td>3.000000e+00</td>\n",
       "    </tr>\n",
       "    <tr>\n",
       "      <th>Bsmt Half Bath</th>\n",
       "      <td>6.081312e-02</td>\n",
       "      <td>2.446804e-01</td>\n",
       "      <td>0.0</td>\n",
       "      <td>2.000000e+00</td>\n",
       "    </tr>\n",
       "    <tr>\n",
       "      <th>Full Bath</th>\n",
       "      <td>1.565767e+00</td>\n",
       "      <td>5.524722e-01</td>\n",
       "      <td>0.0</td>\n",
       "      <td>4.000000e+00</td>\n",
       "    </tr>\n",
       "    <tr>\n",
       "      <th>Half Bath</th>\n",
       "      <td>3.788862e-01</td>\n",
       "      <td>5.024938e-01</td>\n",
       "      <td>0.0</td>\n",
       "      <td>2.000000e+00</td>\n",
       "    </tr>\n",
       "    <tr>\n",
       "      <th>Bedroom AbvGr</th>\n",
       "      <td>2.854458e+00</td>\n",
       "      <td>8.279960e-01</td>\n",
       "      <td>0.0</td>\n",
       "      <td>8.000000e+00</td>\n",
       "    </tr>\n",
       "    <tr>\n",
       "      <th>Kitchen AbvGr</th>\n",
       "      <td>1.044414e+00</td>\n",
       "      <td>2.141812e-01</td>\n",
       "      <td>0.0</td>\n",
       "      <td>3.000000e+00</td>\n",
       "    </tr>\n",
       "    <tr>\n",
       "      <th>TotRms AbvGrd</th>\n",
       "      <td>6.436625e+00</td>\n",
       "      <td>1.560140e+00</td>\n",
       "      <td>2.0</td>\n",
       "      <td>1.400000e+01</td>\n",
       "    </tr>\n",
       "    <tr>\n",
       "      <th>Fireplaces</th>\n",
       "      <td>5.978818e-01</td>\n",
       "      <td>6.461693e-01</td>\n",
       "      <td>0.0</td>\n",
       "      <td>4.000000e+00</td>\n",
       "    </tr>\n",
       "    <tr>\n",
       "      <th>Garage Yr Blt</th>\n",
       "      <td>1.870646e+03</td>\n",
       "      <td>4.491027e+02</td>\n",
       "      <td>0.0</td>\n",
       "      <td>2.207000e+03</td>\n",
       "    </tr>\n",
       "    <tr>\n",
       "      <th>Garage Cars</th>\n",
       "      <td>1.765289e+00</td>\n",
       "      <td>7.608305e-01</td>\n",
       "      <td>0.0</td>\n",
       "      <td>5.000000e+00</td>\n",
       "    </tr>\n",
       "    <tr>\n",
       "      <th>Garage Area</th>\n",
       "      <td>4.719621e+02</td>\n",
       "      <td>2.140809e+02</td>\n",
       "      <td>0.0</td>\n",
       "      <td>1.488000e+03</td>\n",
       "    </tr>\n",
       "    <tr>\n",
       "      <th>Wood Deck SF</th>\n",
       "      <td>9.351725e+01</td>\n",
       "      <td>1.261121e+02</td>\n",
       "      <td>0.0</td>\n",
       "      <td>1.424000e+03</td>\n",
       "    </tr>\n",
       "    <tr>\n",
       "      <th>Open Porch SF</th>\n",
       "      <td>4.717834e+01</td>\n",
       "      <td>6.655152e+01</td>\n",
       "      <td>0.0</td>\n",
       "      <td>7.420000e+02</td>\n",
       "    </tr>\n",
       "    <tr>\n",
       "      <th>Enclosed Porch</th>\n",
       "      <td>2.303519e+01</td>\n",
       "      <td>6.416770e+01</td>\n",
       "      <td>0.0</td>\n",
       "      <td>1.012000e+03</td>\n",
       "    </tr>\n",
       "    <tr>\n",
       "      <th>3Ssn Porch</th>\n",
       "      <td>2.595149e+00</td>\n",
       "      <td>2.515408e+01</td>\n",
       "      <td>0.0</td>\n",
       "      <td>5.080000e+02</td>\n",
       "    </tr>\n",
       "    <tr>\n",
       "      <th>Screen Porch</th>\n",
       "      <td>1.601845e+01</td>\n",
       "      <td>5.611377e+01</td>\n",
       "      <td>0.0</td>\n",
       "      <td>5.760000e+02</td>\n",
       "    </tr>\n",
       "    <tr>\n",
       "      <th>Pool Area</th>\n",
       "      <td>2.081654e+00</td>\n",
       "      <td>3.450248e+01</td>\n",
       "      <td>0.0</td>\n",
       "      <td>8.000000e+02</td>\n",
       "    </tr>\n",
       "    <tr>\n",
       "      <th>Misc Val</th>\n",
       "      <td>4.487906e+01</td>\n",
       "      <td>4.720780e+02</td>\n",
       "      <td>0.0</td>\n",
       "      <td>1.550000e+04</td>\n",
       "    </tr>\n",
       "    <tr>\n",
       "      <th>Mo Sold</th>\n",
       "      <td>6.215237e+00</td>\n",
       "      <td>2.712368e+00</td>\n",
       "      <td>1.0</td>\n",
       "      <td>1.200000e+01</td>\n",
       "    </tr>\n",
       "    <tr>\n",
       "      <th>Yr Sold</th>\n",
       "      <td>2.007791e+03</td>\n",
       "      <td>1.317120e+00</td>\n",
       "      <td>2006.0</td>\n",
       "      <td>2.010000e+03</td>\n",
       "    </tr>\n",
       "    <tr>\n",
       "      <th>SalePrice</th>\n",
       "      <td>1.814790e+05</td>\n",
       "      <td>7.929591e+04</td>\n",
       "      <td>12789.0</td>\n",
       "      <td>6.116570e+05</td>\n",
       "    </tr>\n",
       "    <tr>\n",
       "      <th>train</th>\n",
       "      <td>7.000342e-01</td>\n",
       "      <td>4.583210e-01</td>\n",
       "      <td>0.0</td>\n",
       "      <td>1.000000e+00</td>\n",
       "    </tr>\n",
       "  </tbody>\n",
       "</table>\n",
       "</div>"
      ],
      "text/plain": [
       "                         mean           std          min           max\n",
       "Id               1.464999e+03  8.461886e+02          1.0  2.930000e+03\n",
       "PID              7.142660e+08  1.887256e+08  526301100.0  1.007100e+09\n",
       "MS SubClass      5.739836e+01  4.265422e+01         20.0  1.900000e+02\n",
       "Lot Frontage     5.751179e+01  3.312974e+01          0.0  3.130000e+02\n",
       "Lot Area         1.010937e+04  7.782876e+03       1300.0  2.152450e+05\n",
       "Overall Qual     6.090878e+00  1.406195e+00          1.0  1.000000e+01\n",
       "Overall Cond     5.563717e+00  1.111960e+00          1.0  9.000000e+00\n",
       "Year Built       1.971319e+03  3.023849e+01       1872.0  2.010000e+03\n",
       "Year Remod/Add   1.984242e+03  2.085673e+01       1950.0  2.010000e+03\n",
       "Mas Vnr Area     1.002501e+02  1.766269e+02          0.0  1.600000e+03\n",
       "BsmtFin SF 1     4.388616e+02  4.393556e+02          0.0  2.288000e+03\n",
       "BsmtFin SF 2     4.975641e+01  1.692213e+02          0.0  1.526000e+03\n",
       "Bsmt Unf SF      5.588148e+02  4.396154e+02          0.0  2.336000e+03\n",
       "Total Bsmt SF    1.047433e+03  4.228650e+02          0.0  3.206000e+03\n",
       "1st Flr SF       1.156330e+03  3.779286e+02        334.0  3.820000e+03\n",
       "2nd Flr SF       3.349498e+02  4.278423e+02          0.0  2.065000e+03\n",
       "Low Qual Fin SF  4.681585e+00  4.633400e+01          0.0  1.064000e+03\n",
       "Gr Liv Area      1.495962e+03  4.919932e+02        334.0  4.476000e+03\n",
       "Bsmt Full Bath   4.301332e-01  5.240172e-01          0.0  3.000000e+00\n",
       "Bsmt Half Bath   6.081312e-02  2.446804e-01          0.0  2.000000e+00\n",
       "Full Bath        1.565767e+00  5.524722e-01          0.0  4.000000e+00\n",
       "Half Bath        3.788862e-01  5.024938e-01          0.0  2.000000e+00\n",
       "Bedroom AbvGr    2.854458e+00  8.279960e-01          0.0  8.000000e+00\n",
       "Kitchen AbvGr    1.044414e+00  2.141812e-01          0.0  3.000000e+00\n",
       "TotRms AbvGrd    6.436625e+00  1.560140e+00          2.0  1.400000e+01\n",
       "Fireplaces       5.978818e-01  6.461693e-01          0.0  4.000000e+00\n",
       "Garage Yr Blt    1.870646e+03  4.491027e+02          0.0  2.207000e+03\n",
       "Garage Cars      1.765289e+00  7.608305e-01          0.0  5.000000e+00\n",
       "Garage Area      4.719621e+02  2.140809e+02          0.0  1.488000e+03\n",
       "Wood Deck SF     9.351725e+01  1.261121e+02          0.0  1.424000e+03\n",
       "Open Porch SF    4.717834e+01  6.655152e+01          0.0  7.420000e+02\n",
       "Enclosed Porch   2.303519e+01  6.416770e+01          0.0  1.012000e+03\n",
       "3Ssn Porch       2.595149e+00  2.515408e+01          0.0  5.080000e+02\n",
       "Screen Porch     1.601845e+01  5.611377e+01          0.0  5.760000e+02\n",
       "Pool Area        2.081654e+00  3.450248e+01          0.0  8.000000e+02\n",
       "Misc Val         4.487906e+01  4.720780e+02          0.0  1.550000e+04\n",
       "Mo Sold          6.215237e+00  2.712368e+00          1.0  1.200000e+01\n",
       "Yr Sold          2.007791e+03  1.317120e+00       2006.0  2.010000e+03\n",
       "SalePrice        1.814790e+05  7.929591e+04      12789.0  6.116570e+05\n",
       "train            7.000342e-01  4.583210e-01          0.0  1.000000e+00"
      ]
     },
     "execution_count": 17,
     "metadata": {},
     "output_type": "execute_result"
    }
   ],
   "source": [
    "all_data.describe().transpose()[['mean', 'std', 'min', 'max']]"
   ]
  },
  {
   "cell_type": "markdown",
   "metadata": {},
   "source": [
    "We note that Month Sold is given as 1-12, we should convert this to a categorical, as there is no numeric significance to the number of a month.  \n",
    "\n",
    "We should likewise convert Year Sold into a categorical variable.\n",
    "\n",
    "We note that there is an entry error in Garage Year Built, we should adjust this number or drop the row after investigating.\n",
    "\n",
    "We note that MS SubClass is a numeric column which is actually meant to be interpreted as a categorical, we should convert the values to strings."
   ]
  },
  {
   "cell_type": "code",
   "execution_count": 18,
   "metadata": {},
   "outputs": [],
   "source": [
    "# Convert Year to categorical\n",
    "all_data['Yr Sold'] = all_data['Yr Sold'].astype(str)"
   ]
  },
  {
   "cell_type": "code",
   "execution_count": 19,
   "metadata": {},
   "outputs": [],
   "source": [
    "# Convert month to categorical\n",
    "all_data['Mo Sold'] = all_data['Mo Sold'].map({\n",
    "    1: 'Jan', 2: 'Feb', 3: 'Mar', 4: 'Apr', 5: 'May', 6: 'Jun', 7: 'Jul', 8: 'Aug', 9: 'Sep',\n",
    "    10: 'Oct', 11: 'Nov', 12: 'Dec'})"
   ]
  },
  {
   "cell_type": "code",
   "execution_count": 20,
   "metadata": {},
   "outputs": [
    {
     "data": {
      "text/html": [
       "<div>\n",
       "<style scoped>\n",
       "    .dataframe tbody tr th:only-of-type {\n",
       "        vertical-align: middle;\n",
       "    }\n",
       "\n",
       "    .dataframe tbody tr th {\n",
       "        vertical-align: top;\n",
       "    }\n",
       "\n",
       "    .dataframe thead th {\n",
       "        text-align: right;\n",
       "    }\n",
       "</style>\n",
       "<table border=\"1\" class=\"dataframe\">\n",
       "  <thead>\n",
       "    <tr style=\"text-align: right;\">\n",
       "      <th></th>\n",
       "      <th>Id</th>\n",
       "      <th>PID</th>\n",
       "      <th>MS SubClass</th>\n",
       "      <th>MS Zoning</th>\n",
       "      <th>Lot Frontage</th>\n",
       "      <th>Lot Area</th>\n",
       "      <th>Street</th>\n",
       "      <th>Alley</th>\n",
       "      <th>Lot Shape</th>\n",
       "      <th>Land Contour</th>\n",
       "      <th>Utilities</th>\n",
       "      <th>Lot Config</th>\n",
       "      <th>Land Slope</th>\n",
       "      <th>Neighborhood</th>\n",
       "      <th>Condition 1</th>\n",
       "      <th>Condition 2</th>\n",
       "      <th>Bldg Type</th>\n",
       "      <th>House Style</th>\n",
       "      <th>Overall Qual</th>\n",
       "      <th>Overall Cond</th>\n",
       "      <th>Year Built</th>\n",
       "      <th>Year Remod/Add</th>\n",
       "      <th>Roof Style</th>\n",
       "      <th>Roof Matl</th>\n",
       "      <th>Exterior 1st</th>\n",
       "      <th>Exterior 2nd</th>\n",
       "      <th>Mas Vnr Type</th>\n",
       "      <th>Mas Vnr Area</th>\n",
       "      <th>Exter Qual</th>\n",
       "      <th>Exter Cond</th>\n",
       "      <th>Foundation</th>\n",
       "      <th>Bsmt Qual</th>\n",
       "      <th>Bsmt Cond</th>\n",
       "      <th>Bsmt Exposure</th>\n",
       "      <th>BsmtFin Type 1</th>\n",
       "      <th>BsmtFin SF 1</th>\n",
       "      <th>BsmtFin Type 2</th>\n",
       "      <th>BsmtFin SF 2</th>\n",
       "      <th>Bsmt Unf SF</th>\n",
       "      <th>Total Bsmt SF</th>\n",
       "      <th>Heating</th>\n",
       "      <th>Heating QC</th>\n",
       "      <th>Central Air</th>\n",
       "      <th>Electrical</th>\n",
       "      <th>1st Flr SF</th>\n",
       "      <th>2nd Flr SF</th>\n",
       "      <th>Low Qual Fin SF</th>\n",
       "      <th>Gr Liv Area</th>\n",
       "      <th>Bsmt Full Bath</th>\n",
       "      <th>Bsmt Half Bath</th>\n",
       "      <th>Full Bath</th>\n",
       "      <th>Half Bath</th>\n",
       "      <th>Bedroom AbvGr</th>\n",
       "      <th>Kitchen AbvGr</th>\n",
       "      <th>Kitchen Qual</th>\n",
       "      <th>TotRms AbvGrd</th>\n",
       "      <th>Functional</th>\n",
       "      <th>Fireplaces</th>\n",
       "      <th>Fireplace Qu</th>\n",
       "      <th>Garage Type</th>\n",
       "      <th>Garage Yr Blt</th>\n",
       "      <th>Garage Finish</th>\n",
       "      <th>Garage Cars</th>\n",
       "      <th>Garage Area</th>\n",
       "      <th>Garage Qual</th>\n",
       "      <th>Garage Cond</th>\n",
       "      <th>Paved Drive</th>\n",
       "      <th>Wood Deck SF</th>\n",
       "      <th>Open Porch SF</th>\n",
       "      <th>Enclosed Porch</th>\n",
       "      <th>3Ssn Porch</th>\n",
       "      <th>Screen Porch</th>\n",
       "      <th>Pool Area</th>\n",
       "      <th>Pool QC</th>\n",
       "      <th>Fence</th>\n",
       "      <th>Misc Feature</th>\n",
       "      <th>Misc Val</th>\n",
       "      <th>Mo Sold</th>\n",
       "      <th>Yr Sold</th>\n",
       "      <th>Sale Type</th>\n",
       "      <th>SalePrice</th>\n",
       "      <th>train</th>\n",
       "    </tr>\n",
       "  </thead>\n",
       "  <tbody>\n",
       "    <tr>\n",
       "      <th>1698</th>\n",
       "      <td>2261</td>\n",
       "      <td>916384070</td>\n",
       "      <td>20</td>\n",
       "      <td>RL</td>\n",
       "      <td>68.0</td>\n",
       "      <td>8298</td>\n",
       "      <td>Pave</td>\n",
       "      <td>No</td>\n",
       "      <td>IR1</td>\n",
       "      <td>HLS</td>\n",
       "      <td>AllPub</td>\n",
       "      <td>Inside</td>\n",
       "      <td>Gtl</td>\n",
       "      <td>Timber</td>\n",
       "      <td>Norm</td>\n",
       "      <td>Norm</td>\n",
       "      <td>1Fam</td>\n",
       "      <td>1Story</td>\n",
       "      <td>8</td>\n",
       "      <td>5</td>\n",
       "      <td>2006</td>\n",
       "      <td>2007</td>\n",
       "      <td>Hip</td>\n",
       "      <td>CompShg</td>\n",
       "      <td>VinylSd</td>\n",
       "      <td>VinylSd</td>\n",
       "      <td>No</td>\n",
       "      <td>0.0</td>\n",
       "      <td>Gd</td>\n",
       "      <td>TA</td>\n",
       "      <td>PConc</td>\n",
       "      <td>Gd</td>\n",
       "      <td>TA</td>\n",
       "      <td>Av</td>\n",
       "      <td>GLQ</td>\n",
       "      <td>583.0</td>\n",
       "      <td>Unf</td>\n",
       "      <td>0.0</td>\n",
       "      <td>963.0</td>\n",
       "      <td>1546.0</td>\n",
       "      <td>GasA</td>\n",
       "      <td>Ex</td>\n",
       "      <td>Y</td>\n",
       "      <td>SBrkr</td>\n",
       "      <td>1564</td>\n",
       "      <td>0</td>\n",
       "      <td>0</td>\n",
       "      <td>1564</td>\n",
       "      <td>0.0</td>\n",
       "      <td>0.0</td>\n",
       "      <td>2</td>\n",
       "      <td>0</td>\n",
       "      <td>2</td>\n",
       "      <td>1</td>\n",
       "      <td>Ex</td>\n",
       "      <td>6</td>\n",
       "      <td>Typ</td>\n",
       "      <td>1</td>\n",
       "      <td>Gd</td>\n",
       "      <td>Attchd</td>\n",
       "      <td>2207.0</td>\n",
       "      <td>RFn</td>\n",
       "      <td>2.0</td>\n",
       "      <td>502.0</td>\n",
       "      <td>TA</td>\n",
       "      <td>TA</td>\n",
       "      <td>Y</td>\n",
       "      <td>132</td>\n",
       "      <td>0</td>\n",
       "      <td>0</td>\n",
       "      <td>0</td>\n",
       "      <td>0</td>\n",
       "      <td>0</td>\n",
       "      <td>No</td>\n",
       "      <td>No</td>\n",
       "      <td>No</td>\n",
       "      <td>0</td>\n",
       "      <td>Sep</td>\n",
       "      <td>2007</td>\n",
       "      <td>New</td>\n",
       "      <td>267300.0</td>\n",
       "      <td>1</td>\n",
       "    </tr>\n",
       "  </tbody>\n",
       "</table>\n",
       "</div>"
      ],
      "text/plain": [
       "        Id        PID  MS SubClass MS Zoning  Lot Frontage  Lot Area Street  \\\n",
       "1698  2261  916384070           20        RL          68.0      8298   Pave   \n",
       "\n",
       "     Alley Lot Shape Land Contour Utilities Lot Config Land Slope  \\\n",
       "1698    No       IR1          HLS    AllPub     Inside        Gtl   \n",
       "\n",
       "     Neighborhood Condition 1 Condition 2 Bldg Type House Style  Overall Qual  \\\n",
       "1698       Timber        Norm        Norm      1Fam      1Story             8   \n",
       "\n",
       "      Overall Cond  Year Built  Year Remod/Add Roof Style Roof Matl  \\\n",
       "1698             5        2006            2007        Hip   CompShg   \n",
       "\n",
       "     Exterior 1st Exterior 2nd Mas Vnr Type  Mas Vnr Area Exter Qual  \\\n",
       "1698      VinylSd      VinylSd           No           0.0         Gd   \n",
       "\n",
       "     Exter Cond Foundation Bsmt Qual Bsmt Cond Bsmt Exposure BsmtFin Type 1  \\\n",
       "1698         TA      PConc        Gd        TA            Av            GLQ   \n",
       "\n",
       "      BsmtFin SF 1 BsmtFin Type 2  BsmtFin SF 2  Bsmt Unf SF  Total Bsmt SF  \\\n",
       "1698         583.0            Unf           0.0        963.0         1546.0   \n",
       "\n",
       "     Heating Heating QC Central Air Electrical  1st Flr SF  2nd Flr SF  \\\n",
       "1698    GasA         Ex           Y      SBrkr        1564           0   \n",
       "\n",
       "      Low Qual Fin SF  Gr Liv Area  Bsmt Full Bath  Bsmt Half Bath  Full Bath  \\\n",
       "1698                0         1564             0.0             0.0          2   \n",
       "\n",
       "      Half Bath  Bedroom AbvGr  Kitchen AbvGr Kitchen Qual  TotRms AbvGrd  \\\n",
       "1698          0              2              1           Ex              6   \n",
       "\n",
       "     Functional  Fireplaces Fireplace Qu Garage Type  Garage Yr Blt  \\\n",
       "1698        Typ           1           Gd      Attchd         2207.0   \n",
       "\n",
       "     Garage Finish  Garage Cars  Garage Area Garage Qual Garage Cond  \\\n",
       "1698           RFn          2.0        502.0          TA          TA   \n",
       "\n",
       "     Paved Drive  Wood Deck SF  Open Porch SF  Enclosed Porch  3Ssn Porch  \\\n",
       "1698           Y           132              0               0           0   \n",
       "\n",
       "      Screen Porch  Pool Area Pool QC Fence Misc Feature  Misc Val Mo Sold  \\\n",
       "1698             0          0      No    No           No         0     Sep   \n",
       "\n",
       "     Yr Sold Sale Type  SalePrice  train  \n",
       "1698    2007       New   267300.0      1  "
      ]
     },
     "execution_count": 20,
     "metadata": {},
     "output_type": "execute_result"
    }
   ],
   "source": [
    "# Investigate Garage Yr Blt entry error\n",
    "all_data[all_data['Garage Yr Blt'] == 2207]"
   ]
  },
  {
   "cell_type": "markdown",
   "metadata": {},
   "source": [
    "We see that the home was built in 2006, and remodeled in 2007. We can safely conclude that 2207 should be 2007."
   ]
  },
  {
   "cell_type": "code",
   "execution_count": 21,
   "metadata": {},
   "outputs": [],
   "source": [
    "# Fix erroneous entry in Garage Yr Blt\n",
    "all_data[all_data['Garage Yr Blt'] == 2207]['Garage Yr Blt'] = 2007"
   ]
  },
  {
   "cell_type": "code",
   "execution_count": 22,
   "metadata": {},
   "outputs": [],
   "source": [
    "# Convert MS SubClass to string\n",
    "all_data['MS SubClass'] = all_data['MS SubClass'].astype(str)"
   ]
  },
  {
   "cell_type": "markdown",
   "metadata": {},
   "source": [
    "### Categorical Variables"
   ]
  },
  {
   "cell_type": "markdown",
   "metadata": {},
   "source": [
    "As we noted after reviewing the Data Dictionary, a number of ordinal variables share a consistent scale. Let's adjust these to an integer scale.\n",
    "\n",
    "We will raise all ordinals to the second power to increase the model's sense of scale between a very bad and very good quality."
   ]
  },
  {
   "cell_type": "code",
   "execution_count": 23,
   "metadata": {},
   "outputs": [],
   "source": [
    "# Standard Ordinal Variables\n",
    "ordinal_shared = ['Exter Qual', 'Exter Cond', 'Bsmt Qual', 'Bsmt Cond', 'Heating QC', 'Kitchen Qual',\n",
    "                  'Fireplace Qu', 'Garage Qual', 'Garage Cond', 'Pool QC']\n",
    "\n",
    "ord_map = {'No': 0, 'Po': 1, 'Fa': 2**2, 'TA': 3**2, 'Gd': 4**2, 'Ex': 5**2}\n",
    "\n",
    "for col in ordinal_shared:\n",
    "    all_data[col] = all_data[col].map(ord_map)"
   ]
  },
  {
   "cell_type": "code",
   "execution_count": 24,
   "metadata": {},
   "outputs": [],
   "source": [
    "# Non-Standard Ordinal Variables\n",
    "all_data['Bsmt Exposure'] = all_data['Bsmt Exposure'].map({\n",
    "    'No': 0, 'Mn': 1, 'Av': 2**2, 'Gd': 3**2})\n",
    "all_data['Lot Shape'] = all_data['Lot Shape'].map({\n",
    "    'No': 0, 'IR3': 1, 'IR2': 2**2, 'IR1': 3**2, 'Reg': 4**2})\n",
    "all_data['Utilities'] = all_data['Utilities'].map({\n",
    "    'ELO': 0, 'NoSeWa': 1, 'NoSewr': 3**2, 'AllPub': 4**2})\n",
    "all_data['Land Slope'] = all_data['Land Slope'].map({\n",
    "    'Sev': 0, 'Mod': 1, 'Gtl': 2**2})\n",
    "all_data['BsmtFin Type 1'] = all_data['BsmtFin Type 1'].map({\n",
    "    'No': 0, 'Unf': 1, 'LwQ': 2**2, 'Rec': 3**2, 'BLQ': 4**2, 'ALQ': 5**2, 'GLQ': 6**2})\n",
    "all_data['BsmtFin Type 2'] = all_data['BsmtFin Type 2'].map({\n",
    "    'No': 0, 'Unf': 1, 'LwQ': 2**2, 'Rec': 3**2, 'BLQ': 4**2, 'ALQ': 5**2, 'GLQ': 6**2})\n",
    "all_data['Electrical'] = all_data['Electrical'].map({\n",
    "    'Mix': 0, 'FuseP': 1, 'FuseF': 2**2, 'FuseA': 3**2, 'SBrkr': 4**2})\n",
    "all_data['Functional'] = all_data['Functional'].map({\n",
    "    'Sal': 0, 'Sev': 1, 'Maj2': 2**2, 'Maj1': 3**2, 'Mod': 4**2, 'Min2': 5**2, 'Min1': 6**2, 'Typ': 7**2})\n",
    "all_data['Garage Finish'] = all_data['Garage Finish'].map({\n",
    "    'No': 0, 'Unf': 1, 'RFn': 2**2, 'Fin': 3**2})\n",
    "all_data['Paved Drive'] = all_data['Paved Drive'].map({\n",
    "    'N': 0, 'P': 1, 'Y': 2**2})\n",
    "all_data['Fence'] = all_data['Fence'].map({\n",
    "    'No': 0, 'MnWw': 1, 'GdWo': 2**2, 'MnPrv': 3**2, 'GdPrv': 4**2})"
   ]
  },
  {
   "cell_type": "markdown",
   "metadata": {},
   "source": [
    "### Low-occurrence column values identified in EDA"
   ]
  },
  {
   "cell_type": "markdown",
   "metadata": {},
   "source": [
    "We'd like to look at some columns which we identified during EDA, and have few-to-no variation in values:"
   ]
  },
  {
   "cell_type": "code",
   "execution_count": 25,
   "metadata": {},
   "outputs": [
    {
     "data": {
      "text/plain": [
       "16    0.635121\n",
       "9     0.333789\n",
       "4     0.025965\n",
       "1     0.005125\n",
       "Name: Lot Shape, dtype: float64"
      ]
     },
     "execution_count": 25,
     "metadata": {},
     "output_type": "execute_result"
    }
   ],
   "source": [
    "all_data['Lot Shape'].value_counts(normalize=True)"
   ]
  },
  {
   "cell_type": "markdown",
   "metadata": {},
   "source": [
    "\"Lot Shape\" value levels 1 and 2 are low-occurrence, so we will bin them with the 3rd tier"
   ]
  },
  {
   "cell_type": "code",
   "execution_count": 26,
   "metadata": {},
   "outputs": [],
   "source": [
    "all_data['Lot Shape'] = all_data['Lot Shape'].map({\n",
    "    1: 9, 4: 9, 9: 9, 16: 16})"
   ]
  },
  {
   "cell_type": "code",
   "execution_count": 27,
   "metadata": {},
   "outputs": [
    {
     "data": {
      "text/plain": [
       "16    0.998975\n",
       "9     0.000683\n",
       "1     0.000342\n",
       "Name: Utilities, dtype: float64"
      ]
     },
     "execution_count": 27,
     "metadata": {},
     "output_type": "execute_result"
    }
   ],
   "source": [
    "all_data['Utilities'].value_counts(normalize=True)"
   ]
  },
  {
   "cell_type": "code",
   "execution_count": 28,
   "metadata": {},
   "outputs": [],
   "source": [
    "all_data.drop(columns='Utilities', inplace=True)"
   ]
  },
  {
   "cell_type": "markdown",
   "metadata": {},
   "source": [
    "\"Utilities\" only has 3 entries which vary from the most common value, we will drop the column."
   ]
  },
  {
   "cell_type": "code",
   "execution_count": 29,
   "metadata": {},
   "outputs": [
    {
     "data": {
      "text/plain": [
       "4    0.951828\n",
       "1    0.042706\n",
       "0    0.005466\n",
       "Name: Land Slope, dtype: float64"
      ]
     },
     "execution_count": 29,
     "metadata": {},
     "output_type": "execute_result"
    }
   ],
   "source": [
    "all_data['Land Slope'].value_counts(normalize=True)"
   ]
  },
  {
   "cell_type": "markdown",
   "metadata": {},
   "source": [
    "Land Slope level 0 is uncommon, we will bin with level 1:"
   ]
  },
  {
   "cell_type": "code",
   "execution_count": 30,
   "metadata": {},
   "outputs": [],
   "source": [
    "all_data['Land Slope'] = all_data['Land Slope'].map({\n",
    "    0: 1, 1: 1, 4: 4})"
   ]
  },
  {
   "cell_type": "code",
   "execution_count": 31,
   "metadata": {},
   "outputs": [
    {
     "data": {
      "text/plain": [
       "9     0.869833\n",
       "16    0.102152\n",
       "4     0.022890\n",
       "25    0.004100\n",
       "1     0.001025\n",
       "Name: Exter Cond, dtype: float64"
      ]
     },
     "execution_count": 31,
     "metadata": {},
     "output_type": "execute_result"
    }
   ],
   "source": [
    "all_data['Exter Cond'].value_counts(normalize=True)"
   ]
  },
  {
   "cell_type": "markdown",
   "metadata": {},
   "source": [
    "\"Exter Cond\" only has a handful of level 1, 2, and 5 values, so we'll bin those values:"
   ]
  },
  {
   "cell_type": "code",
   "execution_count": 32,
   "metadata": {},
   "outputs": [],
   "source": [
    "all_data['Exter Cond'] = all_data['Exter Cond'].map({\n",
    "    1: 9, 4: 9, 9: 9, 16: 16, 25: 16})"
   ]
  },
  {
   "cell_type": "code",
   "execution_count": 33,
   "metadata": {},
   "outputs": [
    {
     "data": {
      "text/plain": [
       "9     0.614622\n",
       "16    0.337889\n",
       "25    0.035531\n",
       "4     0.011958\n",
       "Name: Exter Qual, dtype: float64"
      ]
     },
     "execution_count": 33,
     "metadata": {},
     "output_type": "execute_result"
    }
   ],
   "source": [
    "all_data['Exter Qual'].value_counts(normalize=True)"
   ]
  },
  {
   "cell_type": "markdown",
   "metadata": {},
   "source": [
    "\"Exter Qual\" levels 2 and 5 are low-occurrence, we will bin them:"
   ]
  },
  {
   "cell_type": "code",
   "execution_count": 34,
   "metadata": {},
   "outputs": [],
   "source": [
    "all_data['Exter Qual'] = all_data['Exter Qual'].map({\n",
    "    4: 9, 9: 9, 16: 16, 25: 16})"
   ]
  },
  {
   "cell_type": "code",
   "execution_count": 35,
   "metadata": {},
   "outputs": [
    {
     "data": {
      "text/plain": [
       "9     0.438333\n",
       "16    0.416467\n",
       "25    0.087120\n",
       "4     0.030065\n",
       "0     0.027332\n",
       "1     0.000683\n",
       "Name: Bsmt Qual, dtype: float64"
      ]
     },
     "execution_count": 35,
     "metadata": {},
     "output_type": "execute_result"
    }
   ],
   "source": [
    "all_data['Bsmt Qual'].value_counts(normalize=True)"
   ]
  },
  {
   "cell_type": "markdown",
   "metadata": {},
   "source": [
    "\"Bsmt Qual\" levels 0, 1, and 2 are low-occurrence, we will bin them:"
   ]
  },
  {
   "cell_type": "code",
   "execution_count": 36,
   "metadata": {},
   "outputs": [],
   "source": [
    "all_data['Bsmt Qual'] = all_data['Bsmt Qual'].map({\n",
    "    0: 9, 1: 9, 4: 9, 9: 9, 16: 16, 25: 25})"
   ]
  },
  {
   "cell_type": "code",
   "execution_count": 37,
   "metadata": {},
   "outputs": [
    {
     "data": {
      "text/plain": [
       "9     0.892723\n",
       "16    0.041681\n",
       "4     0.035531\n",
       "0     0.027332\n",
       "1     0.001708\n",
       "25    0.001025\n",
       "Name: Bsmt Cond, dtype: float64"
      ]
     },
     "execution_count": 37,
     "metadata": {},
     "output_type": "execute_result"
    }
   ],
   "source": [
    "all_data['Bsmt Cond'].value_counts(normalize=True)"
   ]
  },
  {
   "cell_type": "markdown",
   "metadata": {},
   "source": [
    "\"Bsmt Cond\" levels 0, 1, and 5 are low-occurrence, we will bin them:"
   ]
  },
  {
   "cell_type": "code",
   "execution_count": 38,
   "metadata": {},
   "outputs": [],
   "source": [
    "all_data['Bsmt Cond'] = all_data['Bsmt Cond'].map({\n",
    "    0: 4, 1: 4, 4: 4, 9: 9, 16: 16, 25: 16})"
   ]
  },
  {
   "cell_type": "code",
   "execution_count": 39,
   "metadata": {},
   "outputs": [
    {
     "data": {
      "text/plain": [
       "1     0.852750\n",
       "9     0.036215\n",
       "4     0.030407\n",
       "0     0.027673\n",
       "16    0.023232\n",
       "25    0.018107\n",
       "36    0.011616\n",
       "Name: BsmtFin Type 2, dtype: float64"
      ]
     },
     "execution_count": 39,
     "metadata": {},
     "output_type": "execute_result"
    }
   ],
   "source": [
    "all_data['BsmtFin Type 2'].value_counts(normalize=True)"
   ]
  },
  {
   "cell_type": "markdown",
   "metadata": {},
   "source": [
    "\"BsmtFin Type 2\" levels 5 and 6 are low-occurence, we will bin them:"
   ]
  },
  {
   "cell_type": "code",
   "execution_count": 40,
   "metadata": {},
   "outputs": [],
   "source": [
    "all_data['BsmtFin Type 2'] = all_data['BsmtFin Type 2'].map({\n",
    "    0: 0, 1: 1, 4: 4, 9: 9, 16: 16, 25: 16, 36: 16})"
   ]
  },
  {
   "cell_type": "code",
   "execution_count": 41,
   "metadata": {},
   "outputs": [
    {
     "data": {
      "text/plain": [
       "25    0.509737\n",
       "9     0.295183\n",
       "16    0.162624\n",
       "4     0.031431\n",
       "1     0.001025\n",
       "Name: Heating QC, dtype: float64"
      ]
     },
     "execution_count": 41,
     "metadata": {},
     "output_type": "execute_result"
    }
   ],
   "source": [
    "all_data['Heating QC'].value_counts(normalize=True)"
   ]
  },
  {
   "cell_type": "markdown",
   "metadata": {},
   "source": [
    "\"Heating QC\" level 1 is low-occurrence, we will bin it:"
   ]
  },
  {
   "cell_type": "code",
   "execution_count": 42,
   "metadata": {},
   "outputs": [],
   "source": [
    "all_data['Heating QC'] = all_data['Heating QC'].map({\n",
    "    1: 4, 4: 4, 9: 9, 16: 16, 25: 25})"
   ]
  },
  {
   "cell_type": "code",
   "execution_count": 43,
   "metadata": {},
   "outputs": [
    {
     "data": {
      "text/plain": [
       "16    0.915272\n",
       "9     0.064230\n",
       "4     0.017082\n",
       "1     0.002733\n",
       "0     0.000683\n",
       "Name: Electrical, dtype: float64"
      ]
     },
     "execution_count": 43,
     "metadata": {},
     "output_type": "execute_result"
    }
   ],
   "source": [
    "all_data['Electrical'].value_counts(normalize=True)"
   ]
  },
  {
   "cell_type": "markdown",
   "metadata": {},
   "source": [
    "\"Electrical\" levels 0 and 1 are low-occurrence, we will bin them:"
   ]
  },
  {
   "cell_type": "code",
   "execution_count": 44,
   "metadata": {},
   "outputs": [],
   "source": [
    "all_data['Electrical'] = all_data['Electrical'].map({\n",
    "    0: 4, 1: 4, 4: 4, 9: 9, 16: 16})"
   ]
  },
  {
   "cell_type": "code",
   "execution_count": 45,
   "metadata": {},
   "outputs": [
    {
     "data": {
      "text/plain": [
       "0.0    0.583874\n",
       "1.0    0.402802\n",
       "2.0    0.012641\n",
       "3.0    0.000683\n",
       "Name: Bsmt Full Bath, dtype: float64"
      ]
     },
     "execution_count": 45,
     "metadata": {},
     "output_type": "execute_result"
    }
   ],
   "source": [
    "all_data['Bsmt Full Bath'].value_counts(normalize=True)"
   ]
  },
  {
   "cell_type": "markdown",
   "metadata": {},
   "source": [
    "3 Full Basement Bathrooms is rare, we will bin those"
   ]
  },
  {
   "cell_type": "code",
   "execution_count": 46,
   "metadata": {},
   "outputs": [],
   "source": [
    "all_data['Bsmt Full Bath'] = all_data['Bsmt Full Bath'].map({\n",
    "    0: 0, 1: 1, 2: 2, 3: 2})"
   ]
  },
  {
   "cell_type": "code",
   "execution_count": 47,
   "metadata": {},
   "outputs": [
    {
     "data": {
      "text/plain": [
       "0.0    0.940553\n",
       "1.0    0.058080\n",
       "2.0    0.001367\n",
       "Name: Bsmt Half Bath, dtype: float64"
      ]
     },
     "execution_count": 47,
     "metadata": {},
     "output_type": "execute_result"
    }
   ],
   "source": [
    "all_data['Bsmt Half Bath'].value_counts(normalize=True)"
   ]
  },
  {
   "cell_type": "markdown",
   "metadata": {},
   "source": [
    "2 half basement bathrooms is rare, we will bin"
   ]
  },
  {
   "cell_type": "code",
   "execution_count": 48,
   "metadata": {},
   "outputs": [],
   "source": [
    "all_data['Bsmt Half Bath'] = all_data['Bsmt Half Bath'].map({\n",
    "    0: 0, 1: 1, 2: 1})"
   ]
  },
  {
   "cell_type": "code",
   "execution_count": 49,
   "metadata": {},
   "outputs": [
    {
     "data": {
      "text/plain": [
       "2    0.522720\n",
       "1    0.450290\n",
       "3    0.021524\n",
       "0    0.004100\n",
       "4    0.001367\n",
       "Name: Full Bath, dtype: float64"
      ]
     },
     "execution_count": 49,
     "metadata": {},
     "output_type": "execute_result"
    }
   ],
   "source": [
    "all_data['Full Bath'].value_counts(normalize=True)"
   ]
  },
  {
   "cell_type": "markdown",
   "metadata": {},
   "source": [
    "4 and 0 Full Baths is uncommon, we will bin"
   ]
  },
  {
   "cell_type": "code",
   "execution_count": 50,
   "metadata": {},
   "outputs": [],
   "source": [
    "all_data['Full Bath'] = all_data['Full Bath'].map({\n",
    "    0: 1, 1: 1, 2: 2, 3: 3, 4: 3})"
   ]
  },
  {
   "cell_type": "code",
   "execution_count": 51,
   "metadata": {},
   "outputs": [
    {
     "data": {
      "text/plain": [
       "0    0.629655\n",
       "1    0.361804\n",
       "2    0.008541\n",
       "Name: Half Bath, dtype: float64"
      ]
     },
     "execution_count": 51,
     "metadata": {},
     "output_type": "execute_result"
    }
   ],
   "source": [
    "all_data['Half Bath'].value_counts(normalize=True)"
   ]
  },
  {
   "cell_type": "markdown",
   "metadata": {},
   "source": [
    "2 Half Baths is uncommon, we will bin them"
   ]
  },
  {
   "cell_type": "code",
   "execution_count": 52,
   "metadata": {},
   "outputs": [],
   "source": [
    "all_data['Half Bath'] = all_data['Half Bath'].map({\n",
    "    0: 0, 1: 1, 2: 1})"
   ]
  },
  {
   "cell_type": "code",
   "execution_count": 53,
   "metadata": {},
   "outputs": [
    {
     "data": {
      "text/plain": [
       "3    0.544927\n",
       "2    0.253502\n",
       "4    0.136659\n",
       "1    0.038264\n",
       "5    0.016399\n",
       "6    0.007175\n",
       "0    0.002733\n",
       "8    0.000342\n",
       "Name: Bedroom AbvGr, dtype: float64"
      ]
     },
     "execution_count": 53,
     "metadata": {},
     "output_type": "execute_result"
    }
   ],
   "source": [
    "all_data['Bedroom AbvGr'].value_counts(normalize=True)"
   ]
  },
  {
   "cell_type": "markdown",
   "metadata": {},
   "source": [
    "0, 6, and 8 bedrooms above grade are uncommon, we will bin"
   ]
  },
  {
   "cell_type": "code",
   "execution_count": 54,
   "metadata": {},
   "outputs": [],
   "source": [
    "all_data['Bedroom AbvGr'] = all_data['Bedroom AbvGr'].map({\n",
    "    0: 1, 1: 1, 2: 2, 3: 3, 4: 4, 5: 5, 6: 5, 8: 5})"
   ]
  },
  {
   "cell_type": "code",
   "execution_count": 55,
   "metadata": {},
   "outputs": [
    {
     "data": {
      "text/plain": [
       "1    0.954219\n",
       "2    0.044072\n",
       "0    0.001025\n",
       "3    0.000683\n",
       "Name: Kitchen AbvGr, dtype: float64"
      ]
     },
     "execution_count": 55,
     "metadata": {},
     "output_type": "execute_result"
    }
   ],
   "source": [
    "all_data['Kitchen AbvGr'].value_counts(normalize=True)"
   ]
  },
  {
   "cell_type": "markdown",
   "metadata": {},
   "source": [
    "0 and 3 kitchens are rare, we will bin"
   ]
  },
  {
   "cell_type": "code",
   "execution_count": 56,
   "metadata": {},
   "outputs": [],
   "source": [
    "all_data['Kitchen AbvGr'] = all_data['Kitchen AbvGr'].map({\n",
    "    0: 1, 1: 1, 2: 2, 3: 2})"
   ]
  },
  {
   "cell_type": "code",
   "execution_count": 57,
   "metadata": {},
   "outputs": [
    {
     "data": {
      "text/plain": [
       "9     0.510420\n",
       "16    0.396310\n",
       "25    0.069013\n",
       "4     0.023915\n",
       "1     0.000342\n",
       "Name: Kitchen Qual, dtype: float64"
      ]
     },
     "execution_count": 57,
     "metadata": {},
     "output_type": "execute_result"
    }
   ],
   "source": [
    "all_data['Kitchen Qual'].value_counts(normalize=True)"
   ]
  },
  {
   "cell_type": "markdown",
   "metadata": {},
   "source": [
    "Kitchen Quality = 1 is uncommon, we will bin"
   ]
  },
  {
   "cell_type": "code",
   "execution_count": 58,
   "metadata": {},
   "outputs": [],
   "source": [
    "all_data['Kitchen Qual'] = all_data['Kitchen Qual'].map({\n",
    "    1: 4, 4: 4, 9: 9, 16: 16, 25: 25})"
   ]
  },
  {
   "cell_type": "code",
   "execution_count": 59,
   "metadata": {},
   "outputs": [
    {
     "data": {
      "text/plain": [
       "6     0.288350\n",
       "7     0.221729\n",
       "5     0.200205\n",
       "8     0.118551\n",
       "4     0.069354\n",
       "9     0.048855\n",
       "10    0.027332\n",
       "11    0.010591\n",
       "3     0.008883\n",
       "12    0.005125\n",
       "13    0.000342\n",
       "14    0.000342\n",
       "2     0.000342\n",
       "Name: TotRms AbvGrd, dtype: float64"
      ]
     },
     "execution_count": 59,
     "metadata": {},
     "output_type": "execute_result"
    }
   ],
   "source": [
    "all_data['TotRms AbvGrd'].value_counts(normalize=True)"
   ]
  },
  {
   "cell_type": "markdown",
   "metadata": {},
   "source": [
    "We have outliers at 2,3,and 11-15 rooms above grade, we will bin these"
   ]
  },
  {
   "cell_type": "code",
   "execution_count": 60,
   "metadata": {},
   "outputs": [],
   "source": [
    "all_data['TotRms AbvGrd'] = all_data['TotRms AbvGrd'].map({\n",
    "    2: 4, 3: 4, 4: 4, 5: 5, 6: 6, 7: 7, 8: 8, 9: 9, 10: 10, 11: 10, 12: 10, 13: 10, 14: 10, 15: 10})"
   ]
  },
  {
   "cell_type": "code",
   "execution_count": 61,
   "metadata": {},
   "outputs": [
    {
     "data": {
      "text/plain": [
       "49    0.930987\n",
       "25    0.023915\n",
       "36    0.022207\n",
       "16    0.011958\n",
       "9     0.006491\n",
       "4     0.003075\n",
       "1     0.000683\n",
       "0     0.000683\n",
       "Name: Functional, dtype: float64"
      ]
     },
     "execution_count": 61,
     "metadata": {},
     "output_type": "execute_result"
    }
   ],
   "source": [
    "all_data['Functional'].value_counts(normalize=True)"
   ]
  },
  {
   "cell_type": "markdown",
   "metadata": {},
   "source": [
    "\"Functional\" levels 0-4 are underrepresented, we will bin"
   ]
  },
  {
   "cell_type": "code",
   "execution_count": 62,
   "metadata": {},
   "outputs": [],
   "source": [
    "all_data['Functional'] = all_data['Functional'].map({\n",
    "    0: 16, 1: 16, 4: 16, 9: 16, 16: 16, 25: 25, 36: 36, 49: 49})"
   ]
  },
  {
   "cell_type": "code",
   "execution_count": 63,
   "metadata": {},
   "outputs": [
    {
     "data": {
      "text/plain": [
       "0    0.485822\n",
       "1    0.434916\n",
       "2    0.075162\n",
       "3    0.003758\n",
       "4    0.000342\n",
       "Name: Fireplaces, dtype: float64"
      ]
     },
     "execution_count": 63,
     "metadata": {},
     "output_type": "execute_result"
    }
   ],
   "source": [
    "all_data['Fireplaces'].value_counts(normalize=True)"
   ]
  },
  {
   "cell_type": "markdown",
   "metadata": {},
   "source": [
    "3 and 4 fireplaces are uncommon, we wil bin"
   ]
  },
  {
   "cell_type": "code",
   "execution_count": 64,
   "metadata": {},
   "outputs": [],
   "source": [
    "all_data['Fireplaces'] = all_data['Fireplaces'].map({\n",
    "    0: 0, 1: 1, 2: 2, 3: 2, 4: 2})"
   ]
  },
  {
   "cell_type": "code",
   "execution_count": 65,
   "metadata": {},
   "outputs": [
    {
     "data": {
      "text/plain": [
       "2.0    0.547318\n",
       "1.0    0.265801\n",
       "3.0    0.127093\n",
       "0.0    0.053980\n",
       "4.0    0.005466\n",
       "5.0    0.000342\n",
       "Name: Garage Cars, dtype: float64"
      ]
     },
     "execution_count": 65,
     "metadata": {},
     "output_type": "execute_result"
    }
   ],
   "source": [
    "all_data['Garage Cars'].value_counts(normalize=True)"
   ]
  },
  {
   "cell_type": "markdown",
   "metadata": {},
   "source": [
    "4 and 5-car garages are uncommon, we will bin"
   ]
  },
  {
   "cell_type": "code",
   "execution_count": 66,
   "metadata": {},
   "outputs": [],
   "source": [
    "all_data['Garage Cars'] = all_data['Garage Cars'].map({\n",
    "    0: 0, 1: 1, 2: 2, 3: 3, 4: 3, 5: 3})"
   ]
  },
  {
   "cell_type": "code",
   "execution_count": 67,
   "metadata": {},
   "outputs": [
    {
     "data": {
      "text/plain": [
       "9     0.892381\n",
       "0     0.054322\n",
       "4     0.042364\n",
       "16    0.008200\n",
       "1     0.001708\n",
       "25    0.001025\n",
       "Name: Garage Qual, dtype: float64"
      ]
     },
     "execution_count": 67,
     "metadata": {},
     "output_type": "execute_result"
    }
   ],
   "source": [
    "all_data['Garage Qual'].value_counts(normalize=True)"
   ]
  },
  {
   "cell_type": "markdown",
   "metadata": {},
   "source": [
    "Garage quality levels of 1 or above level 3 are uncommon, we will bin"
   ]
  },
  {
   "cell_type": "code",
   "execution_count": 68,
   "metadata": {},
   "outputs": [],
   "source": [
    "all_data['Garage Qual'] = all_data['Garage Qual'].map({\n",
    "    0: 0, 1: 0, 4: 4, 9: 9, 16: 9, 25: 9})"
   ]
  },
  {
   "cell_type": "code",
   "execution_count": 69,
   "metadata": {},
   "outputs": [
    {
     "data": {
      "text/plain": [
       "9     0.909464\n",
       "0     0.054322\n",
       "4     0.025282\n",
       "16    0.005125\n",
       "1     0.004783\n",
       "25    0.001025\n",
       "Name: Garage Cond, dtype: float64"
      ]
     },
     "execution_count": 69,
     "metadata": {},
     "output_type": "execute_result"
    }
   ],
   "source": [
    "all_data['Garage Cond'].value_counts(normalize=True)"
   ]
  },
  {
   "cell_type": "markdown",
   "metadata": {},
   "source": [
    "Garage Condition levels of 1, 4 and 5 are uncommon, we will bin"
   ]
  },
  {
   "cell_type": "code",
   "execution_count": 70,
   "metadata": {},
   "outputs": [],
   "source": [
    "all_data['Garage Cond'] = all_data['Garage Cond'].map({\n",
    "    0: 0, 1: 0, 4: 4, 9: 9, 16: 9, 25: 9})"
   ]
  },
  {
   "cell_type": "code",
   "execution_count": 71,
   "metadata": {},
   "outputs": [
    {
     "data": {
      "text/plain": [
       "0     0.995900\n",
       "25    0.001367\n",
       "9     0.001025\n",
       "16    0.001025\n",
       "4     0.000683\n",
       "Name: Pool QC, dtype: float64"
      ]
     },
     "execution_count": 71,
     "metadata": {},
     "output_type": "execute_result"
    }
   ],
   "source": [
    "all_data['Pool QC'].value_counts(normalize = True)"
   ]
  },
  {
   "cell_type": "markdown",
   "metadata": {},
   "source": [
    "Pool Quality levels are too sparse, we will bin them:"
   ]
  },
  {
   "cell_type": "code",
   "execution_count": 72,
   "metadata": {},
   "outputs": [],
   "source": [
    "all_data['Pool QC'] = all_data['Pool QC'].map({\n",
    "    0:0, 4:25, 9:25, 16:25, 25:25})"
   ]
  },
  {
   "cell_type": "code",
   "execution_count": 73,
   "metadata": {},
   "outputs": [
    {
     "data": {
      "text/plain": [
       "12"
      ]
     },
     "execution_count": 73,
     "metadata": {},
     "output_type": "execute_result"
    }
   ],
   "source": [
    "np.sum(all_data['Pool QC'] > 0)"
   ]
  },
  {
   "cell_type": "code",
   "execution_count": 74,
   "metadata": {},
   "outputs": [
    {
     "data": {
      "text/plain": [
       "0     0.804578\n",
       "9     0.112743\n",
       "16    0.040314\n",
       "4     0.038264\n",
       "1     0.004100\n",
       "Name: Fence, dtype: float64"
      ]
     },
     "execution_count": 74,
     "metadata": {},
     "output_type": "execute_result"
    }
   ],
   "source": [
    "all_data['Fence'].value_counts(normalize=True)"
   ]
  },
  {
   "cell_type": "markdown",
   "metadata": {},
   "source": [
    "Fence levels of 1 are uncommon, we will bin"
   ]
  },
  {
   "cell_type": "code",
   "execution_count": 75,
   "metadata": {},
   "outputs": [],
   "source": [
    "all_data['Fence'] = all_data['Fence'].map({\n",
    "    0: 0, 1: 4, 4: 4, 9: 9, 16: 16})"
   ]
  },
  {
   "cell_type": "code",
   "execution_count": 76,
   "metadata": {},
   "outputs": [
    {
     "data": {
      "text/plain": [
       "102"
      ]
     },
     "execution_count": 76,
     "metadata": {},
     "output_type": "execute_result"
    }
   ],
   "source": [
    "np.sum(all_data['Misc Val'] > 0)"
   ]
  },
  {
   "cell_type": "markdown",
   "metadata": {},
   "source": [
    "There are only 103 entries where \"Misc Val\" is greater than 0, we should also take a look at \"Misc Feature\", but will probably drop these columns."
   ]
  },
  {
   "cell_type": "code",
   "execution_count": 77,
   "metadata": {},
   "outputs": [
    {
     "data": {
      "text/plain": [
       "No      0.964127\n",
       "Shed    0.032456\n",
       "Gar2    0.001708\n",
       "Othr    0.001367\n",
       "TenC    0.000342\n",
       "Name: Misc Feature, dtype: float64"
      ]
     },
     "execution_count": 77,
     "metadata": {},
     "output_type": "execute_result"
    }
   ],
   "source": [
    "all_data['Misc Feature'].value_counts(normalize=True)"
   ]
  },
  {
   "cell_type": "code",
   "execution_count": 78,
   "metadata": {},
   "outputs": [],
   "source": [
    "all_data.drop(columns=['Misc Val', 'Misc Feature'], inplace=True)"
   ]
  },
  {
   "cell_type": "code",
   "execution_count": 79,
   "metadata": {},
   "outputs": [
    {
     "data": {
      "text/plain": [
       "SalePrice         878\n",
       "Total Bsmt SF       0\n",
       "Roof Style          0\n",
       "Roof Matl           0\n",
       "Exterior 1st        0\n",
       "Exterior 2nd        0\n",
       "Mas Vnr Type        0\n",
       "Mas Vnr Area        0\n",
       "Exter Qual          0\n",
       "Exter Cond          0\n",
       "Foundation          0\n",
       "Bsmt Qual           0\n",
       "Bsmt Cond           0\n",
       "Bsmt Exposure       0\n",
       "BsmtFin Type 1      0\n",
       "BsmtFin SF 1        0\n",
       "BsmtFin Type 2      0\n",
       "BsmtFin SF 2        0\n",
       "Bsmt Unf SF         0\n",
       "Year Remod/Add      0\n",
       "train               0\n",
       "Overall Cond        0\n",
       "Lot Shape           0\n",
       "PID                 0\n",
       "MS SubClass         0\n",
       "MS Zoning           0\n",
       "Lot Frontage        0\n",
       "Lot Area            0\n",
       "dtype: int64"
      ]
     },
     "execution_count": 79,
     "metadata": {},
     "output_type": "execute_result"
    }
   ],
   "source": [
    "# Check to make sure our mappings didn't introduce NAs, excluded from final submission\n",
    "all_data.isna().sum().sort_values(ascending=False)[:28]"
   ]
  },
  {
   "cell_type": "markdown",
   "metadata": {},
   "source": [
    "## Exploratory Data Analysis"
   ]
  },
  {
   "cell_type": "code",
   "execution_count": 80,
   "metadata": {},
   "outputs": [
    {
     "name": "stdout",
     "output_type": "stream",
     "text": [
      "(17, 1)\n"
     ]
    },
    {
     "data": {
      "text/html": [
       "<div>\n",
       "<style scoped>\n",
       "    .dataframe tbody tr th:only-of-type {\n",
       "        vertical-align: middle;\n",
       "    }\n",
       "\n",
       "    .dataframe tbody tr th {\n",
       "        vertical-align: top;\n",
       "    }\n",
       "\n",
       "    .dataframe thead th {\n",
       "        text-align: right;\n",
       "    }\n",
       "</style>\n",
       "<table border=\"1\" class=\"dataframe\">\n",
       "  <thead>\n",
       "    <tr style=\"text-align: right;\">\n",
       "      <th></th>\n",
       "      <th>0</th>\n",
       "    </tr>\n",
       "  </thead>\n",
       "  <tbody>\n",
       "    <tr>\n",
       "      <th>Mas Vnr Area</th>\n",
       "      <td>0.511273</td>\n",
       "    </tr>\n",
       "    <tr>\n",
       "      <th>TotRms AbvGrd</th>\n",
       "      <td>0.511997</td>\n",
       "    </tr>\n",
       "    <tr>\n",
       "      <th>Garage Finish</th>\n",
       "      <td>0.538295</td>\n",
       "    </tr>\n",
       "    <tr>\n",
       "      <th>Full Bath</th>\n",
       "      <td>0.546379</td>\n",
       "    </tr>\n",
       "    <tr>\n",
       "      <th>Fireplace Qu</th>\n",
       "      <td>0.548952</td>\n",
       "    </tr>\n",
       "    <tr>\n",
       "      <th>Year Remod/Add</th>\n",
       "      <td>0.550872</td>\n",
       "    </tr>\n",
       "    <tr>\n",
       "      <th>Year Built</th>\n",
       "      <td>0.572405</td>\n",
       "    </tr>\n",
       "    <tr>\n",
       "      <th>Exter Qual</th>\n",
       "      <td>0.634940</td>\n",
       "    </tr>\n",
       "    <tr>\n",
       "      <th>1st Flr SF</th>\n",
       "      <td>0.648252</td>\n",
       "    </tr>\n",
       "    <tr>\n",
       "      <th>Garage Area</th>\n",
       "      <td>0.655097</td>\n",
       "    </tr>\n",
       "    <tr>\n",
       "      <th>Garage Cars</th>\n",
       "      <td>0.659041</td>\n",
       "    </tr>\n",
       "    <tr>\n",
       "      <th>Total Bsmt SF</th>\n",
       "      <td>0.665116</td>\n",
       "    </tr>\n",
       "    <tr>\n",
       "      <th>Bsmt Qual</th>\n",
       "      <td>0.703986</td>\n",
       "    </tr>\n",
       "    <tr>\n",
       "      <th>Kitchen Qual</th>\n",
       "      <td>0.708139</td>\n",
       "    </tr>\n",
       "    <tr>\n",
       "      <th>Gr Liv Area</th>\n",
       "      <td>0.719463</td>\n",
       "    </tr>\n",
       "    <tr>\n",
       "      <th>Overall Qual</th>\n",
       "      <td>0.803462</td>\n",
       "    </tr>\n",
       "    <tr>\n",
       "      <th>SalePrice</th>\n",
       "      <td>1.000000</td>\n",
       "    </tr>\n",
       "  </tbody>\n",
       "</table>\n",
       "</div>"
      ],
      "text/plain": [
       "                       0\n",
       "Mas Vnr Area    0.511273\n",
       "TotRms AbvGrd   0.511997\n",
       "Garage Finish   0.538295\n",
       "Full Bath       0.546379\n",
       "Fireplace Qu    0.548952\n",
       "Year Remod/Add  0.550872\n",
       "Year Built      0.572405\n",
       "Exter Qual      0.634940\n",
       "1st Flr SF      0.648252\n",
       "Garage Area     0.655097\n",
       "Garage Cars     0.659041\n",
       "Total Bsmt SF   0.665116\n",
       "Bsmt Qual       0.703986\n",
       "Kitchen Qual    0.708139\n",
       "Gr Liv Area     0.719463\n",
       "Overall Qual    0.803462\n",
       "SalePrice       1.000000"
      ]
     },
     "execution_count": 80,
     "metadata": {},
     "output_type": "execute_result"
    }
   ],
   "source": [
    "corr = all_data.corr().unstack().sort_values()\n",
    "corr = pd.DataFrame(corr['SalePrice'])\n",
    "kot = corr[corr>=.5]\n",
    "kot.dropna(inplace= True)\n",
    "print(kot.shape)\n",
    "kot"
   ]
  },
  {
   "cell_type": "code",
   "execution_count": 81,
   "metadata": {},
   "outputs": [
    {
     "data": {
      "image/png": "[encoded data removed]",
      "text/plain": [
       "<Figure size 1152x1152 with 2 Axes>"
      ]
     },
     "metadata": {
      "needs_background": "light"
     },
     "output_type": "display_data"
    }
   ],
   "source": [
    "plt.figure(figsize=(16, 16))\n",
    "sns.heatmap(kot, square = True, annot = True, vmin = -1, vmax = 1, linewidths = .5, cmap=\"RdBu\")\n",
    "plt.title('Feature Correlations with Sale Price', fontsize = 24)\n",
    "plt.savefig(\"./assets/heatmap.png\");"
   ]
  },
  {
   "cell_type": "markdown",
   "metadata": {},
   "source": [
    "While we usually like to use heatmaps and pairplots, this dataset has too many variables, as seen above. So we'll need to examine things numerically and then in smaller subsets."
   ]
  },
  {
   "cell_type": "code",
   "execution_count": 82,
   "metadata": {},
   "outputs": [
    {
     "data": {
      "text/plain": [
       "SalePrice         1.000000\n",
       "Overall Qual      0.803462\n",
       "Gr Liv Area       0.719463\n",
       "Kitchen Qual      0.708139\n",
       "Bsmt Qual         0.703986\n",
       "Total Bsmt SF     0.665116\n",
       "Garage Cars       0.659041\n",
       "Garage Area       0.655097\n",
       "1st Flr SF        0.648252\n",
       "Exter Qual        0.634940\n",
       "Year Built        0.572405\n",
       "Year Remod/Add    0.550872\n",
       "Fireplace Qu      0.548952\n",
       "Full Bath         0.546379\n",
       "Garage Finish     0.538295\n",
       "TotRms AbvGrd     0.511997\n",
       "Mas Vnr Area      0.511273\n",
       "Fireplaces        0.477323\n",
       "Heating QC        0.463339\n",
       "BsmtFin SF 1      0.446103\n",
       "Bsmt Exposure     0.425068\n",
       "BsmtFin Type 1    0.392542\n",
       "Open Porch SF     0.338545\n",
       "Wood Deck SF      0.327629\n",
       "Lot Shape         0.306707\n",
       "Lot Area          0.303744\n",
       "Half Bath         0.297091\n",
       "Paved Drive       0.291830\n",
       "Garage Qual       0.290110\n",
       "Bsmt Full Bath    0.286634\n",
       "Name: SalePrice, dtype: float64"
      ]
     },
     "execution_count": 82,
     "metadata": {},
     "output_type": "execute_result"
    }
   ],
   "source": [
    "# Get variable correlations\n",
    "corrs = all_data.corr()\n",
    "\n",
    "# Show variables with the highest relationship to SalePrice\n",
    "corrs.abs().sort_values('SalePrice', ascending=False)['SalePrice'][:30]"
   ]
  },
  {
   "cell_type": "markdown",
   "metadata": {},
   "source": [
    "Unsurprisingly, some of the generic \"Quality\" features are our best standalone predictors. \n",
    "\n",
    "Some of the \"Area\" features are also important.\n",
    "\n",
    "Year Built/Remodeled are important.\n",
    "\n",
    "Number of bathrooms, rooms, and fireplaces also seem important."
   ]
  },
  {
   "cell_type": "markdown",
   "metadata": {},
   "source": [
    "Let's take a look at distributions of our variables:"
   ]
  },
  {
   "cell_type": "code",
   "execution_count": 83,
   "metadata": {},
   "outputs": [],
   "source": [
    "def hist_and_scatter(feature, title, featurename):\n",
    "    figure, ax = plt.subplots(1, 2, figsize=(8, 6))\n",
    "    ax[0].hist(feature)\n",
    "    ax[1].scatter(feature, all_data['SalePrice'])\n",
    "    ax[0].set_xlabel(featurename)\n",
    "    ax[1].set_xlabel(featurename)\n",
    "    ax[1].set_ylabel('SalePrice')\n",
    "    figure.suptitle(title)\n",
    "    plt.tight_layout(rect=[0, 0.03, 1, 0.9])\n",
    "    plt.savefig(f\"./assets/Distribution and Relationship{title}.png\")\n",
    "    plt.show()"
   ]
  },
  {
   "cell_type": "code",
   "execution_count": 84,
   "metadata": {},
   "outputs": [
    {
     "data": {
      "image/png": "[encoded data removed]",
      "text/plain": [
       "<Figure size 576x432 with 2 Axes>"
      ]
     },
     "metadata": {
      "needs_background": "light"
     },
     "output_type": "display_data"
    },
    {
     "data": {
      "image/png": "[encoded data removed]",
      "text/plain": [
       "<Figure size 576x432 with 2 Axes>"
      ]
     },
     "metadata": {
      "needs_background": "light"
     },
     "output_type": "display_data"
    },
    {
     "data": {
      "image/png": "[encoded data removed]",
      "text/plain": [
       "<Figure size 576x432 with 2 Axes>"
      ]
     },
     "metadata": {
      "needs_background": "light"
     },
     "output_type": "display_data"
    },
    {
     "data": {
      "image/png": "[encoded data removed]",
      "text/plain": [
       "<Figure size 576x432 with 2 Axes>"
      ]
     },
     "metadata": {
      "needs_background": "light"
     },
     "output_type": "display_data"
    },
    {
     "data": {
      "image/png": "[encoded data removed]",
      "text/plain": [
       "<Figure size 576x432 with 2 Axes>"
      ]
     },
     "metadata": {
      "needs_background": "light"
     },
     "output_type": "display_data"
    },
    {
     "data": {
      "image/png": "[encoded data removed]",
      "text/plain": [
       "<Figure size 576x432 with 2 Axes>"
      ]
     },
     "metadata": {
      "needs_background": "light"
     },
     "output_type": "display_data"
    },
    {
     "data": {
      "image/png": "[encoded data removed]",
      "text/plain": [
       "<Figure size 576x432 with 2 Axes>"
      ]
     },
     "metadata": {
      "needs_background": "light"
     },
     "output_type": "display_data"
    },
    {
     "ename": "FileNotFoundError",
     "evalue": "[Errno 2] No such file or directory: './assets/Distribution and RelationshipDistribution and Relationship to Sale Price of Year Remod/Add.png'",
     "output_type": "error",
     "traceback": [
      "\u001b[0;31m---------------------------------------------------------------------------\u001b[0m",
      "\u001b[0;31mFileNotFoundError\u001b[0m                         Traceback (most recent call last)",
      "\u001b[0;32m<ipython-input-84-8b4900fbfab5>\u001b[0m in \u001b[0;36m<module>\u001b[0;34m\u001b[0m\n\u001b[1;32m      1\u001b[0m \u001b[0;32mfor\u001b[0m \u001b[0mcol\u001b[0m \u001b[0;32min\u001b[0m \u001b[0mall_data\u001b[0m\u001b[0;34m.\u001b[0m\u001b[0mcolumns\u001b[0m\u001b[0;34m[\u001b[0m\u001b[0mall_data\u001b[0m\u001b[0;34m.\u001b[0m\u001b[0mdtypes\u001b[0m \u001b[0;34m!=\u001b[0m \u001b[0;34m'object'\u001b[0m\u001b[0;34m]\u001b[0m\u001b[0;34m[\u001b[0m\u001b[0;36m2\u001b[0m\u001b[0;34m:\u001b[0m\u001b[0;34m]\u001b[0m\u001b[0;34m:\u001b[0m\u001b[0;34m\u001b[0m\u001b[0;34m\u001b[0m\u001b[0m\n\u001b[1;32m      2\u001b[0m     hist_and_scatter(\n\u001b[0;32m----> 3\u001b[0;31m         all_data[col], f'Distribution and Relationship to Sale Price of {col}', col)\n\u001b[0m",
      "\u001b[0;32m<ipython-input-83-b2e20aae4680>\u001b[0m in \u001b[0;36mhist_and_scatter\u001b[0;34m(feature, title, featurename)\u001b[0m\n\u001b[1;32m      8\u001b[0m     \u001b[0mfigure\u001b[0m\u001b[0;34m.\u001b[0m\u001b[0msuptitle\u001b[0m\u001b[0;34m(\u001b[0m\u001b[0mtitle\u001b[0m\u001b[0;34m)\u001b[0m\u001b[0;34m\u001b[0m\u001b[0;34m\u001b[0m\u001b[0m\n\u001b[1;32m      9\u001b[0m     \u001b[0mplt\u001b[0m\u001b[0;34m.\u001b[0m\u001b[0mtight_layout\u001b[0m\u001b[0;34m(\u001b[0m\u001b[0mrect\u001b[0m\u001b[0;34m=\u001b[0m\u001b[0;34m[\u001b[0m\u001b[0;36m0\u001b[0m\u001b[0;34m,\u001b[0m \u001b[0;36m0.03\u001b[0m\u001b[0;34m,\u001b[0m \u001b[0;36m1\u001b[0m\u001b[0;34m,\u001b[0m \u001b[0;36m0.9\u001b[0m\u001b[0;34m]\u001b[0m\u001b[0;34m)\u001b[0m\u001b[0;34m\u001b[0m\u001b[0;34m\u001b[0m\u001b[0m\n\u001b[0;32m---> 10\u001b[0;31m     \u001b[0mplt\u001b[0m\u001b[0;34m.\u001b[0m\u001b[0msavefig\u001b[0m\u001b[0;34m(\u001b[0m\u001b[0;34mf\"./assets/Distribution and Relationship{title}.png\"\u001b[0m\u001b[0;34m)\u001b[0m\u001b[0;34m\u001b[0m\u001b[0;34m\u001b[0m\u001b[0m\n\u001b[0m\u001b[1;32m     11\u001b[0m     \u001b[0mplt\u001b[0m\u001b[0;34m.\u001b[0m\u001b[0mshow\u001b[0m\u001b[0;34m(\u001b[0m\u001b[0;34m)\u001b[0m\u001b[0;34m\u001b[0m\u001b[0;34m\u001b[0m\u001b[0m\n",
      "\u001b[0;32m/opt/anaconda3/lib/python3.7/site-packages/matplotlib/pyplot.py\u001b[0m in \u001b[0;36msavefig\u001b[0;34m(*args, **kwargs)\u001b[0m\n\u001b[1;32m    727\u001b[0m \u001b[0;32mdef\u001b[0m \u001b[0msavefig\u001b[0m\u001b[0;34m(\u001b[0m\u001b[0;34m*\u001b[0m\u001b[0margs\u001b[0m\u001b[0;34m,\u001b[0m \u001b[0;34m**\u001b[0m\u001b[0mkwargs\u001b[0m\u001b[0;34m)\u001b[0m\u001b[0;34m:\u001b[0m\u001b[0;34m\u001b[0m\u001b[0;34m\u001b[0m\u001b[0m\n\u001b[1;32m    728\u001b[0m     \u001b[0mfig\u001b[0m \u001b[0;34m=\u001b[0m \u001b[0mgcf\u001b[0m\u001b[0;34m(\u001b[0m\u001b[0;34m)\u001b[0m\u001b[0;34m\u001b[0m\u001b[0;34m\u001b[0m\u001b[0m\n\u001b[0;32m--> 729\u001b[0;31m     \u001b[0mres\u001b[0m \u001b[0;34m=\u001b[0m \u001b[0mfig\u001b[0m\u001b[0;34m.\u001b[0m\u001b[0msavefig\u001b[0m\u001b[0;34m(\u001b[0m\u001b[0;34m*\u001b[0m\u001b[0margs\u001b[0m\u001b[0;34m,\u001b[0m \u001b[0;34m**\u001b[0m\u001b[0mkwargs\u001b[0m\u001b[0;34m)\u001b[0m\u001b[0;34m\u001b[0m\u001b[0;34m\u001b[0m\u001b[0m\n\u001b[0m\u001b[1;32m    730\u001b[0m     \u001b[0mfig\u001b[0m\u001b[0;34m.\u001b[0m\u001b[0mcanvas\u001b[0m\u001b[0;34m.\u001b[0m\u001b[0mdraw_idle\u001b[0m\u001b[0;34m(\u001b[0m\u001b[0;34m)\u001b[0m   \u001b[0;31m# need this if 'transparent=True' to reset colors\u001b[0m\u001b[0;34m\u001b[0m\u001b[0;34m\u001b[0m\u001b[0m\n\u001b[1;32m    731\u001b[0m     \u001b[0;32mreturn\u001b[0m \u001b[0mres\u001b[0m\u001b[0;34m\u001b[0m\u001b[0;34m\u001b[0m\u001b[0m\n",
      "\u001b[0;32m/opt/anaconda3/lib/python3.7/site-packages/matplotlib/figure.py\u001b[0m in \u001b[0;36msavefig\u001b[0;34m(self, fname, transparent, **kwargs)\u001b[0m\n\u001b[1;32m   2178\u001b[0m             \u001b[0mself\u001b[0m\u001b[0;34m.\u001b[0m\u001b[0mpatch\u001b[0m\u001b[0;34m.\u001b[0m\u001b[0mset_visible\u001b[0m\u001b[0;34m(\u001b[0m\u001b[0mframeon\u001b[0m\u001b[0;34m)\u001b[0m\u001b[0;34m\u001b[0m\u001b[0;34m\u001b[0m\u001b[0m\n\u001b[1;32m   2179\u001b[0m \u001b[0;34m\u001b[0m\u001b[0m\n\u001b[0;32m-> 2180\u001b[0;31m         \u001b[0mself\u001b[0m\u001b[0;34m.\u001b[0m\u001b[0mcanvas\u001b[0m\u001b[0;34m.\u001b[0m\u001b[0mprint_figure\u001b[0m\u001b[0;34m(\u001b[0m\u001b[0mfname\u001b[0m\u001b[0;34m,\u001b[0m \u001b[0;34m**\u001b[0m\u001b[0mkwargs\u001b[0m\u001b[0;34m)\u001b[0m\u001b[0;34m\u001b[0m\u001b[0;34m\u001b[0m\u001b[0m\n\u001b[0m\u001b[1;32m   2181\u001b[0m \u001b[0;34m\u001b[0m\u001b[0m\n\u001b[1;32m   2182\u001b[0m         \u001b[0;32mif\u001b[0m \u001b[0mframeon\u001b[0m\u001b[0;34m:\u001b[0m\u001b[0;34m\u001b[0m\u001b[0;34m\u001b[0m\u001b[0m\n",
      "\u001b[0;32m/opt/anaconda3/lib/python3.7/site-packages/matplotlib/backend_bases.py\u001b[0m in \u001b[0;36mprint_figure\u001b[0;34m(self, filename, dpi, facecolor, edgecolor, orientation, format, bbox_inches, **kwargs)\u001b[0m\n\u001b[1;32m   2089\u001b[0m                     \u001b[0morientation\u001b[0m\u001b[0;34m=\u001b[0m\u001b[0morientation\u001b[0m\u001b[0;34m,\u001b[0m\u001b[0;34m\u001b[0m\u001b[0;34m\u001b[0m\u001b[0m\n\u001b[1;32m   2090\u001b[0m                     \u001b[0mbbox_inches_restore\u001b[0m\u001b[0;34m=\u001b[0m\u001b[0m_bbox_inches_restore\u001b[0m\u001b[0;34m,\u001b[0m\u001b[0;34m\u001b[0m\u001b[0;34m\u001b[0m\u001b[0m\n\u001b[0;32m-> 2091\u001b[0;31m                     **kwargs)\n\u001b[0m\u001b[1;32m   2092\u001b[0m             \u001b[0;32mfinally\u001b[0m\u001b[0;34m:\u001b[0m\u001b[0;34m\u001b[0m\u001b[0;34m\u001b[0m\u001b[0m\n\u001b[1;32m   2093\u001b[0m                 \u001b[0;32mif\u001b[0m \u001b[0mbbox_inches\u001b[0m \u001b[0;32mand\u001b[0m \u001b[0mrestore_bbox\u001b[0m\u001b[0;34m:\u001b[0m\u001b[0;34m\u001b[0m\u001b[0;34m\u001b[0m\u001b[0m\n",
      "\u001b[0;32m/opt/anaconda3/lib/python3.7/site-packages/matplotlib/backends/backend_agg.py\u001b[0m in \u001b[0;36mprint_png\u001b[0;34m(self, filename_or_obj, metadata, pil_kwargs, *args, **kwargs)\u001b[0m\n\u001b[1;32m    528\u001b[0m             \u001b[0mrenderer\u001b[0m \u001b[0;34m=\u001b[0m \u001b[0mself\u001b[0m\u001b[0;34m.\u001b[0m\u001b[0mget_renderer\u001b[0m\u001b[0;34m(\u001b[0m\u001b[0;34m)\u001b[0m\u001b[0;34m\u001b[0m\u001b[0;34m\u001b[0m\u001b[0m\n\u001b[1;32m    529\u001b[0m             \u001b[0;32mwith\u001b[0m \u001b[0mcbook\u001b[0m\u001b[0;34m.\u001b[0m\u001b[0m_setattr_cm\u001b[0m\u001b[0;34m(\u001b[0m\u001b[0mrenderer\u001b[0m\u001b[0;34m,\u001b[0m \u001b[0mdpi\u001b[0m\u001b[0;34m=\u001b[0m\u001b[0mself\u001b[0m\u001b[0;34m.\u001b[0m\u001b[0mfigure\u001b[0m\u001b[0;34m.\u001b[0m\u001b[0mdpi\u001b[0m\u001b[0;34m)\u001b[0m\u001b[0;34m,\u001b[0m\u001b[0;31m \u001b[0m\u001b[0;31m\\\u001b[0m\u001b[0;34m\u001b[0m\u001b[0;34m\u001b[0m\u001b[0m\n\u001b[0;32m--> 530\u001b[0;31m                     \u001b[0mcbook\u001b[0m\u001b[0;34m.\u001b[0m\u001b[0mopen_file_cm\u001b[0m\u001b[0;34m(\u001b[0m\u001b[0mfilename_or_obj\u001b[0m\u001b[0;34m,\u001b[0m \u001b[0;34m\"wb\"\u001b[0m\u001b[0;34m)\u001b[0m \u001b[0;32mas\u001b[0m \u001b[0mfh\u001b[0m\u001b[0;34m:\u001b[0m\u001b[0;34m\u001b[0m\u001b[0;34m\u001b[0m\u001b[0m\n\u001b[0m\u001b[1;32m    531\u001b[0m                 _png.write_png(renderer._renderer, fh,\n\u001b[1;32m    532\u001b[0m                                self.figure.dpi, metadata=metadata)\n",
      "\u001b[0;32m/opt/anaconda3/lib/python3.7/contextlib.py\u001b[0m in \u001b[0;36m__enter__\u001b[0;34m(self)\u001b[0m\n\u001b[1;32m    110\u001b[0m         \u001b[0;32mdel\u001b[0m \u001b[0mself\u001b[0m\u001b[0;34m.\u001b[0m\u001b[0margs\u001b[0m\u001b[0;34m,\u001b[0m \u001b[0mself\u001b[0m\u001b[0;34m.\u001b[0m\u001b[0mkwds\u001b[0m\u001b[0;34m,\u001b[0m \u001b[0mself\u001b[0m\u001b[0;34m.\u001b[0m\u001b[0mfunc\u001b[0m\u001b[0;34m\u001b[0m\u001b[0;34m\u001b[0m\u001b[0m\n\u001b[1;32m    111\u001b[0m         \u001b[0;32mtry\u001b[0m\u001b[0;34m:\u001b[0m\u001b[0;34m\u001b[0m\u001b[0;34m\u001b[0m\u001b[0m\n\u001b[0;32m--> 112\u001b[0;31m             \u001b[0;32mreturn\u001b[0m \u001b[0mnext\u001b[0m\u001b[0;34m(\u001b[0m\u001b[0mself\u001b[0m\u001b[0;34m.\u001b[0m\u001b[0mgen\u001b[0m\u001b[0;34m)\u001b[0m\u001b[0;34m\u001b[0m\u001b[0;34m\u001b[0m\u001b[0m\n\u001b[0m\u001b[1;32m    113\u001b[0m         \u001b[0;32mexcept\u001b[0m \u001b[0mStopIteration\u001b[0m\u001b[0;34m:\u001b[0m\u001b[0;34m\u001b[0m\u001b[0;34m\u001b[0m\u001b[0m\n\u001b[1;32m    114\u001b[0m             \u001b[0;32mraise\u001b[0m \u001b[0mRuntimeError\u001b[0m\u001b[0;34m(\u001b[0m\u001b[0;34m\"generator didn't yield\"\u001b[0m\u001b[0;34m)\u001b[0m \u001b[0;32mfrom\u001b[0m \u001b[0;32mNone\u001b[0m\u001b[0;34m\u001b[0m\u001b[0;34m\u001b[0m\u001b[0m\n",
      "\u001b[0;32m/opt/anaconda3/lib/python3.7/site-packages/matplotlib/cbook/__init__.py\u001b[0m in \u001b[0;36mopen_file_cm\u001b[0;34m(path_or_file, mode, encoding)\u001b[0m\n\u001b[1;32m    445\u001b[0m \u001b[0;32mdef\u001b[0m \u001b[0mopen_file_cm\u001b[0m\u001b[0;34m(\u001b[0m\u001b[0mpath_or_file\u001b[0m\u001b[0;34m,\u001b[0m \u001b[0mmode\u001b[0m\u001b[0;34m=\u001b[0m\u001b[0;34m\"r\"\u001b[0m\u001b[0;34m,\u001b[0m \u001b[0mencoding\u001b[0m\u001b[0;34m=\u001b[0m\u001b[0;32mNone\u001b[0m\u001b[0;34m)\u001b[0m\u001b[0;34m:\u001b[0m\u001b[0;34m\u001b[0m\u001b[0;34m\u001b[0m\u001b[0m\n\u001b[1;32m    446\u001b[0m     \u001b[0;34mr\"\"\"Pass through file objects and context-manage `.PathLike`\\s.\"\"\"\u001b[0m\u001b[0;34m\u001b[0m\u001b[0;34m\u001b[0m\u001b[0m\n\u001b[0;32m--> 447\u001b[0;31m     \u001b[0mfh\u001b[0m\u001b[0;34m,\u001b[0m \u001b[0mopened\u001b[0m \u001b[0;34m=\u001b[0m \u001b[0mto_filehandle\u001b[0m\u001b[0;34m(\u001b[0m\u001b[0mpath_or_file\u001b[0m\u001b[0;34m,\u001b[0m \u001b[0mmode\u001b[0m\u001b[0;34m,\u001b[0m \u001b[0;32mTrue\u001b[0m\u001b[0;34m,\u001b[0m \u001b[0mencoding\u001b[0m\u001b[0;34m)\u001b[0m\u001b[0;34m\u001b[0m\u001b[0;34m\u001b[0m\u001b[0m\n\u001b[0m\u001b[1;32m    448\u001b[0m     \u001b[0;32mif\u001b[0m \u001b[0mopened\u001b[0m\u001b[0;34m:\u001b[0m\u001b[0;34m\u001b[0m\u001b[0;34m\u001b[0m\u001b[0m\n\u001b[1;32m    449\u001b[0m         \u001b[0;32mwith\u001b[0m \u001b[0mfh\u001b[0m\u001b[0;34m:\u001b[0m\u001b[0;34m\u001b[0m\u001b[0;34m\u001b[0m\u001b[0m\n",
      "\u001b[0;32m/opt/anaconda3/lib/python3.7/site-packages/matplotlib/cbook/__init__.py\u001b[0m in \u001b[0;36mto_filehandle\u001b[0;34m(fname, flag, return_opened, encoding)\u001b[0m\n\u001b[1;32m    430\u001b[0m             \u001b[0mfh\u001b[0m \u001b[0;34m=\u001b[0m \u001b[0mbz2\u001b[0m\u001b[0;34m.\u001b[0m\u001b[0mBZ2File\u001b[0m\u001b[0;34m(\u001b[0m\u001b[0mfname\u001b[0m\u001b[0;34m,\u001b[0m \u001b[0mflag\u001b[0m\u001b[0;34m)\u001b[0m\u001b[0;34m\u001b[0m\u001b[0;34m\u001b[0m\u001b[0m\n\u001b[1;32m    431\u001b[0m         \u001b[0;32melse\u001b[0m\u001b[0;34m:\u001b[0m\u001b[0;34m\u001b[0m\u001b[0;34m\u001b[0m\u001b[0m\n\u001b[0;32m--> 432\u001b[0;31m             \u001b[0mfh\u001b[0m \u001b[0;34m=\u001b[0m \u001b[0mopen\u001b[0m\u001b[0;34m(\u001b[0m\u001b[0mfname\u001b[0m\u001b[0;34m,\u001b[0m \u001b[0mflag\u001b[0m\u001b[0;34m,\u001b[0m \u001b[0mencoding\u001b[0m\u001b[0;34m=\u001b[0m\u001b[0mencoding\u001b[0m\u001b[0;34m)\u001b[0m\u001b[0;34m\u001b[0m\u001b[0;34m\u001b[0m\u001b[0m\n\u001b[0m\u001b[1;32m    433\u001b[0m         \u001b[0mopened\u001b[0m \u001b[0;34m=\u001b[0m \u001b[0;32mTrue\u001b[0m\u001b[0;34m\u001b[0m\u001b[0;34m\u001b[0m\u001b[0m\n\u001b[1;32m    434\u001b[0m     \u001b[0;32melif\u001b[0m \u001b[0mhasattr\u001b[0m\u001b[0;34m(\u001b[0m\u001b[0mfname\u001b[0m\u001b[0;34m,\u001b[0m \u001b[0;34m'seek'\u001b[0m\u001b[0;34m)\u001b[0m\u001b[0;34m:\u001b[0m\u001b[0;34m\u001b[0m\u001b[0;34m\u001b[0m\u001b[0m\n",
      "\u001b[0;31mFileNotFoundError\u001b[0m: [Errno 2] No such file or directory: './assets/Distribution and RelationshipDistribution and Relationship to Sale Price of Year Remod/Add.png'"
     ]
    },
    {
     "data": {
      "image/png": "[encoded data removed]",
      "text/plain": [
       "<Figure size 576x432 with 2 Axes>"
      ]
     },
     "metadata": {
      "needs_background": "light"
     },
     "output_type": "display_data"
    }
   ],
   "source": [
    "for col in all_data.columns[all_data.dtypes != 'object'][2:]:\n",
    "    hist_and_scatter(\n",
    "        all_data[col], f'Distribution and Relationship to Sale Price of {col}', col)"
   ]
  },
  {
   "cell_type": "markdown",
   "metadata": {},
   "source": [
    "In our first runthrough, these visualizations allowed us to identify numerous \"garbage\" columns which we could throw out, or needed to be rebinned due to low frequency of observations"
   ]
  },
  {
   "cell_type": "markdown",
   "metadata": {},
   "source": [
    "## Feature Engineering"
   ]
  },
  {
   "cell_type": "markdown",
   "metadata": {},
   "source": [
    "[This Notebook](https://www.kaggle.com/juliencs/a-study-on-regression-applied-to-the-ames-dataset) contained some really great engineered features that we'd like to include. \n",
    "\n",
    "First, we want to combine the internal square footage columns to get a total interior square footage"
   ]
  },
  {
   "cell_type": "code",
   "execution_count": 85,
   "metadata": {},
   "outputs": [],
   "source": [
    "all_data['Total Int SF'] = all_data['Total Bsmt SF'] + all_data['Gr Liv Area']\n",
    "all_data['All Flrs SF'] = all_data['1st Flr SF'] + all_data['2nd Flr SF']"
   ]
  },
  {
   "cell_type": "markdown",
   "metadata": {},
   "source": [
    "There aren't very many houses with porches, particularly of certain types. We can combine all 4 porch columns into one to make this slightly more useful to our models."
   ]
  },
  {
   "cell_type": "code",
   "execution_count": 86,
   "metadata": {},
   "outputs": [],
   "source": [
    "all_data['Porch SF'] = all_data['Open Porch SF'] + \\\n",
    "    all_data['Enclosed Porch'] + \\\n",
    "    all_data['3Ssn Porch'] + all_data['Screen Porch']"
   ]
  },
  {
   "cell_type": "markdown",
   "metadata": {},
   "source": [
    "We can combine Full and Half baths to get a total baths column"
   ]
  },
  {
   "cell_type": "code",
   "execution_count": 87,
   "metadata": {},
   "outputs": [],
   "source": [
    "all_data['Baths'] = all_data['Full Bath'] + (.5 * all_data['Half Bath'])"
   ]
  },
  {
   "cell_type": "markdown",
   "metadata": {},
   "source": [
    "Next, we're going to take [juliencs's](https://www.kaggle.com/juliencs/a-study-on-regression-applied-to-the-ames-dataset) brilliant idea to create merged scores for all these values with Areas and Qualities, or Qualities and Conditions"
   ]
  },
  {
   "cell_type": "code",
   "execution_count": 88,
   "metadata": {},
   "outputs": [],
   "source": [
    "all_data['Overall Grade'] = all_data['Overall Cond'] * all_data['Overall Qual']\n",
    "all_data['Garage Grade'] = all_data['Garage Qual'] * all_data['Garage Cond']\n",
    "all_data['Exter Grade'] = all_data['Exter Qual'] * all_data['Exter Cond']\n",
    "all_data['Kitchen Score'] = all_data['Kitchen AbvGr'] * \\\n",
    "    all_data['Kitchen Qual']\n",
    "all_data['Fireplace Score'] = all_data['Fireplaces'] * all_data['Fireplace Qu']\n",
    "all_data['Garage Score'] = all_data['Garage Area'] * all_data['Garage Qual']"
   ]
  },
  {
   "cell_type": "markdown",
   "metadata": {},
   "source": [
    "Finally, again based on [juliencs](https://www.kaggle.com/juliencs/a-study-on-regression-applied-to-the-ames-dataset)'s approach, we're going to isolate the most impactful variables based on correlation to SalePrice and add  2nd and 3rd order polynomial versions of them:"
   ]
  },
  {
   "cell_type": "code",
   "execution_count": 89,
   "metadata": {},
   "outputs": [
    {
     "data": {
      "text/plain": [
       "Total Int SF     0.825818\n",
       "Overall Qual     0.803462\n",
       "All Flrs SF      0.728279\n",
       "Gr Liv Area      0.719463\n",
       "Kitchen Qual     0.708139\n",
       "Bsmt Qual        0.703986\n",
       "Garage Score     0.666028\n",
       "Total Bsmt SF    0.665116\n",
       "Garage Cars      0.659041\n",
       "Garage Area      0.655097\n",
       "Name: SalePrice, dtype: float64"
      ]
     },
     "execution_count": 89,
     "metadata": {},
     "output_type": "execute_result"
    }
   ],
   "source": [
    "highest_corr = all_data.corr().sort_values(\n",
    "    ['SalePrice'], ascending=False)['SalePrice'][1:11]\n",
    "\n",
    "highest_corr"
   ]
  },
  {
   "cell_type": "code",
   "execution_count": 90,
   "metadata": {},
   "outputs": [],
   "source": [
    "for col in highest_corr.index:\n",
    "    col2 = col + '-2'\n",
    "    col3 = col + '-3'\n",
    "    colsq = col + '-sq'\n",
    "    all_data[col2] = all_data[col]**2\n",
    "    all_data[col3] = all_data[col]**3\n",
    "    all_data[colsq] = np.sqrt(all_data[col])"
   ]
  },
  {
   "cell_type": "markdown",
   "metadata": {},
   "source": [
    "We'd like to find columns which have high skewness to transform. The goal here is to mitigate the impact of outliers. We'll use [juliencs's](https://www.kaggle.com/juliencs/a-study-on-regression-applied-to-the-ames-dataset) method, but adapted based on [serigne](https://www.kaggle.com/serigne/stacked-regressions-top-4-on-leaderboard) and a few other Kaggle user's observations that the Box-Cox transformation has a better result than taking the natural log:"
   ]
  },
  {
   "cell_type": "code",
   "execution_count": 91,
   "metadata": {},
   "outputs": [],
   "source": [
    "numerical_features = all_data.select_dtypes(exclude=[\"object\"]).columns"
   ]
  },
  {
   "cell_type": "code",
   "execution_count": 92,
   "metadata": {},
   "outputs": [
    {
     "name": "stdout",
     "output_type": "stream",
     "text": [
      "75 skewed numerical features to transform\n"
     ]
    }
   ],
   "source": [
    "skewness = all_data[numerical_features].apply(lambda x: skew(x))\n",
    "skewness = skewness[abs(skewness) > 0.5]\n",
    "skewness = skewness\n",
    "print(str(skewness.shape[0]) + \" skewed numerical features to transform\")\n",
    "skewed_features = skewness.index"
   ]
  },
  {
   "cell_type": "code",
   "execution_count": 93,
   "metadata": {},
   "outputs": [],
   "source": [
    "skewed_features = list(skewed_features)\n",
    "\n",
    "try:\n",
    "    # Don't want to include our dummy \"train\" column if it got picked\n",
    "    skewed_features.remove('train')\n",
    "except:\n",
    "    pass"
   ]
  },
  {
   "cell_type": "code",
   "execution_count": 94,
   "metadata": {},
   "outputs": [],
   "source": [
    "# BoxCox of 1 + skewed features\n",
    "lam = 0.15\n",
    "\n",
    "for feature in skewed_features:\n",
    "    all_data[feature] = boxcox1p(all_data[feature], lam)"
   ]
  },
  {
   "cell_type": "markdown",
   "metadata": {},
   "source": [
    "We also want to be sure to log the sale price, which is highly non-normal"
   ]
  },
  {
   "cell_type": "code",
   "execution_count": 95,
   "metadata": {},
   "outputs": [
    {
     "data": {
      "image/png": "[encoded data removed]",
      "text/plain": [
       "<Figure size 432x288 with 1 Axes>"
      ]
     },
     "metadata": {
      "needs_background": "light"
     },
     "output_type": "display_data"
    }
   ],
   "source": [
    "sns.distplot(all_data['SalePrice'])\n",
    "plt.title('Pre-Log Sale Price')\n",
    "plt.savefig(\"./assets/pre-log price.png\");"
   ]
  },
  {
   "cell_type": "code",
   "execution_count": 96,
   "metadata": {},
   "outputs": [],
   "source": [
    "all_data['SalePrice'] = np.log(all_data['SalePrice'])"
   ]
  },
  {
   "cell_type": "code",
   "execution_count": 97,
   "metadata": {},
   "outputs": [
    {
     "data": {
      "image/png": "[encoded data removed]",
      "text/plain": [
       "<Figure size 432x288 with 1 Axes>"
      ]
     },
     "metadata": {
      "needs_background": "light"
     },
     "output_type": "display_data"
    }
   ],
   "source": [
    "sns.distplot(all_data['SalePrice'])\n",
    "plt.title('Post-Log Sale Price')\n",
    "plt.savefig(\"./assets/post-log price.png\");"
   ]
  },
  {
   "cell_type": "markdown",
   "metadata": {},
   "source": [
    "## Model Preparation"
   ]
  },
  {
   "cell_type": "markdown",
   "metadata": {},
   "source": [
    "We need to create dummy columns for all nominal and ordinal variables:"
   ]
  },
  {
   "cell_type": "code",
   "execution_count": 98,
   "metadata": {},
   "outputs": [],
   "source": [
    "to_dummify = [col for col in all_data if all_data.dtypes[col] == 'object']"
   ]
  },
  {
   "cell_type": "code",
   "execution_count": 99,
   "metadata": {},
   "outputs": [],
   "source": [
    "all_data = pd.get_dummies(data=all_data, columns=to_dummify, drop_first=True)"
   ]
  },
  {
   "cell_type": "markdown",
   "metadata": {},
   "source": [
    "Next we establish our final sets for modeling, and conduct a train/test split for model evaluation:"
   ]
  },
  {
   "cell_type": "code",
   "execution_count": 100,
   "metadata": {},
   "outputs": [],
   "source": [
    "# Prepare data for modeling\n",
    "X = all_data.loc[all_data['train'] == 1, :]\n",
    "null_preds = [np.exp(np.mean(all_data.loc[all_data['train'] == 1, 'SalePrice']))] \n",
    "X.drop(columns=['train', 'Id', 'PID', 'SalePrice'], inplace=True)\n",
    "y = all_data.loc[all_data['train'] == 1, 'SalePrice']"
   ]
  },
  {
   "cell_type": "code",
   "execution_count": 101,
   "metadata": {},
   "outputs": [],
   "source": [
    "# We still need a holdout out of our training data\n",
    "X_train, X_test, y_train, y_test = train_test_split(X, y, random_state=42)\n",
    "null_preds = null_preds * len(y_test)\n",
    "train_null_preds = [null_preds[0]] * len(y_train)\n",
    "train_true_values = np.exp(y_train)"
   ]
  },
  {
   "cell_type": "code",
   "execution_count": 102,
   "metadata": {},
   "outputs": [],
   "source": [
    "# Set up scaled data for models requiring it\n",
    "ss = StandardScaler()\n",
    "\n",
    "ss.fit(X_train)\n",
    "\n",
    "Z_train = ss.transform(X_train)\n",
    "Z_test = ss.transform(X_test)"
   ]
  },
  {
   "cell_type": "markdown",
   "metadata": {},
   "source": [
    "## Model Selection"
   ]
  },
  {
   "cell_type": "markdown",
   "metadata": {},
   "source": [
    "Null Model Setup:"
   ]
  },
  {
   "cell_type": "markdown",
   "metadata": {},
   "source": [
    "We were originally including an Ordinary Least Squares model, but the extent of our feature engineering damages it too much to be useful. Instead, we're running with Lasso, Ridge, ElasticNet, and Stochastic Gradient Descent regression models, along with the XGBoost gradient descent regressor."
   ]
  },
  {
   "cell_type": "code",
   "execution_count": 103,
   "metadata": {},
   "outputs": [],
   "source": [
    "%%capture\n",
    "lasso = LassoCV()\n",
    "lasso.fit(Z_train, y_train)\n",
    "lasso_train_preds = np.exp(lasso.predict(Z_train))\n"
   ]
  },
  {
   "cell_type": "code",
   "execution_count": 104,
   "metadata": {},
   "outputs": [],
   "source": [
    "%%capture\n",
    "ridge = RidgeCV()\n",
    "ridge.fit(Z_train, y_train)\n",
    "ridge_train_preds = np.exp(ridge.predict(Z_train))\n"
   ]
  },
  {
   "cell_type": "code",
   "execution_count": 105,
   "metadata": {},
   "outputs": [],
   "source": [
    "%%capture\n",
    "elastic = ElasticNetCV()\n",
    "elastic.fit(Z_train, y_train)\n",
    "elastic_train_preds = np.exp(elastic.predict(Z_train))"
   ]
  },
  {
   "cell_type": "markdown",
   "metadata": {},
   "source": [
    "We needed considerable hyperparameter tuning to get our Stochastic Gradient Descent hyperparameters right. We started with a set of hyperparameters adapted from [this blog post](http://dsdeepdive.blogspot.com/2015/08/hyperparameter-optimization-with-python.html) and honed in. Here is the final trial, preserved as comment. We chose parameters alpha = .523, n_iter_no_change = 27, and penalty = l2."
   ]
  },
  {
   "cell_type": "code",
   "execution_count": 106,
   "metadata": {},
   "outputs": [],
   "source": [
    "# sgd_params = {\"n_iter_no_change\": [23,24,25,26,27,28,29,30],\n",
    "#               \"alpha\": [.52,.521,.522,.523,.524,.525,.526,.527,.528,.529,.53,.531,.532,.533,.534,.535,.536],\n",
    "#               \"penalty\": [\"l2\"]}\n",
    "\n",
    "# sgd = GridSearchCV(SGDRegressor(),\n",
    "#                   sgd_params,\n",
    "#                   cv = 5,\n",
    "#                   verbose=1)\n",
    "# sgd.fit(Z_train,y_train)\n",
    "\n",
    "\n",
    "# sgd.best_params_\n",
    "# {'alpha': 0.523, 'n_iter_no_change': 27, 'penalty': 'l2'}"
   ]
  },
  {
   "cell_type": "code",
   "execution_count": 107,
   "metadata": {},
   "outputs": [],
   "source": [
    "sgd = SGDRegressor(alpha=0.523, n_iter_no_change=27,\n",
    "                   penalty='l2', loss='huber')\n",
    "sgd.fit(Z_train, y_train)\n",
    "sgd_train_preds = np.exp(sgd.predict(Z_train))"
   ]
  },
  {
   "cell_type": "markdown",
   "metadata": {},
   "source": [
    "To fit an Extreme Gradient Boosted Regressor, we followed [this handy guide](https://blog.cambridgespark.com/hyperparameter-tuning-in-xgboost-4ff9100a3b2f) to tuning its hyperparameters. This is a Gradient Boosted decision tree regressor, and is fairly ubiquitous.\n",
    "\n",
    "We CV the hyperparameters sequentially, and have commented out the code to do so."
   ]
  },
  {
   "cell_type": "code",
   "execution_count": 108,
   "metadata": {},
   "outputs": [],
   "source": [
    "# Set up XGB params\n",
    "\n",
    "# XGB requires a custom matrix format\n",
    "dtrain = xgb.DMatrix(X_train, label=y_train)\n",
    "dtest = xgb.DMatrix(X_test, label=y_test)\n",
    "\n",
    "xgb_params = {\n",
    "    'max_depth': 5,\n",
    "    'min_child_weight': 5.455594781168519,\n",
    "    'eta': .05,\n",
    "    'subsample': .5,\n",
    "    'colsample_bytree': .9,\n",
    "    'objective': 'reg:squarederror'\n",
    "}"
   ]
  },
  {
   "cell_type": "markdown",
   "metadata": {},
   "source": [
    "We need to cross-validate our best parameters for 'max_depth' and 'min_child_weight', again following the method of [this blog post](https://blog.cambridgespark.com/hyperparameter-tuning-in-xgboost-4ff9100a3b2f), but adapting to solve for RMSE. We select max_depth = 5 and min_child_weight = 5.455594781168519. We will again comment this out, as it's just here to showcase methodology but doesn't need to run after selection has occurred."
   ]
  },
  {
   "cell_type": "code",
   "execution_count": 109,
   "metadata": {},
   "outputs": [],
   "source": [
    "# gridsearch_params = [\n",
    "#     (max_depth, min_child_weight)\n",
    "#     for max_depth in range(5,6)\n",
    "#     for min_child_weight in list(np.logspace(0,1,20))\n",
    "# ]\n",
    "\n",
    "# min_rmse = float(\"Inf\")\n",
    "# best_params = None\n",
    "# for max_depth, min_child_weight in gridsearch_params:\n",
    "#     print(\"CV with max_depth={}, min_child_weight={}\".format(\n",
    "#                              max_depth,\n",
    "#                              min_child_weight))\n",
    "#     # Update our parameters\n",
    "#     xgb_params['max_depth'] = max_depth\n",
    "#     xgb_params['min_child_weight'] = min_child_weight\n",
    "#     # Run CV\n",
    "#     cv_results = xgb.cv(\n",
    "#         xgb_params,\n",
    "#         dtrain,\n",
    "#         num_boost_round=291,\n",
    "#         seed=42,\n",
    "#         nfold=5,\n",
    "#         metrics={'rmse'},\n",
    "#         early_stopping_rounds=10\n",
    "#     )\n",
    "#     # Update best RMSE\n",
    "#     mean_rmse = cv_results['test-rmse-mean'].min()\n",
    "#     boost_rounds = cv_results['test-rmse-mean'].argmin()\n",
    "#     print(\"\\tRMSE {} for {} rounds\".format(mean_rmse, boost_rounds))\n",
    "#     if mean_rmse < min_rmse:\n",
    "#         min_rmse = mean_rmse\n",
    "#         best_params = (max_depth,min_child_weight)\n",
    "# print(\"Best params: {}, {}, RMSE: {}\".format(best_params[0], best_params[1], min_rmse))"
   ]
  },
  {
   "cell_type": "markdown",
   "metadata": {},
   "source": [
    "Next we will CV our subsample and colsample_bytree hyperparameters. We select subsample = .5, colsample_bytree = .9."
   ]
  },
  {
   "cell_type": "code",
   "execution_count": 110,
   "metadata": {},
   "outputs": [],
   "source": [
    "# gridsearch_params = [\n",
    "#     (subsample, colsample)\n",
    "#     for subsample in [i/10. for i in range(1,11,2)]\n",
    "#     for colsample in [i/10. for i in range(1,11,2)]\n",
    "# ]\n",
    "\n",
    "# min_rmse = float(\"Inf\")\n",
    "# best_params = None\n",
    "# # We start by the largest values and go down to the smallest\n",
    "# for subsample, colsample in reversed(gridsearch_params):\n",
    "#     print(\"CV with subsample={}, colsample={}\".format(\n",
    "#                              subsample,\n",
    "#                              colsample))\n",
    "#     # We update our parameters\n",
    "#     xgb_params['subsample'] = subsample\n",
    "#     xgb_params['colsample_bytree'] = colsample\n",
    "#     # Run CV\n",
    "#     cv_results = xgb.cv(\n",
    "#         xgb_params,\n",
    "#         dtrain,\n",
    "#         num_boost_round=291,\n",
    "#         seed=42,\n",
    "#         nfold=5,\n",
    "#         metrics={'rmse'},\n",
    "#         early_stopping_rounds=10\n",
    "#     )\n",
    "#     # Update best score\n",
    "#     mean_rmse = cv_results['test-rmse-mean'].min()\n",
    "#     boost_rounds = cv_results['test-rmse-mean'].argmin()\n",
    "#     print(\"\\tRMSE {} for {} rounds\".format(mean_rmse, boost_rounds))\n",
    "#     if mean_rmse < min_rmse:\n",
    "#         min_rmse = mean_rmse\n",
    "#         best_params = (subsample,colsample)\n",
    "# print(\"Best params: {}, {}, RMSE: {}\".format(best_params[0], best_params[1], min_rmse))"
   ]
  },
  {
   "cell_type": "markdown",
   "metadata": {},
   "source": [
    "Last we will CV for our \"eta\" or \"learning_rate\". We select learning_rate = .05."
   ]
  },
  {
   "cell_type": "code",
   "execution_count": 111,
   "metadata": {},
   "outputs": [],
   "source": [
    "# min_rmse = float(\"Inf\")\n",
    "# best_params = None\n",
    "# for eta in [.3, .2, .1, .05, .01, .005]:\n",
    "#     print(\"CV with eta={}\".format(eta))\n",
    "#     # We update our parameters\n",
    "#     xgb_params['eta'] = eta\n",
    "#     # Run and time CV\n",
    "#     cv_results = xgb.cv(\n",
    "#             xgb_params,\n",
    "#             dtrain,\n",
    "#             num_boost_round=291,\n",
    "#             seed=42,\n",
    "#             nfold=5,\n",
    "#             metrics=['rmse'],\n",
    "#             early_stopping_rounds=10\n",
    "#     )\n",
    "#     # Update best score\n",
    "#     mean_rmse = cv_results['test-rmse-mean'].min()\n",
    "#     boost_rounds = cv_results['test-rmse-mean'].argmin()\n",
    "#     print(\"\\tRMSE {} for {} rounds\\n\".format(mean_rmse, boost_rounds))\n",
    "#     if mean_rmse < min_rmse:\n",
    "#         min_rmse = mean_rmse\n",
    "#         best_params = eta\n",
    "# print(\"Best params: {}, RMSE: {}\".format(best_params, min_rmse))"
   ]
  },
  {
   "cell_type": "markdown",
   "metadata": {},
   "source": [
    "To summarize, here are our final parameters:"
   ]
  },
  {
   "cell_type": "code",
   "execution_count": 112,
   "metadata": {},
   "outputs": [],
   "source": [
    "xgb_params = {\n",
    "    'max_depth': 5,\n",
    "    'min_child_weight': 5.455594781168519,\n",
    "    'eta': .05,\n",
    "    'subsample': .5,\n",
    "    'colsample_bytree': .9,\n",
    "    'objective': 'reg:squarederror'\n",
    "}"
   ]
  },
  {
   "cell_type": "markdown",
   "metadata": {},
   "source": [
    "Now we can fit the XGB model:"
   ]
  },
  {
   "cell_type": "code",
   "execution_count": 113,
   "metadata": {},
   "outputs": [],
   "source": [
    "%%capture\n",
    "xgb_model = xgb.train(\n",
    "    xgb_params,\n",
    "    dtrain,\n",
    "    num_boost_round=999,\n",
    "    evals=[(dtest, 'Test')]\n",
    ")\n",
    "xgb_train_preds = np.exp(xgb_model.predict(dtrain))\n"
   ]
  },
  {
   "cell_type": "markdown",
   "metadata": {},
   "source": [
    "Now we will establish training-set predictions and R2 scores for all base models, plus the uniform-weight ensemble model we chose:"
   ]
  },
  {
   "cell_type": "code",
   "execution_count": 114,
   "metadata": {},
   "outputs": [],
   "source": [
    "weighted_preds_train = .2 * lasso_train_preds + .2 * ridge_train_preds + .2 * \\\n",
    "    elastic_train_preds + .2 * sgd_train_preds + .2 * xgb_train_preds\n",
    "\n",
    "lasso_r2_train = metrics.r2_score(train_true_values,lasso_train_preds)\n",
    "ridge_r2_train = metrics.r2_score(train_true_values,ridge_train_preds)\n",
    "elastic_r2_train = metrics.r2_score(train_true_values,elastic_train_preds)\n",
    "sgd_r2_train = metrics.r2_score(train_true_values,sgd_train_preds)\n",
    "xgb_r2_train = metrics.r2_score(train_true_values,xgb_train_preds)"
   ]
  },
  {
   "cell_type": "markdown",
   "metadata": {},
   "source": [
    "Establishing a baseline R2 score against training data (to evaluate for overfitting only, not a judge of model performance—we only looked at RMSE on holdout data for evaluation)"
   ]
  },
  {
   "cell_type": "code",
   "execution_count": 115,
   "metadata": {},
   "outputs": [
    {
     "name": "stdout",
     "output_type": "stream",
     "text": [
      "R2 Score:\n",
      "\t-0.03452847414002291\n",
      "R2 Score:\n",
      "\t0.9415661627775882\n",
      "R2 Score:\n",
      "\t0.9523698027726974\n",
      "R2 Score:\n",
      "\t0.94148944976168\n",
      "R2 Score:\n",
      "\t0.9297670763303713\n",
      "R2 Score:\n",
      "\t0.9986111595966436\n",
      "R2 Score:\n",
      "\t0.9626655771489588\n"
     ]
    }
   ],
   "source": [
    "for preds in [train_null_preds,lasso_train_preds,ridge_train_preds,elastic_train_preds,sgd_train_preds,\n",
    "              xgb_train_preds,weighted_preds_train]:\n",
    "    print('R2 Score:')\n",
    "    print('\\t' + str(metrics.r2_score(train_true_values,preds)))"
   ]
  },
  {
   "cell_type": "markdown",
   "metadata": {},
   "source": [
    "## Model Evaluation"
   ]
  },
  {
   "cell_type": "markdown",
   "metadata": {},
   "source": [
    "Next we establish our models' individual and ensemble predictions on our holdout data:"
   ]
  },
  {
   "cell_type": "code",
   "execution_count": 116,
   "metadata": {},
   "outputs": [],
   "source": [
    "# Establishing our predictions for each model on holdout data\n",
    "true_values = np.exp(y_test)\n",
    "\n",
    "lasso_preds = np.exp(lasso.predict(Z_test))\n",
    "ridge_preds = np.exp(ridge.predict(Z_test))\n",
    "elastic_preds = np.exp(elastic.predict(Z_test))\n",
    "sgd_preds = np.exp(sgd.predict(Z_test))\n",
    "xgb_preds = np.exp(xgb_model.predict(dtest))\n",
    "\n",
    "# Constructing our ensemble prediction\n",
    "weighted_preds = .2 * lasso_preds + .2 * ridge_preds + .2 * \\\n",
    "    elastic_preds + .2 * sgd_preds + .2 * xgb_preds"
   ]
  },
  {
   "cell_type": "markdown",
   "metadata": {},
   "source": [
    "We calculate R2 scores for holdout data (again, used only to check for overfitting):"
   ]
  },
  {
   "cell_type": "code",
   "execution_count": 117,
   "metadata": {},
   "outputs": [
    {
     "name": "stdout",
     "output_type": "stream",
     "text": [
      "R2 Score:\n",
      "\t-0.03412296660380276\n",
      "R2 Score:\n",
      "\t0.9423302751897922\n",
      "R2 Score:\n",
      "\t0.9418239358683755\n",
      "R2 Score:\n",
      "\t0.9422155490612368\n",
      "R2 Score:\n",
      "\t0.9324074018303675\n",
      "R2 Score:\n",
      "\t0.9484491626771459\n",
      "R2 Score:\n",
      "\t0.9505622686759674\n"
     ]
    }
   ],
   "source": [
    "for preds in [null_preds,lasso_preds,ridge_preds,elastic_preds,sgd_preds,xgb_preds,weighted_preds]:\n",
    "    print('R2 Score:')\n",
    "    print('\\t' + str(metrics.r2_score(true_values,preds)))"
   ]
  },
  {
   "cell_type": "markdown",
   "metadata": {},
   "source": [
    "It may be interesting to see which features ElasticNet picked out as the most impactful. We can see that many of our polynomial columns are proving useful!"
   ]
  },
  {
   "cell_type": "code",
   "execution_count": 118,
   "metadata": {},
   "outputs": [
    {
     "data": {
      "text/html": [
       "<div>\n",
       "<style scoped>\n",
       "    .dataframe tbody tr th:only-of-type {\n",
       "        vertical-align: middle;\n",
       "    }\n",
       "\n",
       "    .dataframe tbody tr th {\n",
       "        vertical-align: top;\n",
       "    }\n",
       "\n",
       "    .dataframe thead th {\n",
       "        text-align: right;\n",
       "    }\n",
       "</style>\n",
       "<table border=\"1\" class=\"dataframe\">\n",
       "  <thead>\n",
       "    <tr style=\"text-align: right;\">\n",
       "      <th></th>\n",
       "      <th>feature</th>\n",
       "      <th>coefficient</th>\n",
       "      <th>abs_coef</th>\n",
       "    </tr>\n",
       "  </thead>\n",
       "  <tbody>\n",
       "    <tr>\n",
       "      <th>67</th>\n",
       "      <td>Overall Qual-sq</td>\n",
       "      <td>0.051597</td>\n",
       "      <td>0.051597</td>\n",
       "    </tr>\n",
       "    <tr>\n",
       "      <th>6</th>\n",
       "      <td>Year Built</td>\n",
       "      <td>0.047083</td>\n",
       "      <td>0.047083</td>\n",
       "    </tr>\n",
       "    <tr>\n",
       "      <th>64</th>\n",
       "      <td>Total Int SF-sq</td>\n",
       "      <td>0.040790</td>\n",
       "      <td>0.040790</td>\n",
       "    </tr>\n",
       "    <tr>\n",
       "      <th>1</th>\n",
       "      <td>Lot Area</td>\n",
       "      <td>0.039239</td>\n",
       "      <td>0.039239</td>\n",
       "    </tr>\n",
       "    <tr>\n",
       "      <th>63</th>\n",
       "      <td>Total Int SF-3</td>\n",
       "      <td>0.029756</td>\n",
       "      <td>0.029756</td>\n",
       "    </tr>\n",
       "    <tr>\n",
       "      <th>56</th>\n",
       "      <td>Overall Grade</td>\n",
       "      <td>0.027692</td>\n",
       "      <td>0.027692</td>\n",
       "    </tr>\n",
       "    <tr>\n",
       "      <th>5</th>\n",
       "      <td>Overall Cond</td>\n",
       "      <td>0.022802</td>\n",
       "      <td>0.022802</td>\n",
       "    </tr>\n",
       "    <tr>\n",
       "      <th>15</th>\n",
       "      <td>BsmtFin SF 1</td>\n",
       "      <td>0.021599</td>\n",
       "      <td>0.021599</td>\n",
       "    </tr>\n",
       "    <tr>\n",
       "      <th>34</th>\n",
       "      <td>Functional</td>\n",
       "      <td>0.020085</td>\n",
       "      <td>0.020085</td>\n",
       "    </tr>\n",
       "    <tr>\n",
       "      <th>76</th>\n",
       "      <td>Kitchen Qual-sq</td>\n",
       "      <td>0.018517</td>\n",
       "      <td>0.018517</td>\n",
       "    </tr>\n",
       "    <tr>\n",
       "      <th>78</th>\n",
       "      <td>Bsmt Qual-3</td>\n",
       "      <td>0.018220</td>\n",
       "      <td>0.018220</td>\n",
       "    </tr>\n",
       "    <tr>\n",
       "      <th>61</th>\n",
       "      <td>Garage Score</td>\n",
       "      <td>0.016879</td>\n",
       "      <td>0.016879</td>\n",
       "    </tr>\n",
       "    <tr>\n",
       "      <th>25</th>\n",
       "      <td>Gr Liv Area</td>\n",
       "      <td>0.016835</td>\n",
       "      <td>0.016835</td>\n",
       "    </tr>\n",
       "    <tr>\n",
       "      <th>7</th>\n",
       "      <td>Year Remod/Add</td>\n",
       "      <td>0.016627</td>\n",
       "      <td>0.016627</td>\n",
       "    </tr>\n",
       "    <tr>\n",
       "      <th>107</th>\n",
       "      <td>MS Zoning_C (all)</td>\n",
       "      <td>-0.016347</td>\n",
       "      <td>0.016347</td>\n",
       "    </tr>\n",
       "    <tr>\n",
       "      <th>13</th>\n",
       "      <td>Bsmt Exposure</td>\n",
       "      <td>0.016209</td>\n",
       "      <td>0.016209</td>\n",
       "    </tr>\n",
       "    <tr>\n",
       "      <th>60</th>\n",
       "      <td>Fireplace Score</td>\n",
       "      <td>0.015337</td>\n",
       "      <td>0.015337</td>\n",
       "    </tr>\n",
       "    <tr>\n",
       "      <th>260</th>\n",
       "      <td>Sale Type_New</td>\n",
       "      <td>0.014992</td>\n",
       "      <td>0.014992</td>\n",
       "    </tr>\n",
       "    <tr>\n",
       "      <th>20</th>\n",
       "      <td>Heating QC</td>\n",
       "      <td>0.014846</td>\n",
       "      <td>0.014846</td>\n",
       "    </tr>\n",
       "    <tr>\n",
       "      <th>141</th>\n",
       "      <td>Neighborhood_NridgHt</td>\n",
       "      <td>0.014489</td>\n",
       "      <td>0.014489</td>\n",
       "    </tr>\n",
       "  </tbody>\n",
       "</table>\n",
       "</div>"
      ],
      "text/plain": [
       "                  feature  coefficient  abs_coef\n",
       "67        Overall Qual-sq     0.051597  0.051597\n",
       "6              Year Built     0.047083  0.047083\n",
       "64        Total Int SF-sq     0.040790  0.040790\n",
       "1                Lot Area     0.039239  0.039239\n",
       "63         Total Int SF-3     0.029756  0.029756\n",
       "56          Overall Grade     0.027692  0.027692\n",
       "5            Overall Cond     0.022802  0.022802\n",
       "15           BsmtFin SF 1     0.021599  0.021599\n",
       "34             Functional     0.020085  0.020085\n",
       "76        Kitchen Qual-sq     0.018517  0.018517\n",
       "78            Bsmt Qual-3     0.018220  0.018220\n",
       "61           Garage Score     0.016879  0.016879\n",
       "25            Gr Liv Area     0.016835  0.016835\n",
       "7          Year Remod/Add     0.016627  0.016627\n",
       "107     MS Zoning_C (all)    -0.016347  0.016347\n",
       "13          Bsmt Exposure     0.016209  0.016209\n",
       "60        Fireplace Score     0.015337  0.015337\n",
       "260         Sale Type_New     0.014992  0.014992\n",
       "20             Heating QC     0.014846  0.014846\n",
       "141  Neighborhood_NridgHt     0.014489  0.014489"
      ]
     },
     "execution_count": 118,
     "metadata": {},
     "output_type": "execute_result"
    }
   ],
   "source": [
    "elastic_coefs = list(zip(X_train.columns, elastic.coef_))\n",
    "elastic_coefs = pd.DataFrame(elastic_coefs, columns=['feature', 'coefficient'])\n",
    "elastic_coefs['abs_coef'] = np.absolute(elastic_coefs['coefficient'])\n",
    "elastic_coefs.sort_values('abs_coef', ascending=False)[0:20]"
   ]
  },
  {
   "cell_type": "markdown",
   "metadata": {},
   "source": [
    "Our evaluation metric is RMSE, so let's look at each model's RMSE on holdout data individually, then the RMSE for the Ensemble methods:"
   ]
  },
  {
   "cell_type": "code",
   "execution_count": 119,
   "metadata": {},
   "outputs": [
    {
     "data": {
      "text/plain": [
       "80856.93455625905"
      ]
     },
     "execution_count": 119,
     "metadata": {},
     "output_type": "execute_result"
    }
   ],
   "source": [
    "# Null Model Performance\n",
    "np.sqrt(metrics.mean_squared_error(true_values, null_preds))"
   ]
  },
  {
   "cell_type": "code",
   "execution_count": 120,
   "metadata": {},
   "outputs": [
    {
     "data": {
      "text/plain": [
       "19094.36060716242"
      ]
     },
     "execution_count": 120,
     "metadata": {},
     "output_type": "execute_result"
    }
   ],
   "source": [
    "# Lasso Performance\n",
    "np.sqrt(metrics.mean_squared_error(true_values, lasso_preds))"
   ]
  },
  {
   "cell_type": "code",
   "execution_count": 121,
   "metadata": {},
   "outputs": [
    {
     "data": {
      "text/plain": [
       "19178.001517193727"
      ]
     },
     "execution_count": 121,
     "metadata": {},
     "output_type": "execute_result"
    }
   ],
   "source": [
    "# Ridge Performance\n",
    "np.sqrt(metrics.mean_squared_error(true_values, ridge_preds))"
   ]
  },
  {
   "cell_type": "code",
   "execution_count": 122,
   "metadata": {},
   "outputs": [
    {
     "data": {
      "text/plain": [
       "19113.343996389314"
      ]
     },
     "execution_count": 122,
     "metadata": {},
     "output_type": "execute_result"
    }
   ],
   "source": [
    "# ElasticNet Performance\n",
    "np.sqrt(metrics.mean_squared_error(true_values, elastic_preds))"
   ]
  },
  {
   "cell_type": "code",
   "execution_count": 123,
   "metadata": {},
   "outputs": [
    {
     "data": {
      "text/plain": [
       "20671.916920224292"
      ]
     },
     "execution_count": 123,
     "metadata": {},
     "output_type": "execute_result"
    }
   ],
   "source": [
    "# SGD Performance\n",
    "np.sqrt(metrics.mean_squared_error(true_values, sgd_preds))"
   ]
  },
  {
   "cell_type": "code",
   "execution_count": 124,
   "metadata": {},
   "outputs": [
    {
     "data": {
      "text/plain": [
       "18052.985883522837"
      ]
     },
     "execution_count": 124,
     "metadata": {},
     "output_type": "execute_result"
    }
   ],
   "source": [
    "# XGB Performance\n",
    "np.sqrt(metrics.mean_squared_error(true_values, xgb_preds))"
   ]
  },
  {
   "cell_type": "code",
   "execution_count": 125,
   "metadata": {},
   "outputs": [
    {
     "data": {
      "text/plain": [
       "17679.11199989818"
      ]
     },
     "execution_count": 125,
     "metadata": {},
     "output_type": "execute_result"
    }
   ],
   "source": [
    "# Ensemble 1 Performance\n",
    "np.sqrt(metrics.mean_squared_error(true_values, weighted_preds))"
   ]
  },
  {
   "cell_type": "markdown",
   "metadata": {},
   "source": [
    "We see that XGBoost has the best individual performance, and the ensemble model has a lower RMSE than any individual model. "
   ]
  },
  {
   "cell_type": "markdown",
   "metadata": {},
   "source": [
    "Next we want to look at the residual visualizations for each model, plus the ensembles:"
   ]
  },
  {
   "cell_type": "code",
   "execution_count": 126,
   "metadata": {},
   "outputs": [],
   "source": [
    "def resid_plots(preds, title, true_values=true_values):\n",
    "    resids = true_values - preds\n",
    "    \n",
    "    figure, ax = plt.subplots(1,3, figsize = (16,8))\n",
    "    ax[0].hist(resids)\n",
    "    ax[1].scatter(preds, resids)\n",
    "    ax[2].scatter(preds,true_values)\n",
    "    ax[0].set_xlabel('Residuals')\n",
    "    ax[1].set_xlabel('Predicted Values')\n",
    "    ax[1].set_ylabel('Residuals')\n",
    "    ax[1].set_ylim(-125000,100000)\n",
    "    ax[2].set_xlabel('Predicted Values')\n",
    "    ax[2].set_ylabel('True Values')\n",
    "    ax[2].set_xlim(0,600000)\n",
    "    figure.suptitle(title)\n",
    "    plt.tight_layout(rect=[0, 0.03, 1, 0.9])\n",
    "    plt.savefig(f\"./assets/Distribution and Relationship{title}.png\")\n",
    "    plt.show()"
   ]
  },
  {
   "cell_type": "code",
   "execution_count": 127,
   "metadata": {},
   "outputs": [],
   "source": [
    "preds_and_titles = [(lasso_preds,'Lasso Model Residual Plots'),\n",
    "    (ridge_preds,'Ridge Model Residual Plots'),\n",
    "    (elastic_preds,'ElasticNet Model Residual Plots'),\n",
    "    (sgd_preds,'Stochastic Gradient Descent Residual Plots'),\n",
    "    (xgb_preds,'XGBoost Residual Plots'),\n",
    "    (weighted_preds, 'Ensemble Model Residual Plots'),\n",
    "]"
   ]
  },
  {
   "cell_type": "code",
   "execution_count": 128,
   "metadata": {
    "scrolled": false
   },
   "outputs": [
    {
     "data": {
      "image/png": "[encoded data removed]",
      "text/plain": [
       "<Figure size 1152x576 with 3 Axes>"
      ]
     },
     "metadata": {
      "needs_background": "light"
     },
     "output_type": "display_data"
    },
    {
     "data": {
      "image/png": "[encoded data removed]",
      "text/plain": [
       "<Figure size 1152x576 with 3 Axes>"
      ]
     },
     "metadata": {
      "needs_background": "light"
     },
     "output_type": "display_data"
    },
    {
     "data": {
      "image/png": "[encoded data removed]",
      "text/plain": [
       "<Figure size 1152x576 with 3 Axes>"
      ]
     },
     "metadata": {
      "needs_background": "light"
     },
     "output_type": "display_data"
    },
    {
     "data": {
      "image/png": "[encoded data removed]",
      "text/plain": [
       "<Figure size 1152x576 with 3 Axes>"
      ]
     },
     "metadata": {
      "needs_background": "light"
     },
     "output_type": "display_data"
    },
    {
     "data": {
      "image/png": "[encoded data removed]",
      "text/plain": [
       "<Figure size 1152x576 with 3 Axes>"
      ]
     },
     "metadata": {
      "needs_background": "light"
     },
     "output_type": "display_data"
    },
    {
     "data": {
      "image/png": "[encoded data removed]",
      "text/plain": [
       "<Figure size 1152x576 with 3 Axes>"
      ]
     },
     "metadata": {
      "needs_background": "light"
     },
     "output_type": "display_data"
    }
   ],
   "source": [
    "for pred, title in preds_and_titles:\n",
    "    resid_plots(pred,title);"
   ]
  },
  {
   "cell_type": "markdown",
   "metadata": {},
   "source": [
    "Examining our residual plots against holdout data, we see solid normality of residuals, tolerable but noteworthy heteroscedasticity, and strong linearity in the relationship between predicted and true values. While our model has some issues with predicting very high values, we're confident in the overall fit."
   ]
  },
  {
   "cell_type": "markdown",
   "metadata": {},
   "source": [
    "## Conclusion & Recommendations"
   ]
  },
  {
   "cell_type": "markdown",
   "metadata": {},
   "source": [
    "Our final model has an MSRE of 17894, which can be taken to mean \"The average error in predicted sale price for the model is \\\\$17,894.\"\n",
    "\n",
    "We believe this model is fundamentally sound, as it violates only one LINE assumption (homoscedasticity), and does not show signs of overfitting based on the difference in R2 scores for training and holdout data. Its final test will be against Kaggle, where we are 2nd on the leaderboard at time of writing with an MSRE of 19698.\n",
    "\n",
    "While the low-level projection of the model (Sale Price plus or minus MSRE) is easily interpretable, it is important to note that we have not selected models whose coefficients can be interpreted straightforwardly, particularly due to transformations of our independent variables. This is still addressable in a production context with some work, but is an evaluation factor depending on the context of application. Since the uniform-weight ensemble model is simply the mean of all 5 input model's predictions, we can distinguish how much weight each individual X-variable in a given prediction, and what that impact had on the overall valuation.\n",
    "\n",
    "We believe this is a strong proof-of-concept for an on-demand housing valuation model, and should be the basis for Parameter Inc.'s housing valuation product moving forward."
   ]
  },
  {
   "cell_type": "markdown",
   "metadata": {},
   "source": [
    "## References"
   ]
  },
  {
   "cell_type": "markdown",
   "metadata": {},
   "source": [
    "- [Plaintext Data Dictionary](http://jse.amstat.org/v19n3/decock/DataDocumentation.txt)\n",
    "- [Formatted Data Dictionary (Kaggle)](https://www.kaggle.com/c/dsi-us-12-project-2-regression-challenge/data)\n",
    "- [Reference for management of data cleaning with variable values in training and test set](https://medium.com/@vaibhavshukla182/how-to-solve-mismatch-in-train-and-test-set-after-categorical-encoding-8320ed03552f)\n",
    "- [Heavily referenced notebook for feature engineering workflow. Attribution given in markdown where code was copied or adapted](https://www.kaggle.com/juliencs/a-study-on-regression-applied-to-the-ames-dataset)\n",
    "- [Heavily referenced notebook for feature engineering, XGBoost Hyperparameter benchmarks, and ensemble model implementation](https://www.kaggle.com/serigne/stacked-regressions-top-4-on-leaderboard)\n",
    "- [Reference for selecting SGDRegressor Hyperparameters](http://dsdeepdive.blogspot.com/2015/08/hyperparameter-optimization-with-python.html)\n",
    "- [Code used for selecting XGBoost Hyperparameters](https://blog.cambridgespark.com/hyperparameter-tuning-in-xgboost-4ff9100a3b2f)"
   ]
  }
 ],
 "metadata": {
  "kernelspec": {
   "display_name": "Python 3",
   "language": "python",
   "name": "python3"
  },
  "language_info": {
   "codemirror_mode": {
    "name": "ipython",
    "version": 3
   },
   "file_extension": ".py",
   "mimetype": "text/x-python",
   "name": "python",
   "nbconvert_exporter": "python",
   "pygments_lexer": "ipython3",
   "version": "3.7.6"
  },
  "toc": {
   "base_numbering": 1,
   "nav_menu": {},
   "number_sections": true,
   "sideBar": true,
   "skip_h1_title": false,
   "title_cell": "Table of Contents",
   "title_sidebar": "Contents",
   "toc_cell": false,
   "toc_position": {},
   "toc_section_display": true,
   "toc_window_display": false
  },
  "varInspector": {
   "cols": {
    "lenName": 16,
    "lenType": 16,
    "lenVar": 40
   },
   "kernels_config": {
    "python": {
     "delete_cmd_postfix": "",
     "delete_cmd_prefix": "del ",
     "library": "var_list.py",
     "varRefreshCmd": "print(var_dic_list())"
    },
    "r": {
     "delete_cmd_postfix": ") ",
     "delete_cmd_prefix": "rm(",
     "library": "var_list.r",
     "varRefreshCmd": "cat(var_dic_list()) "
    }
   },
   "types_to_exclude": [
    "module",
    "function",
    "builtin_function_or_method",
    "instance",
    "_Feature"
   ],
   "window_display": false
  }
 },
 "nbformat": 4,
 "nbformat_minor": 4
}
